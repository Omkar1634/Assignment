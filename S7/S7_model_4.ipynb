{
 "cells": [
  {
   "cell_type": "code",
   "execution_count": 1,
   "metadata": {},
   "outputs": [
    {
     "name": "stderr",
     "output_type": "stream",
     "text": [
      "c:\\Users\\Aai\\anaconda3\\envs\\pytorch\\Lib\\site-packages\\torchvision\\io\\image.py:13: UserWarning: Failed to load image Python extension: '[WinError 127] The specified procedure could not be found'If you don't plan on using image functionality from `torchvision.io`, you can ignore this warning. Otherwise, there might be something wrong with your environment. Did you have `libjpeg` or `libpng` installed before building `torchvision` from source?\n",
      "  warn(\n",
      "c:\\Users\\Aai\\anaconda3\\envs\\pytorch\\Lib\\site-packages\\transformers\\utils\\generic.py:441: UserWarning: torch.utils._pytree._register_pytree_node is deprecated. Please use torch.utils._pytree.register_pytree_node instead.\n",
      "  _torch_pytree._register_pytree_node(\n"
     ]
    }
   ],
   "source": [
    "import torch\n",
    "import torch.nn as nn\n",
    "import torch.nn.functional as F\n",
    "import torch.optim as optim\n",
    "from torchvision import datasets\n",
    "import matplotlib.pyplot as plt\n",
    "\n",
    "from s7_datasets import load_data_S7_1\n",
    "from models import model_summary\n",
    "from utils import train_S7,test_S7,plot_acc_loss_S7"
   ]
  },
  {
   "cell_type": "code",
   "execution_count": 2,
   "metadata": {},
   "outputs": [
    {
     "data": {
      "text/plain": [
       "device(type='cpu')"
      ]
     },
     "execution_count": 2,
     "metadata": {},
     "output_type": "execute_result"
    }
   ],
   "source": [
    "use_cuda = torch.cuda.is_available()  # Check if CUDA (GPU support) is available\n",
    "device = torch.device(\"cuda\" if use_cuda else \"cpu\")  # Select GPU if available, otherwise fall back to CPU\n",
    "device  # Display the selected device"
   ]
  },
  {
   "cell_type": "code",
   "execution_count": 3,
   "metadata": {},
   "outputs": [],
   "source": [
    "trainloader , testloader = load_data_S7_1()"
   ]
  },
  {
   "cell_type": "code",
   "execution_count": 4,
   "metadata": {},
   "outputs": [],
   "source": [
    "# def plot_image(loader,no_images):\n",
    "#     batch_data, batch_label = next(iter(loader))\n",
    "#     _ = plt.figure()\n",
    "\n",
    "#     for i in range(no_images):\n",
    "#         plt.subplot(3,4,i+1)\n",
    "#         plt.tight_layout()\n",
    "#         plt.imshow(batch_data[i].squeeze(0), cmap='gray')\n",
    "#         plt.title(batch_label[i].item())\n",
    "#         plt.xticks([])\n",
    "#         plt.yticks([])\n",
    "\n",
    "\n",
    "# plot_image(trainloader,6)\n",
    "# plot_image(testloader,6)"
   ]
  },
  {
   "cell_type": "code",
   "execution_count": 25,
   "metadata": {},
   "outputs": [],
   "source": [
    "class S7_Model(nn.Module):\n",
    "    def __init__(self):\n",
    "        super(S7_Model, self).__init__()\n",
    "\n",
    "        self.conv1 = nn.Sequential(\n",
    "            nn.Conv2d(in_channels=1, out_channels=8, kernel_size=3, padding=1, bias=False), \n",
    "            nn.BatchNorm2d(8),\n",
    "            nn.ReLU(),\n",
    "        )\n",
    "        self.conv2 = nn.Sequential(\n",
    "            nn.Conv2d(in_channels=8, out_channels=4, kernel_size=3, padding=1),  \n",
    "            nn.BatchNorm2d(4),\n",
    "            nn.ReLU(),\n",
    "        )\n",
    "        # transition block 1\n",
    "        self.trans_block1 = nn.Sequential(\n",
    "            nn.MaxPool2d(2, 2), \n",
    "            nn.Conv2d(4, 16, 1), \n",
    "            nn.BatchNorm2d(16),\n",
    "            nn.ReLU()\n",
    "        )\n",
    "        self.conv3 = nn.Sequential(\n",
    "            nn.Conv2d(in_channels=16, out_channels=16, kernel_size=3, padding=1),  \n",
    "            nn.BatchNorm2d(16),\n",
    "            nn.ReLU(),\n",
    "            nn.MaxPool2d(2, 2),  \n",
    "        )\n",
    "        self.conv4 = nn.Sequential(\n",
    "            nn.Conv2d(16, 8, kernel_size=3, padding=1), \n",
    "            nn.ReLU(),  \n",
    "            nn.BatchNorm2d(8),\n",
    "            nn.Dropout(0.2)  \n",
    "        )\n",
    "        self.conv5 = nn.Sequential(\n",
    "            nn.Conv2d(8, 4, kernel_size=1),\n",
    "            nn.ReLU(),\n",
    "        )\n",
    "        self.conv6 = nn.Sequential(\n",
    "            nn.Conv2d(4, 8, kernel_size=1),\n",
    "            nn.ReLU(),\n",
    "        )\n",
    "        self.conv7 = nn.Sequential(\n",
    "            nn.Conv2d(8,10, kernel_size=1),\n",
    "            nn.AdaptiveAvgPool2d(1),\n",
    "        )\n",
    "        self.gap = nn.Sequential(\n",
    "            nn.AvgPool2d(kernel_size=1)\n",
    "        )\n",
    "\n",
    "        self.dropout = nn.Dropout(0.25)\n",
    "\n",
    "        self.conv1x1 = nn.Sequential(\n",
    "            nn.Conv2d(in_channels=10, out_channels=8, kernel_size=3, padding=1),  \n",
    "            nn.ReLU(),\n",
    "        )\n",
    "        \n",
    "        # self.conv1x1_2 = nn.Sequential(\n",
    "        #     nn.Conv2d(in_channels=8, out_channels=2, kernel_size=3, padding=1), \n",
    "        #     nn.BatchNorm2d(2),\n",
    "        #     nn.ReLU(),\n",
    "        # )\n",
    "    def forward(self, x):\n",
    "        x = self.conv1(x)\n",
    "        x = self.conv2(x)\n",
    "        x = self.trans_block1(x)\n",
    "        x = self.conv3(x)\n",
    "        x = self.conv4(x)\n",
    "        x = self.conv5(x)\n",
    "        x = self.conv6(x)\n",
    "        x = self.conv7(x)\n",
    "\n",
    "        x = x.view(-1,10)  \n",
    "        x = F.log_softmax(x, dim=1)\n",
    "        return x\n"
   ]
  },
  {
   "cell_type": "code",
   "execution_count": 26,
   "metadata": {},
   "outputs": [
    {
     "name": "stdout",
     "output_type": "stream",
     "text": [
      "----------------------------------------------------------------\n",
      "        Layer (type)               Output Shape         Param #\n",
      "================================================================\n",
      "            Conv2d-1            [-1, 8, 28, 28]              72\n",
      "       BatchNorm2d-2            [-1, 8, 28, 28]              16\n",
      "              ReLU-3            [-1, 8, 28, 28]               0\n",
      "            Conv2d-4            [-1, 4, 28, 28]             292\n",
      "       BatchNorm2d-5            [-1, 4, 28, 28]               8\n",
      "              ReLU-6            [-1, 4, 28, 28]               0\n",
      "         MaxPool2d-7            [-1, 4, 14, 14]               0\n",
      "            Conv2d-8           [-1, 16, 14, 14]              80\n",
      "       BatchNorm2d-9           [-1, 16, 14, 14]              32\n",
      "             ReLU-10           [-1, 16, 14, 14]               0\n",
      "           Conv2d-11           [-1, 16, 14, 14]           2,320\n",
      "      BatchNorm2d-12           [-1, 16, 14, 14]              32\n",
      "             ReLU-13           [-1, 16, 14, 14]               0\n",
      "        MaxPool2d-14             [-1, 16, 7, 7]               0\n",
      "           Conv2d-15              [-1, 8, 7, 7]           1,160\n",
      "             ReLU-16              [-1, 8, 7, 7]               0\n",
      "      BatchNorm2d-17              [-1, 8, 7, 7]              16\n",
      "          Dropout-18              [-1, 8, 7, 7]               0\n",
      "           Conv2d-19              [-1, 4, 7, 7]              36\n",
      "             ReLU-20              [-1, 4, 7, 7]               0\n",
      "           Conv2d-21              [-1, 8, 7, 7]              40\n",
      "             ReLU-22              [-1, 8, 7, 7]               0\n",
      "           Conv2d-23             [-1, 10, 7, 7]              90\n",
      "AdaptiveAvgPool2d-24             [-1, 10, 1, 1]               0\n",
      "================================================================\n",
      "Total params: 4,194\n",
      "Trainable params: 4,194\n",
      "Non-trainable params: 0\n",
      "----------------------------------------------------------------\n",
      "Input size (MB): 0.00\n",
      "Forward/backward pass size (MB): 0.40\n",
      "Params size (MB): 0.02\n",
      "Estimated Total Size (MB): 0.41\n",
      "----------------------------------------------------------------\n"
     ]
    }
   ],
   "source": [
    "\n",
    "model = S7_Model()\n",
    "model_summary(model,input_size=(1,28,28))"
   ]
  },
  {
   "cell_type": "code",
   "execution_count": 27,
   "metadata": {},
   "outputs": [
    {
     "name": "stderr",
     "output_type": "stream",
     "text": [
      "c:\\Users\\Aai\\anaconda3\\envs\\pytorch\\Lib\\site-packages\\torch\\optim\\lr_scheduler.py:28: UserWarning: The verbose parameter is deprecated. Please use get_last_lr() to access the learning rate.\n",
      "  warnings.warn(\"The verbose parameter is deprecated. Please use get_last_lr() \"\n"
     ]
    },
    {
     "name": "stdout",
     "output_type": "stream",
     "text": [
      "Epoch 1\n"
     ]
    },
    {
     "name": "stderr",
     "output_type": "stream",
     "text": [
      "Train: Loss=0.3596 Batch_id=937 Accuracy=46.43: 100%|██████████| 938/938 [00:24<00:00, 38.66it/s]\n"
     ]
    },
    {
     "name": "stdout",
     "output_type": "stream",
     "text": [
      "Test set: Average loss: 0.0078, Accuracy: 8323/10000 (83.23%)\n",
      "\n",
      "Epoch 2\n"
     ]
    },
    {
     "name": "stderr",
     "output_type": "stream",
     "text": [
      "Train: Loss=0.5095 Batch_id=937 Accuracy=86.82: 100%|██████████| 938/938 [00:27<00:00, 33.82it/s]\n"
     ]
    },
    {
     "name": "stdout",
     "output_type": "stream",
     "text": [
      "Test set: Average loss: 0.0031, Accuracy: 9465/10000 (94.65%)\n",
      "\n",
      "Epoch 3\n"
     ]
    },
    {
     "name": "stderr",
     "output_type": "stream",
     "text": [
      "Train: Loss=0.0737 Batch_id=937 Accuracy=90.49: 100%|██████████| 938/938 [00:26<00:00, 34.76it/s]\n"
     ]
    },
    {
     "name": "stdout",
     "output_type": "stream",
     "text": [
      "Test set: Average loss: 0.0029, Accuracy: 9482/10000 (94.82%)\n",
      "\n",
      "Epoch 4\n"
     ]
    },
    {
     "name": "stderr",
     "output_type": "stream",
     "text": [
      "Train: Loss=0.1117 Batch_id=937 Accuracy=91.81: 100%|██████████| 938/938 [00:26<00:00, 35.64it/s]\n"
     ]
    },
    {
     "name": "stdout",
     "output_type": "stream",
     "text": [
      "Test set: Average loss: 0.0026, Accuracy: 9515/10000 (95.15%)\n",
      "\n",
      "Epoch 5\n"
     ]
    },
    {
     "name": "stderr",
     "output_type": "stream",
     "text": [
      "Train: Loss=0.2624 Batch_id=937 Accuracy=92.54: 100%|██████████| 938/938 [00:26<00:00, 35.94it/s]\n"
     ]
    },
    {
     "name": "stdout",
     "output_type": "stream",
     "text": [
      "Test set: Average loss: 0.0020, Accuracy: 9650/10000 (96.50%)\n",
      "\n",
      "Epoch 6\n"
     ]
    },
    {
     "name": "stderr",
     "output_type": "stream",
     "text": [
      "Train: Loss=0.1738 Batch_id=937 Accuracy=94.30: 100%|██████████| 938/938 [00:26<00:00, 35.05it/s]\n"
     ]
    },
    {
     "name": "stdout",
     "output_type": "stream",
     "text": [
      "Test set: Average loss: 0.0016, Accuracy: 9724/10000 (97.24%)\n",
      "\n",
      "Epoch 7\n"
     ]
    },
    {
     "name": "stderr",
     "output_type": "stream",
     "text": [
      "Train: Loss=0.1435 Batch_id=937 Accuracy=94.42: 100%|██████████| 938/938 [00:26<00:00, 35.54it/s]\n"
     ]
    },
    {
     "name": "stdout",
     "output_type": "stream",
     "text": [
      "Test set: Average loss: 0.0015, Accuracy: 9721/10000 (97.21%)\n",
      "\n",
      "Epoch 8\n"
     ]
    },
    {
     "name": "stderr",
     "output_type": "stream",
     "text": [
      "Train: Loss=0.2810 Batch_id=937 Accuracy=94.66: 100%|██████████| 938/938 [00:26<00:00, 35.88it/s]\n"
     ]
    },
    {
     "name": "stdout",
     "output_type": "stream",
     "text": [
      "Test set: Average loss: 0.0015, Accuracy: 9731/10000 (97.31%)\n",
      "\n",
      "Epoch 9\n"
     ]
    },
    {
     "name": "stderr",
     "output_type": "stream",
     "text": [
      "Train: Loss=0.1237 Batch_id=937 Accuracy=94.76: 100%|██████████| 938/938 [00:26<00:00, 35.99it/s]\n"
     ]
    },
    {
     "name": "stdout",
     "output_type": "stream",
     "text": [
      "Test set: Average loss: 0.0014, Accuracy: 9720/10000 (97.20%)\n",
      "\n",
      "Epoch 10\n"
     ]
    },
    {
     "name": "stderr",
     "output_type": "stream",
     "text": [
      "Train: Loss=0.2169 Batch_id=937 Accuracy=94.64: 100%|██████████| 938/938 [00:26<00:00, 35.75it/s]\n"
     ]
    },
    {
     "name": "stdout",
     "output_type": "stream",
     "text": [
      "Test set: Average loss: 0.0014, Accuracy: 9734/10000 (97.34%)\n",
      "\n",
      "Epoch 11\n"
     ]
    },
    {
     "name": "stderr",
     "output_type": "stream",
     "text": [
      "Train: Loss=0.2710 Batch_id=937 Accuracy=94.85: 100%|██████████| 938/938 [00:26<00:00, 35.73it/s]\n"
     ]
    },
    {
     "name": "stdout",
     "output_type": "stream",
     "text": [
      "Test set: Average loss: 0.0014, Accuracy: 9739/10000 (97.39%)\n",
      "\n",
      "Epoch 12\n"
     ]
    },
    {
     "name": "stderr",
     "output_type": "stream",
     "text": [
      "Train: Loss=0.0206 Batch_id=937 Accuracy=94.90: 100%|██████████| 938/938 [00:26<00:00, 35.54it/s]\n"
     ]
    },
    {
     "name": "stdout",
     "output_type": "stream",
     "text": [
      "Test set: Average loss: 0.0014, Accuracy: 9743/10000 (97.43%)\n",
      "\n",
      "Epoch 13\n"
     ]
    },
    {
     "name": "stderr",
     "output_type": "stream",
     "text": [
      "Train: Loss=0.0386 Batch_id=937 Accuracy=94.79: 100%|██████████| 938/938 [00:26<00:00, 35.40it/s]\n"
     ]
    },
    {
     "name": "stdout",
     "output_type": "stream",
     "text": [
      "Test set: Average loss: 0.0014, Accuracy: 9745/10000 (97.45%)\n",
      "\n",
      "Epoch 14\n"
     ]
    },
    {
     "name": "stderr",
     "output_type": "stream",
     "text": [
      "Train: Loss=0.0982 Batch_id=937 Accuracy=94.87: 100%|██████████| 938/938 [00:26<00:00, 35.44it/s]\n"
     ]
    },
    {
     "name": "stdout",
     "output_type": "stream",
     "text": [
      "Test set: Average loss: 0.0014, Accuracy: 9735/10000 (97.35%)\n",
      "\n",
      "Epoch 15\n"
     ]
    },
    {
     "name": "stderr",
     "output_type": "stream",
     "text": [
      "Train: Loss=0.1678 Batch_id=937 Accuracy=94.68: 100%|██████████| 938/938 [00:24<00:00, 37.86it/s]\n"
     ]
    },
    {
     "name": "stdout",
     "output_type": "stream",
     "text": [
      "Test set: Average loss: 0.0014, Accuracy: 9749/10000 (97.49%)\n",
      "\n"
     ]
    }
   ],
   "source": [
    "model = S7_Model().to(device)\n",
    "optimizer = optim.SGD(model.parameters(), lr=0.01,momentum=0.9)\n",
    "scheduler = optim.lr_scheduler.StepLR(optimizer, step_size=5, gamma=0.1, verbose=True)\n",
    "# New Line\n",
    "criterion = F.nll_loss\n",
    "num_epochs = 15\n",
    "\n",
    "\n",
    "\n",
    "\n",
    "for epoch in range(1, num_epochs+1):\n",
    "  print(f'Epoch {epoch}')\n",
    "  train_S7(model, device, trainloader, optimizer,criterion)\n",
    "  scheduler.step()\n",
    "  test_S7(model, device, testloader, criterion)\n",
    "  \n"
   ]
  },
  {
   "cell_type": "code",
   "execution_count": 22,
   "metadata": {},
   "outputs": [
    {
     "data": {
      "image/png": "[encoded data removed]",
      "text/plain": [
       "<Figure size 1500x1000 with 4 Axes>"
      ]
     },
     "metadata": {},
     "output_type": "display_data"
    }
   ],
   "source": [
    "plot_acc_loss_S7()"
   ]
  },
  {
   "cell_type": "code",
   "execution_count": null,
   "metadata": {},
   "outputs": [],
   "source": []
  }
 ],
 "metadata": {
  "kernelspec": {
   "display_name": "pytorch",
   "language": "python",
   "name": "python3"
  },
  "language_info": {
   "codemirror_mode": {
    "name": "ipython",
    "version": 3
   },
   "file_extension": ".py",
   "mimetype": "text/x-python",
   "name": "python",
   "nbconvert_exporter": "python",
   "pygments_lexer": "ipython3",
   "version": "3.11.5"
  }
 },
 "nbformat": 4,
 "nbformat_minor": 2
}
