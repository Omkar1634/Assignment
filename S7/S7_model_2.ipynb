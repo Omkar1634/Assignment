{
 "cells": [
  {
   "cell_type": "code",
   "execution_count": 1,
   "metadata": {},
   "outputs": [
    {
     "name": "stderr",
     "output_type": "stream",
     "text": [
      "c:\\Users\\Aai\\anaconda3\\envs\\pytorch\\Lib\\site-packages\\torchvision\\io\\image.py:13: UserWarning: Failed to load image Python extension: '[WinError 127] The specified procedure could not be found'If you don't plan on using image functionality from `torchvision.io`, you can ignore this warning. Otherwise, there might be something wrong with your environment. Did you have `libjpeg` or `libpng` installed before building `torchvision` from source?\n",
      "  warn(\n",
      "c:\\Users\\Aai\\anaconda3\\envs\\pytorch\\Lib\\site-packages\\transformers\\utils\\generic.py:441: UserWarning: torch.utils._pytree._register_pytree_node is deprecated. Please use torch.utils._pytree.register_pytree_node instead.\n",
      "  _torch_pytree._register_pytree_node(\n"
     ]
    }
   ],
   "source": [
    "import torch\n",
    "import torch.nn as nn\n",
    "import torch.nn.functional as F\n",
    "import torch.optim as optim\n",
    "from torchvision import datasets\n",
    "import matplotlib.pyplot as plt\n",
    "\n",
    "from s7_datasets import load_data_S7_1\n",
    "from models import model_summary\n",
    "from utils import train_S7,test_S7,plot_acc_loss_S7"
   ]
  },
  {
   "cell_type": "code",
   "execution_count": 2,
   "metadata": {},
   "outputs": [
    {
     "data": {
      "text/plain": [
       "device(type='cpu')"
      ]
     },
     "execution_count": 2,
     "metadata": {},
     "output_type": "execute_result"
    }
   ],
   "source": [
    "use_cuda = torch.cuda.is_available()  # Check if CUDA (GPU support) is available\n",
    "device = torch.device(\"cuda\" if use_cuda else \"cpu\")  # Select GPU if available, otherwise fall back to CPU\n",
    "device  # Display the selected device"
   ]
  },
  {
   "cell_type": "code",
   "execution_count": 3,
   "metadata": {},
   "outputs": [],
   "source": [
    "train_loader , test_loader = load_data_S7_1()"
   ]
  },
  {
   "cell_type": "code",
   "execution_count": 4,
   "metadata": {},
   "outputs": [],
   "source": [
    "class S7_Model_2(nn.Module):\n",
    "    def __init__(self):\n",
    "        super(S7_Model_2, self).__init__()\n",
    "        self.conv1 = nn.Sequential(\n",
    "            nn.Conv2d(in_channels=1, out_channels=32, kernel_size=7, padding=3, bias=False), \n",
    "            nn.BatchNorm2d(32),\n",
    "            nn.ReLU(),\n",
    "            nn.Dropout(0.25)\n",
    "\n",
    "            )\n",
    "        \n",
    "        self.trans_block1 = nn.Sequential(\n",
    "            nn.MaxPool2d(2, 2), \n",
    "            nn.Conv2d(32, 16, 1), \n",
    "            nn.BatchNorm2d(16),\n",
    "            nn.ReLU()\n",
    "        )\n",
    "        self.conv2 = nn.Sequential(\n",
    "            nn.Conv2d(in_channels=16, out_channels=8, kernel_size=5, padding=2),  \n",
    "            nn.BatchNorm2d(8),\n",
    "            nn.ReLU(),\n",
    "            nn.Dropout(0.25)\n",
    "            \n",
    "        )\n",
    "        self.conv3 = nn.Sequential(\n",
    "            nn.Conv2d(in_channels=8, out_channels=4, kernel_size=3, padding=1),  \n",
    "            nn.BatchNorm2d(4),\n",
    "            nn.ReLU(),\n",
    "            nn.MaxPool2d(2, 2),\n",
    "            nn.Dropout(0.25)  \n",
    "        )\n",
    "        self.trans_block2 = nn.Sequential(\n",
    "            nn.MaxPool2d(2, 2), \n",
    "            nn.Conv2d(4, 32, 1), \n",
    "            nn.BatchNorm2d(32),\n",
    "            nn.ReLU()\n",
    "        )\n",
    "        \n",
    "        self.conv4 = nn.Sequential(\n",
    "            nn.Conv2d(32, 16, kernel_size=3, padding=1),\n",
    "            nn.ReLU(),     \n",
    "        )\n",
    "        self.conv5 = nn.Sequential(\n",
    "            nn.Conv2d(16, 10, kernel_size=1),\n",
    "            nn.ReLU(),\n",
    "        )\n",
    "        \n",
    "\n",
    "        \n",
    "        \n",
    "        # self.conv1x1_2 = nn.Sequential(\n",
    "        #     nn.Conv2d(in_channels=8, out_channels=2, kernel_size=3, padding=1), \n",
    "        #     nn.BatchNorm2d(2),\n",
    "        #     nn.ReLU(),\n",
    "        # )\n",
    "    def forward(self, x):\n",
    "            x = self.conv1(x)\n",
    "            x = self.trans_block1(x)\n",
    "            x = self.conv2(x)\n",
    "            x = self.conv3(x)\n",
    "            x = self.trans_block2(x)\n",
    "            x = self.conv4(x)\n",
    "            x = self.conv5(x)\n",
    "\n",
    "            x = x.view(x.size(0), -1)  \n",
    "            x = F.log_softmax(x, dim=1)\n",
    "            return x"
   ]
  },
  {
   "cell_type": "code",
   "execution_count": 5,
   "metadata": {},
   "outputs": [
    {
     "name": "stdout",
     "output_type": "stream",
     "text": [
      "----------------------------------------------------------------\n",
      "        Layer (type)               Output Shape         Param #\n",
      "================================================================\n",
      "            Conv2d-1           [-1, 32, 28, 28]           1,568\n",
      "       BatchNorm2d-2           [-1, 32, 28, 28]              64\n",
      "              ReLU-3           [-1, 32, 28, 28]               0\n",
      "           Dropout-4           [-1, 32, 28, 28]               0\n",
      "         MaxPool2d-5           [-1, 32, 14, 14]               0\n",
      "            Conv2d-6           [-1, 16, 14, 14]             528\n",
      "       BatchNorm2d-7           [-1, 16, 14, 14]              32\n",
      "              ReLU-8           [-1, 16, 14, 14]               0\n",
      "            Conv2d-9            [-1, 8, 14, 14]           3,208\n",
      "      BatchNorm2d-10            [-1, 8, 14, 14]              16\n",
      "             ReLU-11            [-1, 8, 14, 14]               0\n",
      "          Dropout-12            [-1, 8, 14, 14]               0\n",
      "           Conv2d-13            [-1, 4, 14, 14]             292\n",
      "      BatchNorm2d-14            [-1, 4, 14, 14]               8\n",
      "             ReLU-15            [-1, 4, 14, 14]               0\n",
      "        MaxPool2d-16              [-1, 4, 7, 7]               0\n",
      "          Dropout-17              [-1, 4, 7, 7]               0\n",
      "        MaxPool2d-18              [-1, 4, 3, 3]               0\n",
      "           Conv2d-19             [-1, 32, 3, 3]             160\n",
      "      BatchNorm2d-20             [-1, 32, 3, 3]              64\n",
      "             ReLU-21             [-1, 32, 3, 3]               0\n",
      "           Conv2d-22             [-1, 16, 3, 3]           4,624\n",
      "             ReLU-23             [-1, 16, 3, 3]               0\n",
      "           Conv2d-24             [-1, 10, 3, 3]             170\n",
      "             ReLU-25             [-1, 10, 3, 3]               0\n",
      "================================================================\n",
      "Total params: 10,734\n",
      "Trainable params: 10,734\n",
      "Non-trainable params: 0\n",
      "----------------------------------------------------------------\n",
      "Input size (MB): 0.00\n",
      "Forward/backward pass size (MB): 0.96\n",
      "Params size (MB): 0.04\n",
      "Estimated Total Size (MB): 1.01\n",
      "----------------------------------------------------------------\n"
     ]
    }
   ],
   "source": [
    "model = S7_Model_2()\n",
    "model_summary(model,input_size=(1,28,28))"
   ]
  },
  {
   "cell_type": "code",
   "execution_count": 6,
   "metadata": {},
   "outputs": [
    {
     "name": "stderr",
     "output_type": "stream",
     "text": [
      "c:\\Users\\Aai\\anaconda3\\envs\\pytorch\\Lib\\site-packages\\torch\\optim\\lr_scheduler.py:28: UserWarning: The verbose parameter is deprecated. Please use get_last_lr() to access the learning rate.\n",
      "  warnings.warn(\"The verbose parameter is deprecated. Please use get_last_lr() \"\n"
     ]
    },
    {
     "name": "stdout",
     "output_type": "stream",
     "text": [
      "Epoch 1\n"
     ]
    },
    {
     "name": "stderr",
     "output_type": "stream",
     "text": [
      "Train: Loss=0.2448 Batch_id=937 Accuracy=81.19: 100%|██████████| 938/938 [01:12<00:00, 13.02it/s]\n"
     ]
    },
    {
     "name": "stdout",
     "output_type": "stream",
     "text": [
      "Test set: Average loss: 0.0058, Accuracy: 9060/10000 (90.60%)\n",
      "\n",
      "Epoch 2\n"
     ]
    },
    {
     "name": "stderr",
     "output_type": "stream",
     "text": [
      "Train: Loss=0.4516 Batch_id=937 Accuracy=91.92: 100%|██████████| 938/938 [01:09<00:00, 13.46it/s]\n"
     ]
    },
    {
     "name": "stdout",
     "output_type": "stream",
     "text": [
      "Test set: Average loss: 0.0067, Accuracy: 8754/10000 (87.54%)\n",
      "\n",
      "Epoch 3\n"
     ]
    },
    {
     "name": "stderr",
     "output_type": "stream",
     "text": [
      "Train: Loss=0.2063 Batch_id=937 Accuracy=93.49: 100%|██████████| 938/938 [00:41<00:00, 22.58it/s]\n"
     ]
    },
    {
     "name": "stdout",
     "output_type": "stream",
     "text": [
      "Test set: Average loss: 0.0057, Accuracy: 8914/10000 (89.14%)\n",
      "\n",
      "Epoch 4\n"
     ]
    },
    {
     "name": "stderr",
     "output_type": "stream",
     "text": [
      "Train: Loss=0.1981 Batch_id=937 Accuracy=94.16: 100%|██████████| 938/938 [00:34<00:00, 27.11it/s]\n"
     ]
    },
    {
     "name": "stdout",
     "output_type": "stream",
     "text": [
      "Test set: Average loss: 0.0052, Accuracy: 8992/10000 (89.92%)\n",
      "\n",
      "Epoch 5\n"
     ]
    },
    {
     "name": "stderr",
     "output_type": "stream",
     "text": [
      "Train: Loss=0.0738 Batch_id=937 Accuracy=94.84: 100%|██████████| 938/938 [00:34<00:00, 26.96it/s]\n"
     ]
    },
    {
     "name": "stdout",
     "output_type": "stream",
     "text": [
      "Test set: Average loss: 0.0038, Accuracy: 9361/10000 (93.61%)\n",
      "\n",
      "Epoch 6\n"
     ]
    },
    {
     "name": "stderr",
     "output_type": "stream",
     "text": [
      "Train: Loss=0.0124 Batch_id=937 Accuracy=95.21: 100%|██████████| 938/938 [00:34<00:00, 27.00it/s]\n"
     ]
    },
    {
     "name": "stdout",
     "output_type": "stream",
     "text": [
      "Test set: Average loss: 0.0035, Accuracy: 9355/10000 (93.55%)\n",
      "\n",
      "Epoch 7\n"
     ]
    },
    {
     "name": "stderr",
     "output_type": "stream",
     "text": [
      "Train: Loss=0.0340 Batch_id=937 Accuracy=95.44: 100%|██████████| 938/938 [00:39<00:00, 23.69it/s]\n"
     ]
    },
    {
     "name": "stdout",
     "output_type": "stream",
     "text": [
      "Test set: Average loss: 0.0036, Accuracy: 9373/10000 (93.73%)\n",
      "\n",
      "Epoch 8\n"
     ]
    },
    {
     "name": "stderr",
     "output_type": "stream",
     "text": [
      "Train: Loss=0.0771 Batch_id=937 Accuracy=95.67: 100%|██████████| 938/938 [00:46<00:00, 20.04it/s]\n"
     ]
    },
    {
     "name": "stdout",
     "output_type": "stream",
     "text": [
      "Test set: Average loss: 0.0035, Accuracy: 9363/10000 (93.63%)\n",
      "\n",
      "Epoch 9\n"
     ]
    },
    {
     "name": "stderr",
     "output_type": "stream",
     "text": [
      "Train: Loss=0.1175 Batch_id=937 Accuracy=95.73: 100%|██████████| 938/938 [00:45<00:00, 20.44it/s]\n"
     ]
    },
    {
     "name": "stdout",
     "output_type": "stream",
     "text": [
      "Test set: Average loss: 0.0030, Accuracy: 9466/10000 (94.66%)\n",
      "\n",
      "Epoch 10\n"
     ]
    },
    {
     "name": "stderr",
     "output_type": "stream",
     "text": [
      "Train: Loss=0.0181 Batch_id=937 Accuracy=95.88: 100%|██████████| 938/938 [00:41<00:00, 22.36it/s]\n"
     ]
    },
    {
     "name": "stdout",
     "output_type": "stream",
     "text": [
      "Test set: Average loss: 0.0022, Accuracy: 9620/10000 (96.20%)\n",
      "\n",
      "Epoch 11\n"
     ]
    },
    {
     "name": "stderr",
     "output_type": "stream",
     "text": [
      "Train: Loss=0.0122 Batch_id=937 Accuracy=96.05: 100%|██████████| 938/938 [00:39<00:00, 23.78it/s]\n"
     ]
    },
    {
     "name": "stdout",
     "output_type": "stream",
     "text": [
      "Test set: Average loss: 0.0023, Accuracy: 9630/10000 (96.30%)\n",
      "\n",
      "Epoch 12\n"
     ]
    },
    {
     "name": "stderr",
     "output_type": "stream",
     "text": [
      "Train: Loss=0.2329 Batch_id=937 Accuracy=96.25: 100%|██████████| 938/938 [00:41<00:00, 22.60it/s]\n"
     ]
    },
    {
     "name": "stdout",
     "output_type": "stream",
     "text": [
      "Test set: Average loss: 0.0037, Accuracy: 9273/10000 (92.73%)\n",
      "\n",
      "Epoch 13\n"
     ]
    },
    {
     "name": "stderr",
     "output_type": "stream",
     "text": [
      "Train: Loss=0.0270 Batch_id=937 Accuracy=96.36: 100%|██████████| 938/938 [00:38<00:00, 24.24it/s]\n"
     ]
    },
    {
     "name": "stdout",
     "output_type": "stream",
     "text": [
      "Test set: Average loss: 0.0031, Accuracy: 9435/10000 (94.35%)\n",
      "\n",
      "Epoch 14\n"
     ]
    },
    {
     "name": "stderr",
     "output_type": "stream",
     "text": [
      "Train: Loss=0.1352 Batch_id=937 Accuracy=96.34: 100%|██████████| 938/938 [00:37<00:00, 25.28it/s]\n"
     ]
    },
    {
     "name": "stdout",
     "output_type": "stream",
     "text": [
      "Test set: Average loss: 0.0024, Accuracy: 9562/10000 (95.62%)\n",
      "\n",
      "Epoch 15\n"
     ]
    },
    {
     "name": "stderr",
     "output_type": "stream",
     "text": [
      "Train: Loss=0.0420 Batch_id=937 Accuracy=96.38: 100%|██████████| 938/938 [00:36<00:00, 26.04it/s]\n"
     ]
    },
    {
     "name": "stdout",
     "output_type": "stream",
     "text": [
      "Test set: Average loss: 0.0017, Accuracy: 9714/10000 (97.14%)\n",
      "\n"
     ]
    }
   ],
   "source": [
    "model = S7_Model_2().to(device)\n",
    "optimizer = optim.SGD(model.parameters(), lr=0.01,momentum=0.9)\n",
    "scheduler = optim.lr_scheduler.StepLR(optimizer, step_size=15, gamma=0.1, verbose=True)\n",
    "# New Line\n",
    "criterion = F.nll_loss\n",
    "num_epochs = 15\n",
    "\n",
    "\n",
    "\n",
    "\n",
    "for epoch in range(1, num_epochs+1):\n",
    "  print(f'Epoch {epoch}')\n",
    "  train_S7(model, device, train_loader, optimizer,criterion)\n",
    "  test_S7(model, device, test_loader, criterion)\n",
    "  scheduler.step()"
   ]
  },
  {
   "cell_type": "code",
   "execution_count": null,
   "metadata": {},
   "outputs": [],
   "source": []
  }
 ],
 "metadata": {
  "kernelspec": {
   "display_name": "pytorch",
   "language": "python",
   "name": "python3"
  },
  "language_info": {
   "codemirror_mode": {
    "name": "ipython",
    "version": 3
   },
   "file_extension": ".py",
   "mimetype": "text/x-python",
   "name": "python",
   "nbconvert_exporter": "python",
   "pygments_lexer": "ipython3",
   "version": "3.11.5"
  }
 },
 "nbformat": 4,
 "nbformat_minor": 2
}
