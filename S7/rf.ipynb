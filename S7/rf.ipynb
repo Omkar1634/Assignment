{
 "cells": [
  {
   "cell_type": "code",
   "execution_count": 1,
   "metadata": {},
   "outputs": [
    {
     "name": "stdout",
     "output_type": "stream",
     "text": [
      "Output size (n_out): 26, Jump in output (j_out): 1, Receptive field (r_out): 3\n",
      "Output size (n_out): 24, Jump in output (j_out): 1, Receptive field (r_out): 5\n",
      "Output size (n_out): 12, Jump in output (j_out): 2, Receptive field (r_out): 5\n",
      "Output size (n_out): 10, Jump in output (j_out): 2, Receptive field (r_out): 9\n",
      "Output size (n_out): 5, Jump in output (j_out): 4, Receptive field (r_out): 9\n",
      "Output size (n_out): 3, Jump in output (j_out): 4, Receptive field (r_out): 17\n",
      "Output size (n_out): 1, Jump in output (j_out): 4, Receptive field (r_out): 25\n"
     ]
    },
    {
     "data": {
      "text/plain": [
       "25"
      ]
     },
     "execution_count": 1,
     "metadata": {},
     "output_type": "execute_result"
    }
   ],
   "source": [
    "# According to the provided images, we have the formulas for calculating the output size of a layer (n_out),\n",
    "# the jump in the output layer (j_out), and the receptive field of a layer (r_out).\n",
    "\n",
    "# The calculations are as follows:\n",
    "# n_out = ((n_in + 2p - k) // s) + 1\n",
    "# j_out = j_in * s\n",
    "# r_out = r_in + (k - 1) * j_in\n",
    "\n",
    "# Define the initial parameters for the input image\n",
    "n_in = 28  # Assuming the input image is of size 32x32\n",
    "j_in = 1   # The jump is initially 1 as we start with the input image\n",
    "r_in = 1   # The initial receptive field is 1x1\n",
    "\n",
    "# Define the parameters for each layer\n",
    "layers_params = [\n",
    "    {'k': 3, 'p': 0, 's': 1},  # conv1\n",
    "    {'k': 3, 'p': 0, 's': 1},  # conv2\n",
    "    {'k': 1, 'p': 0, 's': 2},  # trans_block1 (MaxPool with stride 2 and Conv1x1)\n",
    "    {'k': 3, 'p': 0, 's': 1},  # conv3 (Before MaxPool)\n",
    "    {'k': 1, 'p': 0, 's': 2},  # conv3 (MaxPool with stride 2)\n",
    "    {'k': 3, 'p': 0, 's': 1},  # conv4\n",
    "    {'k': 3, 'p': 0, 's': 1},  # conv7\n",
    "]\n",
    "\n",
    "# Perform the calculations for each layer\n",
    "for layer in layers_params:\n",
    "    n_out = ((n_in + 2 * layer['p'] - layer['k']) // layer['s']) + 1\n",
    "    j_out = j_in * layer['s']\n",
    "    r_out = r_in + (layer['k'] - 1) * j_in\n",
    "\n",
    "    # Update for next layer iteration\n",
    "    n_in = n_out\n",
    "    j_in = j_out\n",
    "    r_in = r_out\n",
    "\n",
    "    # Print the results for the current layer\n",
    "    print(f\"Output size (n_out): {n_out}, Jump in output (j_out): {j_out}, Receptive field (r_out): {r_out}\")\n",
    "\n",
    "# The final receptive field will be the last calculated r_out\n",
    "final_receptive_field = r_out\n",
    "final_receptive_field\n"
   ]
  },
  {
   "cell_type": "code",
   "execution_count": null,
   "metadata": {},
   "outputs": [],
   "source": []
  }
 ],
 "metadata": {
  "kernelspec": {
   "display_name": "pytorch",
   "language": "python",
   "name": "python3"
  },
  "language_info": {
   "codemirror_mode": {
    "name": "ipython",
    "version": 3
   },
   "file_extension": ".py",
   "mimetype": "text/x-python",
   "name": "python",
   "nbconvert_exporter": "python",
   "pygments_lexer": "ipython3",
   "version": "3.11.5"
  }
 },
 "nbformat": 4,
 "nbformat_minor": 2
}
