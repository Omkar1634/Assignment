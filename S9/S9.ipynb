{
 "cells": [
  {
   "cell_type": "code",
   "execution_count": 1,
   "metadata": {},
   "outputs": [
    {
     "name": "stderr",
     "output_type": "stream",
     "text": [
      "c:\\Users\\Aai\\anaconda3\\envs\\pytorch\\Lib\\site-packages\\transformers\\utils\\generic.py:441: UserWarning: torch.utils._pytree._register_pytree_node is deprecated. Please use torch.utils._pytree.register_pytree_node instead.\n",
      "  _torch_pytree._register_pytree_node(\n"
     ]
    },
    {
     "name": "stdout",
     "output_type": "stream",
     "text": [
      "cuda\n"
     ]
    }
   ],
   "source": [
    "import torch\n",
    "import torch.nn as nn\n",
    "import torch.nn.functional as F\n",
    "import torch.optim as optim\n",
    "from torchvision import datasets, transforms\n",
    "import matplotlib.pyplot as plt\n",
    "import numpy as np\n",
    "from datasets import load_data_S9\n",
    "from  Utils import test,train,plot_acc_loss\n",
    "from models import model_summary\n",
    "\n",
    "device = torch.device( 'cuda' if torch.cuda.is_available() else 'cpu')\n",
    "print(device)"
   ]
  },
  {
   "cell_type": "code",
   "execution_count": 2,
   "metadata": {},
   "outputs": [
    {
     "name": "stdout",
     "output_type": "stream",
     "text": [
      "CUDA Available? True\n",
      "Files already downloaded and verified\n",
      "Files already downloaded and verified\n"
     ]
    }
   ],
   "source": [
    "train_loader , test_loader = load_data_S9()"
   ]
  },
  {
   "cell_type": "code",
   "execution_count": 3,
   "metadata": {},
   "outputs": [],
   "source": [
    "class S9_model(nn.Module):\n",
    "    def __init__(self):\n",
    "        super(S9_model,self).__init__()\n",
    "\n",
    "\n",
    "        self.convblock1 = nn.Sequential(\n",
    "            nn.Conv2d(in_channels=3,out_channels=128,kernel_size=3,padding=1),\n",
    "            nn.ReLU(),\n",
    "            nn.BatchNorm2d(128),\n",
    "            nn.Dropout2d(0.1),\n",
    "            nn.Conv2d(in_channels=128,out_channels=32,kernel_size=3,padding=1),\n",
    "            nn.ReLU(),\n",
    "            nn.Dropout2d(0.1),\n",
    "            nn.BatchNorm2d(32),\n",
    "            nn.Conv2d(in_channels=32,out_channels=32,kernel_size=3,padding=1,groups=32),\n",
    "            nn.Conv2d(in_channels=32,out_channels=32,kernel_size=1),\n",
    "            nn.BatchNorm2d(32),\n",
    "            nn.ReLU(),\n",
    "            nn.Dropout2d(0.1),\n",
    "            nn.Conv2d(in_channels=32,out_channels=32,kernel_size=3,padding=2,dilation=2),\n",
    "            nn.Conv2d(in_channels=32,out_channels=32,kernel_size=3,stride=2,padding=1),\n",
    "            nn.BatchNorm2d(32),\n",
    "            nn.ReLU(),\n",
    "            nn.Dropout2d(0.1)\n",
    "        )\n",
    "        self.convblock2 = nn.Sequential(\n",
    "            nn.Conv2d(in_channels=32,out_channels=32,kernel_size=3,padding=1),\n",
    "            nn.ReLU(),\n",
    "            nn.BatchNorm2d(32),\n",
    "            nn.Dropout2d(0.1),\n",
    "            nn.Conv2d(in_channels=32,out_channels=32,kernel_size=3,padding=1),\n",
    "            nn.ReLU(),\n",
    "            nn.BatchNorm2d(32),\n",
    "            nn.Dropout2d(0.1),\n",
    "            nn.Conv2d(in_channels=32,out_channels=32,kernel_size=3,padding=1,groups=32),\n",
    "            nn.Conv2d(in_channels=32,out_channels=32,kernel_size=1),\n",
    "            nn.BatchNorm2d(32),\n",
    "            nn.ReLU(),\n",
    "            nn.Dropout2d(0.1),\n",
    "            nn.Conv2d(in_channels=32,out_channels=32,kernel_size=3,padding=2,dilation=4),\n",
    "            nn.Conv2d(in_channels=32,out_channels=16,kernel_size=3,stride=2,padding=1),\n",
    "            nn.BatchNorm2d(16),\n",
    "            nn.ReLU(),\n",
    "            nn.Dropout2d(0.1)\n",
    "        )\n",
    "        self.convblock3 = nn.Sequential(\n",
    "            nn.Conv2d(in_channels=16,out_channels=32,kernel_size=3,padding=1),\n",
    "            nn.ReLU(),\n",
    "            nn.BatchNorm2d(32),\n",
    "            nn.Dropout2d(0.1),\n",
    "            nn.Conv2d(in_channels=32,out_channels=32,kernel_size=3,padding=1),\n",
    "            nn.ReLU(),\n",
    "            nn.BatchNorm2d(32),\n",
    "            nn.Dropout2d(0.1),\n",
    "            nn.Conv2d(in_channels=32,out_channels=32,kernel_size=3,padding=1,groups=32),\n",
    "            nn.Conv2d(in_channels=32,out_channels=64,kernel_size=1),\n",
    "            nn.BatchNorm2d(64),\n",
    "            nn.ReLU(),\n",
    "            nn.Dropout2d(0.1),\n",
    "            nn.Conv2d(in_channels=64,out_channels=32,kernel_size=3,padding=2,dilation=2),\n",
    "            nn.Conv2d(in_channels=32,out_channels=32,kernel_size=3,stride=2,padding=1),\n",
    "            nn.BatchNorm2d(32),\n",
    "            nn.ReLU(),\n",
    "            nn.Dropout2d(0.1)\n",
    "        )\n",
    "        self.convblock4 = nn.Sequential(\n",
    "            nn.Conv2d(in_channels=32,out_channels=16,kernel_size=3,padding=1),\n",
    "            nn.ReLU(),\n",
    "            nn.BatchNorm2d(16),\n",
    "            nn.Dropout2d(0.1),\n",
    "            nn.Conv2d(in_channels=16,out_channels=16,kernel_size=3,padding=1),\n",
    "            nn.ReLU(),\n",
    "            nn.BatchNorm2d(16),\n",
    "            nn.Dropout2d(0.1),\n",
    "            nn.Conv2d(in_channels=16,out_channels=16,kernel_size=3,padding=1,groups=16),\n",
    "            nn.Conv2d(in_channels=16,out_channels=16,kernel_size=1),\n",
    "            nn.BatchNorm2d(16),\n",
    "            nn.ReLU(),\n",
    "            nn.Dropout2d(0.1),\n",
    "            nn.Conv2d(in_channels=16,out_channels=16,kernel_size=3,padding=2,dilation=2),\n",
    "            nn.Conv2d(in_channels=16,out_channels=32,kernel_size=3,stride=1),\n",
    "            nn.BatchNorm2d(32),\n",
    "            nn.ReLU(),\n",
    "            nn.Dropout2d(0.1)\n",
    "        )\n",
    "        self.gap = nn.AdaptiveAvgPool2d((1,1))\n",
    "        self.fc = nn.Linear(in_features=32,out_features=10)\n",
    "\n",
    "\n",
    "    def forward(self,x):\n",
    "        x = self.convblock1(x)\n",
    "        x = self.convblock2(x)\n",
    "        x = self.convblock3(x)\n",
    "        x = self.convblock4(x)\n",
    "        x = self.gap(x)\n",
    "        x = x.view(x.size(0),-1)\n",
    "        x = self.fc(x)\n",
    "        x = F.log_softmax(x,dim=1)\n",
    "        return x"
   ]
  },
  {
   "cell_type": "code",
   "execution_count": 4,
   "metadata": {},
   "outputs": [
    {
     "name": "stdout",
     "output_type": "stream",
     "text": [
      "----------------------------------------------------------------\n",
      "        Layer (type)               Output Shape         Param #\n",
      "================================================================\n",
      "            Conv2d-1          [-1, 128, 32, 32]           3,584\n",
      "              ReLU-2          [-1, 128, 32, 32]               0\n",
      "       BatchNorm2d-3          [-1, 128, 32, 32]             256\n",
      "         Dropout2d-4          [-1, 128, 32, 32]               0\n",
      "            Conv2d-5           [-1, 32, 32, 32]          36,896\n",
      "              ReLU-6           [-1, 32, 32, 32]               0\n",
      "         Dropout2d-7           [-1, 32, 32, 32]               0\n",
      "       BatchNorm2d-8           [-1, 32, 32, 32]              64\n",
      "            Conv2d-9           [-1, 32, 32, 32]             320\n",
      "           Conv2d-10           [-1, 32, 32, 32]           1,056\n",
      "      BatchNorm2d-11           [-1, 32, 32, 32]              64\n",
      "             ReLU-12           [-1, 32, 32, 32]               0\n",
      "        Dropout2d-13           [-1, 32, 32, 32]               0\n",
      "           Conv2d-14           [-1, 32, 32, 32]           9,248\n",
      "           Conv2d-15           [-1, 32, 16, 16]           9,248\n",
      "      BatchNorm2d-16           [-1, 32, 16, 16]              64\n",
      "             ReLU-17           [-1, 32, 16, 16]               0\n",
      "        Dropout2d-18           [-1, 32, 16, 16]               0\n",
      "           Conv2d-19           [-1, 32, 16, 16]           9,248\n",
      "             ReLU-20           [-1, 32, 16, 16]               0\n",
      "      BatchNorm2d-21           [-1, 32, 16, 16]              64\n",
      "        Dropout2d-22           [-1, 32, 16, 16]               0\n",
      "           Conv2d-23           [-1, 32, 16, 16]           9,248\n",
      "             ReLU-24           [-1, 32, 16, 16]               0\n",
      "      BatchNorm2d-25           [-1, 32, 16, 16]              64\n",
      "        Dropout2d-26           [-1, 32, 16, 16]               0\n",
      "           Conv2d-27           [-1, 32, 16, 16]             320\n",
      "           Conv2d-28           [-1, 32, 16, 16]           1,056\n",
      "      BatchNorm2d-29           [-1, 32, 16, 16]              64\n",
      "             ReLU-30           [-1, 32, 16, 16]               0\n",
      "        Dropout2d-31           [-1, 32, 16, 16]               0\n",
      "           Conv2d-32           [-1, 32, 12, 12]           9,248\n",
      "           Conv2d-33             [-1, 16, 6, 6]           4,624\n",
      "      BatchNorm2d-34             [-1, 16, 6, 6]              32\n",
      "             ReLU-35             [-1, 16, 6, 6]               0\n",
      "        Dropout2d-36             [-1, 16, 6, 6]               0\n",
      "           Conv2d-37             [-1, 32, 6, 6]           4,640\n",
      "             ReLU-38             [-1, 32, 6, 6]               0\n",
      "      BatchNorm2d-39             [-1, 32, 6, 6]              64\n",
      "        Dropout2d-40             [-1, 32, 6, 6]               0\n",
      "           Conv2d-41             [-1, 32, 6, 6]           9,248\n",
      "             ReLU-42             [-1, 32, 6, 6]               0\n",
      "      BatchNorm2d-43             [-1, 32, 6, 6]              64\n",
      "        Dropout2d-44             [-1, 32, 6, 6]               0\n",
      "           Conv2d-45             [-1, 32, 6, 6]             320\n",
      "           Conv2d-46             [-1, 64, 6, 6]           2,112\n",
      "      BatchNorm2d-47             [-1, 64, 6, 6]             128\n",
      "             ReLU-48             [-1, 64, 6, 6]               0\n",
      "        Dropout2d-49             [-1, 64, 6, 6]               0\n",
      "           Conv2d-50             [-1, 32, 6, 6]          18,464\n",
      "           Conv2d-51             [-1, 32, 3, 3]           9,248\n",
      "      BatchNorm2d-52             [-1, 32, 3, 3]              64\n",
      "             ReLU-53             [-1, 32, 3, 3]               0\n",
      "        Dropout2d-54             [-1, 32, 3, 3]               0\n",
      "           Conv2d-55             [-1, 16, 3, 3]           4,624\n",
      "             ReLU-56             [-1, 16, 3, 3]               0\n",
      "      BatchNorm2d-57             [-1, 16, 3, 3]              32\n",
      "        Dropout2d-58             [-1, 16, 3, 3]               0\n",
      "           Conv2d-59             [-1, 16, 3, 3]           2,320\n",
      "             ReLU-60             [-1, 16, 3, 3]               0\n",
      "      BatchNorm2d-61             [-1, 16, 3, 3]              32\n",
      "        Dropout2d-62             [-1, 16, 3, 3]               0\n",
      "           Conv2d-63             [-1, 16, 3, 3]             160\n",
      "           Conv2d-64             [-1, 16, 3, 3]             272\n",
      "      BatchNorm2d-65             [-1, 16, 3, 3]              32\n",
      "             ReLU-66             [-1, 16, 3, 3]               0\n",
      "        Dropout2d-67             [-1, 16, 3, 3]               0\n",
      "           Conv2d-68             [-1, 16, 3, 3]           2,320\n",
      "           Conv2d-69             [-1, 32, 1, 1]           4,640\n",
      "      BatchNorm2d-70             [-1, 32, 1, 1]              64\n",
      "             ReLU-71             [-1, 32, 1, 1]               0\n",
      "        Dropout2d-72             [-1, 32, 1, 1]               0\n",
      "AdaptiveAvgPool2d-73             [-1, 32, 1, 1]               0\n",
      "           Linear-74                   [-1, 10]             330\n",
      "================================================================\n",
      "Total params: 153,946\n",
      "Trainable params: 153,946\n",
      "Non-trainable params: 0\n",
      "----------------------------------------------------------------\n",
      "Input size (MB): 0.01\n",
      "Forward/backward pass size (MB): 7.80\n",
      "Params size (MB): 0.59\n",
      "Estimated Total Size (MB): 8.40\n",
      "----------------------------------------------------------------\n"
     ]
    }
   ],
   "source": [
    "model = S9_model().to(device)\n",
    "model_summary(model,input_size=(3,32,32))"
   ]
  },
  {
   "cell_type": "code",
   "execution_count": 5,
   "metadata": {},
   "outputs": [
    {
     "name": "stdout",
     "output_type": "stream",
     "text": [
      "Epoch 1\n"
     ]
    },
    {
     "name": "stderr",
     "output_type": "stream",
     "text": [
      "Train: Loss=2.1632 Batch_id=97 Accuracy=15.43: 100%|██████████| 98/98 [00:31<00:00,  3.08it/s]\n",
      "100%|██████████| 20/20 [00:09<00:00,  2.11it/s]\n"
     ]
    },
    {
     "name": "stdout",
     "output_type": "stream",
     "text": [
      "Test set: Average loss: 0.0041, Accuracy: 2214/10000 (22.14%)\n",
      "\n",
      "Epoch 2\n"
     ]
    },
    {
     "name": "stderr",
     "output_type": "stream",
     "text": [
      "Train: Loss=2.0924 Batch_id=97 Accuracy=22.64: 100%|██████████| 98/98 [00:30<00:00,  3.21it/s]\n",
      "100%|██████████| 20/20 [00:09<00:00,  2.13it/s]\n"
     ]
    },
    {
     "name": "stdout",
     "output_type": "stream",
     "text": [
      "Test set: Average loss: 0.0037, Accuracy: 3209/10000 (32.09%)\n",
      "\n",
      "Epoch 3\n"
     ]
    },
    {
     "name": "stderr",
     "output_type": "stream",
     "text": [
      "Train: Loss=1.8747 Batch_id=97 Accuracy=27.19: 100%|██████████| 98/98 [00:30<00:00,  3.22it/s]\n",
      "100%|██████████| 20/20 [00:09<00:00,  2.13it/s]\n"
     ]
    },
    {
     "name": "stdout",
     "output_type": "stream",
     "text": [
      "Test set: Average loss: 0.0035, Accuracy: 3507/10000 (35.07%)\n",
      "\n",
      "Epoch 4\n"
     ]
    },
    {
     "name": "stderr",
     "output_type": "stream",
     "text": [
      "Train: Loss=1.8411 Batch_id=97 Accuracy=29.73: 100%|██████████| 98/98 [00:30<00:00,  3.21it/s]\n",
      "100%|██████████| 20/20 [00:09<00:00,  2.13it/s]\n"
     ]
    },
    {
     "name": "stdout",
     "output_type": "stream",
     "text": [
      "Test set: Average loss: 0.0033, Accuracy: 3788/10000 (37.88%)\n",
      "\n",
      "Epoch 5\n"
     ]
    },
    {
     "name": "stderr",
     "output_type": "stream",
     "text": [
      "Train: Loss=1.7835 Batch_id=97 Accuracy=31.88: 100%|██████████| 98/98 [00:30<00:00,  3.20it/s]\n",
      "100%|██████████| 20/20 [00:09<00:00,  2.14it/s]\n"
     ]
    },
    {
     "name": "stdout",
     "output_type": "stream",
     "text": [
      "Test set: Average loss: 0.0032, Accuracy: 3957/10000 (39.57%)\n",
      "\n",
      "Epoch 6\n"
     ]
    },
    {
     "name": "stderr",
     "output_type": "stream",
     "text": [
      "Train: Loss=1.7500 Batch_id=97 Accuracy=33.19: 100%|██████████| 98/98 [00:30<00:00,  3.16it/s]\n",
      "100%|██████████| 20/20 [00:09<00:00,  2.07it/s]\n"
     ]
    },
    {
     "name": "stdout",
     "output_type": "stream",
     "text": [
      "Test set: Average loss: 0.0031, Accuracy: 4105/10000 (41.05%)\n",
      "\n",
      "Epoch 7\n"
     ]
    },
    {
     "name": "stderr",
     "output_type": "stream",
     "text": [
      "Train: Loss=1.7545 Batch_id=97 Accuracy=34.75: 100%|██████████| 98/98 [00:31<00:00,  3.14it/s]\n",
      "100%|██████████| 20/20 [00:09<00:00,  2.06it/s]\n"
     ]
    },
    {
     "name": "stdout",
     "output_type": "stream",
     "text": [
      "Test set: Average loss: 0.0031, Accuracy: 4274/10000 (42.74%)\n",
      "\n",
      "Epoch 8\n"
     ]
    },
    {
     "name": "stderr",
     "output_type": "stream",
     "text": [
      "Train: Loss=1.6952 Batch_id=97 Accuracy=35.94: 100%|██████████| 98/98 [00:31<00:00,  3.10it/s]\n",
      "100%|██████████| 20/20 [00:09<00:00,  2.07it/s]\n"
     ]
    },
    {
     "name": "stdout",
     "output_type": "stream",
     "text": [
      "Test set: Average loss: 0.0030, Accuracy: 4448/10000 (44.48%)\n",
      "\n",
      "Epoch 9\n"
     ]
    },
    {
     "name": "stderr",
     "output_type": "stream",
     "text": [
      "Train: Loss=1.6882 Batch_id=97 Accuracy=37.50: 100%|██████████| 98/98 [00:30<00:00,  3.17it/s]\n",
      "100%|██████████| 20/20 [00:09<00:00,  2.07it/s]\n"
     ]
    },
    {
     "name": "stdout",
     "output_type": "stream",
     "text": [
      "Test set: Average loss: 0.0029, Accuracy: 4662/10000 (46.62%)\n",
      "\n",
      "Epoch 10\n"
     ]
    },
    {
     "name": "stderr",
     "output_type": "stream",
     "text": [
      "Train: Loss=1.6581 Batch_id=97 Accuracy=38.33: 100%|██████████| 98/98 [00:30<00:00,  3.17it/s]\n",
      "100%|██████████| 20/20 [00:09<00:00,  2.06it/s]\n"
     ]
    },
    {
     "name": "stdout",
     "output_type": "stream",
     "text": [
      "Test set: Average loss: 0.0028, Accuracy: 4767/10000 (47.67%)\n",
      "\n",
      "Epoch 11\n"
     ]
    },
    {
     "name": "stderr",
     "output_type": "stream",
     "text": [
      "Train: Loss=1.6001 Batch_id=97 Accuracy=39.65: 100%|██████████| 98/98 [00:31<00:00,  3.16it/s]\n",
      "100%|██████████| 20/20 [00:09<00:00,  2.07it/s]\n"
     ]
    },
    {
     "name": "stdout",
     "output_type": "stream",
     "text": [
      "Test set: Average loss: 0.0028, Accuracy: 4877/10000 (48.77%)\n",
      "\n",
      "Epoch 12\n"
     ]
    },
    {
     "name": "stderr",
     "output_type": "stream",
     "text": [
      "Train: Loss=1.6588 Batch_id=97 Accuracy=40.56: 100%|██████████| 98/98 [00:31<00:00,  3.15it/s]\n",
      "100%|██████████| 20/20 [00:09<00:00,  2.02it/s]\n"
     ]
    },
    {
     "name": "stdout",
     "output_type": "stream",
     "text": [
      "Test set: Average loss: 0.0027, Accuracy: 4926/10000 (49.26%)\n",
      "\n",
      "Epoch 13\n"
     ]
    },
    {
     "name": "stderr",
     "output_type": "stream",
     "text": [
      "Train: Loss=1.5844 Batch_id=97 Accuracy=41.11: 100%|██████████| 98/98 [00:31<00:00,  3.15it/s]\n",
      "100%|██████████| 20/20 [00:09<00:00,  2.07it/s]\n"
     ]
    },
    {
     "name": "stdout",
     "output_type": "stream",
     "text": [
      "Test set: Average loss: 0.0027, Accuracy: 5030/10000 (50.30%)\n",
      "\n",
      "Epoch 14\n"
     ]
    },
    {
     "name": "stderr",
     "output_type": "stream",
     "text": [
      "Train: Loss=1.5631 Batch_id=97 Accuracy=42.14: 100%|██████████| 98/98 [00:30<00:00,  3.17it/s]\n",
      "100%|██████████| 20/20 [00:09<00:00,  2.06it/s]\n"
     ]
    },
    {
     "name": "stdout",
     "output_type": "stream",
     "text": [
      "Test set: Average loss: 0.0027, Accuracy: 5056/10000 (50.56%)\n",
      "\n",
      "Epoch 15\n"
     ]
    },
    {
     "name": "stderr",
     "output_type": "stream",
     "text": [
      "Train: Loss=1.5204 Batch_id=97 Accuracy=42.96: 100%|██████████| 98/98 [00:31<00:00,  3.15it/s]\n",
      "100%|██████████| 20/20 [00:09<00:00,  2.02it/s]\n"
     ]
    },
    {
     "name": "stdout",
     "output_type": "stream",
     "text": [
      "Test set: Average loss: 0.0027, Accuracy: 5125/10000 (51.25%)\n",
      "\n",
      "Epoch 16\n"
     ]
    },
    {
     "name": "stderr",
     "output_type": "stream",
     "text": [
      "Train: Loss=1.6138 Batch_id=97 Accuracy=42.79: 100%|██████████| 98/98 [00:30<00:00,  3.17it/s]\n",
      "100%|██████████| 20/20 [00:09<00:00,  2.04it/s]\n"
     ]
    },
    {
     "name": "stdout",
     "output_type": "stream",
     "text": [
      "Test set: Average loss: 0.0026, Accuracy: 5170/10000 (51.70%)\n",
      "\n",
      "Epoch 17\n"
     ]
    },
    {
     "name": "stderr",
     "output_type": "stream",
     "text": [
      "Train: Loss=1.4801 Batch_id=97 Accuracy=43.75: 100%|██████████| 98/98 [00:30<00:00,  3.17it/s]\n",
      "100%|██████████| 20/20 [00:09<00:00,  2.07it/s]\n"
     ]
    },
    {
     "name": "stdout",
     "output_type": "stream",
     "text": [
      "Test set: Average loss: 0.0026, Accuracy: 5275/10000 (52.75%)\n",
      "\n",
      "Epoch 18\n"
     ]
    },
    {
     "name": "stderr",
     "output_type": "stream",
     "text": [
      "Train: Loss=1.6332 Batch_id=97 Accuracy=44.60: 100%|██████████| 98/98 [00:30<00:00,  3.17it/s]\n",
      "100%|██████████| 20/20 [00:09<00:00,  2.06it/s]\n"
     ]
    },
    {
     "name": "stdout",
     "output_type": "stream",
     "text": [
      "Test set: Average loss: 0.0025, Accuracy: 5435/10000 (54.35%)\n",
      "\n",
      "Epoch 19\n"
     ]
    },
    {
     "name": "stderr",
     "output_type": "stream",
     "text": [
      "Train: Loss=1.5395 Batch_id=97 Accuracy=44.66: 100%|██████████| 98/98 [00:30<00:00,  3.17it/s]\n",
      "100%|██████████| 20/20 [00:09<00:00,  2.07it/s]\n"
     ]
    },
    {
     "name": "stdout",
     "output_type": "stream",
     "text": [
      "Test set: Average loss: 0.0024, Accuracy: 5514/10000 (55.14%)\n",
      "\n",
      "Epoch 20\n"
     ]
    },
    {
     "name": "stderr",
     "output_type": "stream",
     "text": [
      "Train: Loss=1.4950 Batch_id=97 Accuracy=45.29: 100%|██████████| 98/98 [00:30<00:00,  3.17it/s]\n",
      "100%|██████████| 20/20 [00:09<00:00,  2.06it/s]\n"
     ]
    },
    {
     "name": "stdout",
     "output_type": "stream",
     "text": [
      "Test set: Average loss: 0.0024, Accuracy: 5668/10000 (56.68%)\n",
      "\n",
      "Epoch 21\n"
     ]
    },
    {
     "name": "stderr",
     "output_type": "stream",
     "text": [
      "Train: Loss=1.5773 Batch_id=97 Accuracy=46.15: 100%|██████████| 98/98 [00:30<00:00,  3.17it/s]\n",
      "100%|██████████| 20/20 [00:09<00:00,  2.07it/s]\n"
     ]
    },
    {
     "name": "stdout",
     "output_type": "stream",
     "text": [
      "Test set: Average loss: 0.0024, Accuracy: 5519/10000 (55.19%)\n",
      "\n",
      "Epoch 22\n"
     ]
    },
    {
     "name": "stderr",
     "output_type": "stream",
     "text": [
      "Train: Loss=1.4354 Batch_id=97 Accuracy=46.14: 100%|██████████| 98/98 [00:30<00:00,  3.17it/s]\n",
      "100%|██████████| 20/20 [00:09<00:00,  2.06it/s]\n"
     ]
    },
    {
     "name": "stdout",
     "output_type": "stream",
     "text": [
      "Test set: Average loss: 0.0023, Accuracy: 5744/10000 (57.44%)\n",
      "\n",
      "Epoch 23\n"
     ]
    },
    {
     "name": "stderr",
     "output_type": "stream",
     "text": [
      "Train: Loss=1.4438 Batch_id=97 Accuracy=46.95: 100%|██████████| 98/98 [00:30<00:00,  3.18it/s]\n",
      "100%|██████████| 20/20 [00:09<00:00,  2.10it/s]\n"
     ]
    },
    {
     "name": "stdout",
     "output_type": "stream",
     "text": [
      "Test set: Average loss: 0.0023, Accuracy: 5767/10000 (57.67%)\n",
      "\n",
      "Epoch 24\n"
     ]
    },
    {
     "name": "stderr",
     "output_type": "stream",
     "text": [
      "Train: Loss=1.4771 Batch_id=97 Accuracy=47.00: 100%|██████████| 98/98 [00:30<00:00,  3.17it/s]\n",
      "100%|██████████| 20/20 [00:09<00:00,  2.07it/s]\n"
     ]
    },
    {
     "name": "stdout",
     "output_type": "stream",
     "text": [
      "Test set: Average loss: 0.0024, Accuracy: 5720/10000 (57.20%)\n",
      "\n",
      "Epoch 25\n"
     ]
    },
    {
     "name": "stderr",
     "output_type": "stream",
     "text": [
      "Train: Loss=1.5600 Batch_id=97 Accuracy=47.47: 100%|██████████| 98/98 [00:30<00:00,  3.17it/s]\n",
      "100%|██████████| 20/20 [00:09<00:00,  2.07it/s]\n"
     ]
    },
    {
     "name": "stdout",
     "output_type": "stream",
     "text": [
      "Test set: Average loss: 0.0023, Accuracy: 5811/10000 (58.11%)\n",
      "\n",
      "Epoch 26\n"
     ]
    },
    {
     "name": "stderr",
     "output_type": "stream",
     "text": [
      "Train: Loss=1.3727 Batch_id=97 Accuracy=48.01: 100%|██████████| 98/98 [00:30<00:00,  3.17it/s]\n",
      "100%|██████████| 20/20 [00:09<00:00,  2.07it/s]\n"
     ]
    },
    {
     "name": "stdout",
     "output_type": "stream",
     "text": [
      "Test set: Average loss: 0.0023, Accuracy: 5838/10000 (58.38%)\n",
      "\n",
      "Epoch 27\n"
     ]
    },
    {
     "name": "stderr",
     "output_type": "stream",
     "text": [
      "Train: Loss=1.3274 Batch_id=97 Accuracy=48.50: 100%|██████████| 98/98 [00:30<00:00,  3.19it/s]\n",
      "100%|██████████| 20/20 [00:09<00:00,  2.06it/s]\n"
     ]
    },
    {
     "name": "stdout",
     "output_type": "stream",
     "text": [
      "Test set: Average loss: 0.0023, Accuracy: 5907/10000 (59.07%)\n",
      "\n",
      "Epoch 28\n"
     ]
    },
    {
     "name": "stderr",
     "output_type": "stream",
     "text": [
      "Train: Loss=1.4132 Batch_id=97 Accuracy=48.75: 100%|██████████| 98/98 [00:30<00:00,  3.18it/s]\n",
      "100%|██████████| 20/20 [00:09<00:00,  2.10it/s]\n"
     ]
    },
    {
     "name": "stdout",
     "output_type": "stream",
     "text": [
      "Test set: Average loss: 0.0022, Accuracy: 6015/10000 (60.15%)\n",
      "\n",
      "Epoch 29\n"
     ]
    },
    {
     "name": "stderr",
     "output_type": "stream",
     "text": [
      "Train: Loss=1.3888 Batch_id=97 Accuracy=49.02: 100%|██████████| 98/98 [00:30<00:00,  3.19it/s]\n",
      "100%|██████████| 20/20 [00:09<00:00,  2.07it/s]\n"
     ]
    },
    {
     "name": "stdout",
     "output_type": "stream",
     "text": [
      "Test set: Average loss: 0.0022, Accuracy: 5998/10000 (59.98%)\n",
      "\n",
      "Epoch 30\n"
     ]
    },
    {
     "name": "stderr",
     "output_type": "stream",
     "text": [
      "Train: Loss=1.2604 Batch_id=97 Accuracy=49.51: 100%|██████████| 98/98 [00:30<00:00,  3.17it/s]\n",
      "100%|██████████| 20/20 [00:09<00:00,  2.07it/s]"
     ]
    },
    {
     "name": "stdout",
     "output_type": "stream",
     "text": [
      "Test set: Average loss: 0.0022, Accuracy: 6020/10000 (60.20%)\n",
      "\n"
     ]
    },
    {
     "name": "stderr",
     "output_type": "stream",
     "text": [
      "\n"
     ]
    }
   ],
   "source": [
    "\n",
    "criterion = F.nll_loss\n",
    "num_epochs = 30\n",
    "optimizer_sgd = optim.SGD(model.parameters(), lr=0.01,momentum=0.9)\n",
    "scheduler = optim.lr_scheduler.StepLR(optimizer_sgd,gamma=0.99,step_size=5)\n",
    "\n",
    "\n",
    "for epoch in range(1, num_epochs+1):\n",
    "  print(f'Epoch {epoch}')\n",
    "  train(model, device, train_loader, optimizer_sgd,criterion)\n",
    "  scheduler.step()\n",
    "  test(model, device, test_loader, criterion)\n"
   ]
  },
  {
   "cell_type": "code",
   "execution_count": null,
   "metadata": {},
   "outputs": [],
   "source": []
  }
 ],
 "metadata": {
  "kernelspec": {
   "display_name": "pytorch",
   "language": "python",
   "name": "python3"
  },
  "language_info": {
   "codemirror_mode": {
    "name": "ipython",
    "version": 3
   },
   "file_extension": ".py",
   "mimetype": "text/x-python",
   "name": "python",
   "nbconvert_exporter": "python",
   "pygments_lexer": "ipython3",
   "version": "3.11.5"
  }
 },
 "nbformat": 4,
 "nbformat_minor": 2
}
