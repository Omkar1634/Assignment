{
 "cells": [
  {
   "cell_type": "code",
   "execution_count": 1,
   "metadata": {},
   "outputs": [
    {
     "name": "stderr",
     "output_type": "stream",
     "text": [
      "c:\\Users\\Aai\\anaconda3\\envs\\pytorch\\Lib\\site-packages\\transformers\\utils\\generic.py:441: UserWarning: torch.utils._pytree._register_pytree_node is deprecated. Please use torch.utils._pytree.register_pytree_node instead.\n",
      "  _torch_pytree._register_pytree_node(\n"
     ]
    },
    {
     "name": "stdout",
     "output_type": "stream",
     "text": [
      "cuda\n"
     ]
    }
   ],
   "source": [
    "import torch\n",
    "import torch.nn as nn\n",
    "import torch.nn.functional as F\n",
    "import torch.optim as optim\n",
    "from torchvision import datasets, transforms\n",
    "import matplotlib.pyplot as plt\n",
    "import numpy as np\n",
    "from datasets import load_data_S9\n",
    "from  Utils import test,train,plot_acc_loss\n",
    "from models import model_summary\n",
    "\n",
    "device = torch.device( 'cuda' if torch.cuda.is_available() else 'cpu')\n",
    "print(device)"
   ]
  },
  {
   "cell_type": "code",
   "execution_count": 7,
   "metadata": {},
   "outputs": [
    {
     "name": "stdout",
     "output_type": "stream",
     "text": [
      "CUDA Available? True\n",
      "Files already downloaded and verified\n",
      "Files already downloaded and verified\n"
     ]
    }
   ],
   "source": [
    "train_loader , test_loader = load_data_S9()"
   ]
  },
  {
   "cell_type": "code",
   "execution_count": 8,
   "metadata": {},
   "outputs": [],
   "source": [
    "class S9_model(nn.Module):\n",
    "    def __init__(self):\n",
    "        super(S9_model,self).__init__()\n",
    "\n",
    "\n",
    "        self.convblock1 = nn.Sequential(\n",
    "            nn.Conv2d(in_channels=3,out_channels=128,kernel_size=3,padding=1),\n",
    "            nn.ReLU(),\n",
    "            nn.BatchNorm2d(128),\n",
    "            nn.Dropout2d(0.1),\n",
    "            nn.Conv2d(in_channels=128,out_channels=32,kernel_size=3,padding=1),\n",
    "            nn.ReLU(),\n",
    "            nn.Dropout2d(0.1),\n",
    "            nn.BatchNorm2d(32),\n",
    "            nn.Conv2d(in_channels=32,out_channels=32,kernel_size=3,padding=1,groups=32),\n",
    "            nn.Conv2d(in_channels=32,out_channels=32,kernel_size=1),\n",
    "            nn.BatchNorm2d(32),\n",
    "            nn.ReLU(),\n",
    "            nn.Dropout2d(0.1),\n",
    "            nn.Conv2d(in_channels=32,out_channels=32,kernel_size=3,padding=2,dilation=2),\n",
    "            nn.Conv2d(in_channels=32,out_channels=32,kernel_size=3,stride=2,padding=1),\n",
    "            nn.BatchNorm2d(32),\n",
    "            nn.ReLU(),\n",
    "            nn.Dropout2d(0.1)\n",
    "        )\n",
    "        self.convblock2 = nn.Sequential(\n",
    "            nn.Conv2d(in_channels=32,out_channels=32,kernel_size=3,padding=1),\n",
    "            nn.ReLU(),\n",
    "            nn.BatchNorm2d(32),\n",
    "            nn.Dropout2d(0.1),\n",
    "            nn.Conv2d(in_channels=32,out_channels=32,kernel_size=3,padding=1),\n",
    "            nn.ReLU(),\n",
    "            nn.BatchNorm2d(32),\n",
    "            nn.Dropout2d(0.1),\n",
    "            nn.Conv2d(in_channels=32,out_channels=32,kernel_size=3,padding=1,groups=32),\n",
    "            nn.Conv2d(in_channels=32,out_channels=32,kernel_size=1),\n",
    "            nn.BatchNorm2d(32),\n",
    "            nn.ReLU(),\n",
    "            nn.Dropout2d(0.1),\n",
    "            nn.Conv2d(in_channels=32,out_channels=32,kernel_size=3,padding=2,dilation=4),\n",
    "            nn.Conv2d(in_channels=32,out_channels=16,kernel_size=3,stride=2,padding=1),\n",
    "            nn.BatchNorm2d(16),\n",
    "            nn.ReLU(),\n",
    "            nn.Dropout2d(0.1)\n",
    "        )\n",
    "        self.convblock3 = nn.Sequential(\n",
    "            nn.Conv2d(in_channels=16,out_channels=32,kernel_size=3,padding=1),\n",
    "            nn.ReLU(),\n",
    "            nn.BatchNorm2d(32),\n",
    "            nn.Dropout2d(0.1),\n",
    "            nn.Conv2d(in_channels=32,out_channels=32,kernel_size=3,padding=1),\n",
    "            nn.ReLU(),\n",
    "            nn.BatchNorm2d(32),\n",
    "            nn.Dropout2d(0.1),\n",
    "            nn.Conv2d(in_channels=32,out_channels=32,kernel_size=3,padding=1,groups=32),\n",
    "            nn.Conv2d(in_channels=32,out_channels=64,kernel_size=1),\n",
    "            nn.BatchNorm2d(64),\n",
    "            nn.ReLU(),\n",
    "            nn.Dropout2d(0.1),\n",
    "            nn.Conv2d(in_channels=64,out_channels=32,kernel_size=3,padding=2,dilation=2),\n",
    "            nn.Conv2d(in_channels=32,out_channels=32,kernel_size=3,stride=2,padding=1),\n",
    "            nn.BatchNorm2d(32),\n",
    "            nn.ReLU(),\n",
    "            nn.Dropout2d(0.1)\n",
    "        )\n",
    "        self.convblock4 = nn.Sequential(\n",
    "            nn.Conv2d(in_channels=32,out_channels=16,kernel_size=3,padding=1),\n",
    "            nn.ReLU(),\n",
    "            nn.BatchNorm2d(16),\n",
    "            nn.Dropout2d(0.1),\n",
    "            nn.Conv2d(in_channels=16,out_channels=16,kernel_size=3,padding=1),\n",
    "            nn.ReLU(),\n",
    "            nn.BatchNorm2d(16),\n",
    "            nn.Dropout2d(0.1),\n",
    "            nn.Conv2d(in_channels=16,out_channels=16,kernel_size=3,padding=1,groups=16),\n",
    "            nn.Conv2d(in_channels=16,out_channels=16,kernel_size=1),\n",
    "            nn.BatchNorm2d(16),\n",
    "            nn.ReLU(),\n",
    "            nn.Dropout2d(0.1),\n",
    "            nn.Conv2d(in_channels=16,out_channels=16,kernel_size=3,padding=2,dilation=2),\n",
    "            nn.Conv2d(in_channels=16,out_channels=32,kernel_size=3,stride=1),\n",
    "            nn.BatchNorm2d(32),\n",
    "            nn.ReLU(),\n",
    "            nn.Dropout2d(0.1)\n",
    "        )\n",
    "        self.gap = nn.AdaptiveAvgPool2d((1,1))\n",
    "        self.fc = nn.Linear(in_features=32,out_features=10)\n",
    "\n",
    "\n",
    "    def forward(self,x):\n",
    "        x = self.convblock1(x)\n",
    "        x = self.convblock2(x)\n",
    "        x = self.convblock3(x)\n",
    "        x = self.convblock4(x)\n",
    "        x = self.gap(x)\n",
    "        x = x.view(x.size(0),-1)\n",
    "        x = self.fc(x)\n",
    "        x = F.log_softmax(x,dim=1)\n",
    "        return x"
   ]
  },
  {
   "cell_type": "code",
   "execution_count": 9,
   "metadata": {},
   "outputs": [
    {
     "name": "stdout",
     "output_type": "stream",
     "text": [
      "----------------------------------------------------------------\n",
      "        Layer (type)               Output Shape         Param #\n",
      "================================================================\n",
      "            Conv2d-1          [-1, 128, 32, 32]           3,584\n",
      "              ReLU-2          [-1, 128, 32, 32]               0\n",
      "       BatchNorm2d-3          [-1, 128, 32, 32]             256\n",
      "         Dropout2d-4          [-1, 128, 32, 32]               0\n",
      "            Conv2d-5           [-1, 32, 32, 32]          36,896\n",
      "              ReLU-6           [-1, 32, 32, 32]               0\n",
      "         Dropout2d-7           [-1, 32, 32, 32]               0\n",
      "       BatchNorm2d-8           [-1, 32, 32, 32]              64\n",
      "            Conv2d-9           [-1, 32, 32, 32]             320\n",
      "           Conv2d-10           [-1, 32, 32, 32]           1,056\n",
      "      BatchNorm2d-11           [-1, 32, 32, 32]              64\n",
      "             ReLU-12           [-1, 32, 32, 32]               0\n",
      "        Dropout2d-13           [-1, 32, 32, 32]               0\n",
      "           Conv2d-14           [-1, 32, 32, 32]           9,248\n",
      "           Conv2d-15           [-1, 32, 16, 16]           9,248\n",
      "      BatchNorm2d-16           [-1, 32, 16, 16]              64\n",
      "             ReLU-17           [-1, 32, 16, 16]               0\n",
      "        Dropout2d-18           [-1, 32, 16, 16]               0\n",
      "           Conv2d-19           [-1, 32, 16, 16]           9,248\n",
      "             ReLU-20           [-1, 32, 16, 16]               0\n",
      "      BatchNorm2d-21           [-1, 32, 16, 16]              64\n",
      "        Dropout2d-22           [-1, 32, 16, 16]               0\n",
      "           Conv2d-23           [-1, 32, 16, 16]           9,248\n",
      "             ReLU-24           [-1, 32, 16, 16]               0\n",
      "      BatchNorm2d-25           [-1, 32, 16, 16]              64\n",
      "        Dropout2d-26           [-1, 32, 16, 16]               0\n",
      "           Conv2d-27           [-1, 32, 16, 16]             320\n",
      "           Conv2d-28           [-1, 32, 16, 16]           1,056\n",
      "      BatchNorm2d-29           [-1, 32, 16, 16]              64\n",
      "             ReLU-30           [-1, 32, 16, 16]               0\n",
      "        Dropout2d-31           [-1, 32, 16, 16]               0\n",
      "           Conv2d-32           [-1, 32, 12, 12]           9,248\n",
      "           Conv2d-33             [-1, 16, 6, 6]           4,624\n",
      "      BatchNorm2d-34             [-1, 16, 6, 6]              32\n",
      "             ReLU-35             [-1, 16, 6, 6]               0\n",
      "        Dropout2d-36             [-1, 16, 6, 6]               0\n",
      "           Conv2d-37             [-1, 32, 6, 6]           4,640\n",
      "             ReLU-38             [-1, 32, 6, 6]               0\n",
      "      BatchNorm2d-39             [-1, 32, 6, 6]              64\n",
      "        Dropout2d-40             [-1, 32, 6, 6]               0\n",
      "           Conv2d-41             [-1, 32, 6, 6]           9,248\n",
      "             ReLU-42             [-1, 32, 6, 6]               0\n",
      "      BatchNorm2d-43             [-1, 32, 6, 6]              64\n",
      "        Dropout2d-44             [-1, 32, 6, 6]               0\n",
      "           Conv2d-45             [-1, 32, 6, 6]             320\n",
      "           Conv2d-46             [-1, 64, 6, 6]           2,112\n",
      "      BatchNorm2d-47             [-1, 64, 6, 6]             128\n",
      "             ReLU-48             [-1, 64, 6, 6]               0\n",
      "        Dropout2d-49             [-1, 64, 6, 6]               0\n",
      "           Conv2d-50             [-1, 32, 6, 6]          18,464\n",
      "           Conv2d-51             [-1, 32, 3, 3]           9,248\n",
      "      BatchNorm2d-52             [-1, 32, 3, 3]              64\n",
      "             ReLU-53             [-1, 32, 3, 3]               0\n",
      "        Dropout2d-54             [-1, 32, 3, 3]               0\n",
      "           Conv2d-55             [-1, 16, 3, 3]           4,624\n",
      "             ReLU-56             [-1, 16, 3, 3]               0\n",
      "      BatchNorm2d-57             [-1, 16, 3, 3]              32\n",
      "        Dropout2d-58             [-1, 16, 3, 3]               0\n",
      "           Conv2d-59             [-1, 16, 3, 3]           2,320\n",
      "             ReLU-60             [-1, 16, 3, 3]               0\n",
      "      BatchNorm2d-61             [-1, 16, 3, 3]              32\n",
      "        Dropout2d-62             [-1, 16, 3, 3]               0\n",
      "           Conv2d-63             [-1, 16, 3, 3]             160\n",
      "           Conv2d-64             [-1, 16, 3, 3]             272\n",
      "      BatchNorm2d-65             [-1, 16, 3, 3]              32\n",
      "             ReLU-66             [-1, 16, 3, 3]               0\n",
      "        Dropout2d-67             [-1, 16, 3, 3]               0\n",
      "           Conv2d-68             [-1, 16, 3, 3]           2,320\n",
      "           Conv2d-69             [-1, 32, 1, 1]           4,640\n",
      "      BatchNorm2d-70             [-1, 32, 1, 1]              64\n",
      "             ReLU-71             [-1, 32, 1, 1]               0\n",
      "        Dropout2d-72             [-1, 32, 1, 1]               0\n",
      "AdaptiveAvgPool2d-73             [-1, 32, 1, 1]               0\n",
      "           Linear-74                   [-1, 10]             330\n",
      "================================================================\n",
      "Total params: 153,946\n",
      "Trainable params: 153,946\n",
      "Non-trainable params: 0\n",
      "----------------------------------------------------------------\n",
      "Input size (MB): 0.01\n",
      "Forward/backward pass size (MB): 7.80\n",
      "Params size (MB): 0.59\n",
      "Estimated Total Size (MB): 8.40\n",
      "----------------------------------------------------------------\n"
     ]
    }
   ],
   "source": [
    "model = S9_model().to(device)\n",
    "model_summary(model,input_size=(3,32,32))"
   ]
  },
  {
   "cell_type": "code",
   "execution_count": 13,
   "metadata": {},
   "outputs": [
    {
     "name": "stdout",
     "output_type": "stream",
     "text": [
      "Epoch 1\n"
     ]
    },
    {
     "name": "stderr",
     "output_type": "stream",
     "text": [
      "Train: Loss=2.1712 Batch_id=97 Accuracy=13.29: 100%|██████████| 98/98 [00:33<00:00,  2.95it/s]\n",
      "100%|██████████| 20/20 [00:09<00:00,  2.18it/s]\n"
     ]
    },
    {
     "name": "stdout",
     "output_type": "stream",
     "text": [
      "Test set: Average loss: 0.0042, Accuracy: 2090/10000 (20.90%)\n",
      "\n",
      "Epoch 2\n"
     ]
    },
    {
     "name": "stderr",
     "output_type": "stream",
     "text": [
      "Train: Loss=2.1768 Batch_id=97 Accuracy=21.00: 100%|██████████| 98/98 [00:29<00:00,  3.27it/s]\n",
      "100%|██████████| 20/20 [00:09<00:00,  2.18it/s]\n"
     ]
    },
    {
     "name": "stdout",
     "output_type": "stream",
     "text": [
      "Test set: Average loss: 0.0038, Accuracy: 2873/10000 (28.73%)\n",
      "\n",
      "Epoch 3\n"
     ]
    },
    {
     "name": "stderr",
     "output_type": "stream",
     "text": [
      "Train: Loss=1.9550 Batch_id=97 Accuracy=25.27: 100%|██████████| 98/98 [00:30<00:00,  3.26it/s]\n",
      "100%|██████████| 20/20 [00:09<00:00,  2.18it/s]\n"
     ]
    },
    {
     "name": "stdout",
     "output_type": "stream",
     "text": [
      "Test set: Average loss: 0.0036, Accuracy: 3154/10000 (31.54%)\n",
      "\n",
      "Epoch 4\n"
     ]
    },
    {
     "name": "stderr",
     "output_type": "stream",
     "text": [
      "Train: Loss=1.8482 Batch_id=97 Accuracy=27.93: 100%|██████████| 98/98 [00:30<00:00,  3.26it/s]\n",
      "100%|██████████| 20/20 [00:09<00:00,  2.20it/s]\n"
     ]
    },
    {
     "name": "stdout",
     "output_type": "stream",
     "text": [
      "Test set: Average loss: 0.0035, Accuracy: 3540/10000 (35.40%)\n",
      "\n",
      "Epoch 5\n"
     ]
    },
    {
     "name": "stderr",
     "output_type": "stream",
     "text": [
      "Train: Loss=1.8493 Batch_id=97 Accuracy=30.74: 100%|██████████| 98/98 [00:30<00:00,  3.26it/s]\n",
      "100%|██████████| 20/20 [00:09<00:00,  2.18it/s]\n"
     ]
    },
    {
     "name": "stdout",
     "output_type": "stream",
     "text": [
      "Test set: Average loss: 0.0033, Accuracy: 3877/10000 (38.77%)\n",
      "\n",
      "Epoch 6\n"
     ]
    },
    {
     "name": "stderr",
     "output_type": "stream",
     "text": [
      "Train: Loss=1.7933 Batch_id=97 Accuracy=32.28: 100%|██████████| 98/98 [00:29<00:00,  3.27it/s]\n",
      "100%|██████████| 20/20 [00:09<00:00,  2.18it/s]\n"
     ]
    },
    {
     "name": "stdout",
     "output_type": "stream",
     "text": [
      "Test set: Average loss: 0.0032, Accuracy: 4112/10000 (41.12%)\n",
      "\n",
      "Epoch 7\n"
     ]
    },
    {
     "name": "stderr",
     "output_type": "stream",
     "text": [
      "Train: Loss=1.8373 Batch_id=97 Accuracy=34.31: 100%|██████████| 98/98 [00:29<00:00,  3.27it/s]\n",
      "100%|██████████| 20/20 [00:08<00:00,  2.23it/s]\n"
     ]
    },
    {
     "name": "stdout",
     "output_type": "stream",
     "text": [
      "Test set: Average loss: 0.0031, Accuracy: 4221/10000 (42.21%)\n",
      "\n",
      "Epoch 8\n"
     ]
    },
    {
     "name": "stderr",
     "output_type": "stream",
     "text": [
      "Train: Loss=1.7427 Batch_id=97 Accuracy=35.29: 100%|██████████| 98/98 [00:29<00:00,  3.28it/s]\n",
      "100%|██████████| 20/20 [00:09<00:00,  2.18it/s]\n"
     ]
    },
    {
     "name": "stdout",
     "output_type": "stream",
     "text": [
      "Test set: Average loss: 0.0031, Accuracy: 4444/10000 (44.44%)\n",
      "\n",
      "Epoch 9\n"
     ]
    },
    {
     "name": "stderr",
     "output_type": "stream",
     "text": [
      "Train: Loss=1.7392 Batch_id=97 Accuracy=36.71: 100%|██████████| 98/98 [00:30<00:00,  3.26it/s]\n",
      "100%|██████████| 20/20 [00:09<00:00,  2.20it/s]\n"
     ]
    },
    {
     "name": "stdout",
     "output_type": "stream",
     "text": [
      "Test set: Average loss: 0.0030, Accuracy: 4454/10000 (44.54%)\n",
      "\n",
      "Epoch 10\n"
     ]
    },
    {
     "name": "stderr",
     "output_type": "stream",
     "text": [
      "Train: Loss=1.6713 Batch_id=97 Accuracy=37.59: 100%|██████████| 98/98 [00:30<00:00,  3.24it/s]\n",
      "100%|██████████| 20/20 [00:09<00:00,  2.18it/s]\n"
     ]
    },
    {
     "name": "stdout",
     "output_type": "stream",
     "text": [
      "Test set: Average loss: 0.0030, Accuracy: 4562/10000 (45.62%)\n",
      "\n",
      "Epoch 11\n"
     ]
    },
    {
     "name": "stderr",
     "output_type": "stream",
     "text": [
      "Train: Loss=1.5956 Batch_id=97 Accuracy=38.35: 100%|██████████| 98/98 [00:30<00:00,  3.26it/s]\n",
      "100%|██████████| 20/20 [00:09<00:00,  2.19it/s]\n"
     ]
    },
    {
     "name": "stdout",
     "output_type": "stream",
     "text": [
      "Test set: Average loss: 0.0029, Accuracy: 4700/10000 (47.00%)\n",
      "\n",
      "Epoch 12\n"
     ]
    },
    {
     "name": "stderr",
     "output_type": "stream",
     "text": [
      "Train: Loss=1.6602 Batch_id=97 Accuracy=39.62: 100%|██████████| 98/98 [00:30<00:00,  3.26it/s]\n",
      "100%|██████████| 20/20 [00:09<00:00,  2.19it/s]\n"
     ]
    },
    {
     "name": "stdout",
     "output_type": "stream",
     "text": [
      "Test set: Average loss: 0.0029, Accuracy: 4752/10000 (47.52%)\n",
      "\n",
      "Epoch 13\n"
     ]
    },
    {
     "name": "stderr",
     "output_type": "stream",
     "text": [
      "Train: Loss=1.6351 Batch_id=97 Accuracy=39.97: 100%|██████████| 98/98 [00:30<00:00,  3.24it/s]\n",
      "100%|██████████| 20/20 [00:09<00:00,  2.19it/s]\n"
     ]
    },
    {
     "name": "stdout",
     "output_type": "stream",
     "text": [
      "Test set: Average loss: 0.0028, Accuracy: 4829/10000 (48.29%)\n",
      "\n",
      "Epoch 14\n"
     ]
    },
    {
     "name": "stderr",
     "output_type": "stream",
     "text": [
      "Train: Loss=1.6039 Batch_id=97 Accuracy=40.80: 100%|██████████| 98/98 [00:30<00:00,  3.24it/s]\n",
      "100%|██████████| 20/20 [00:09<00:00,  2.19it/s]\n"
     ]
    },
    {
     "name": "stdout",
     "output_type": "stream",
     "text": [
      "Test set: Average loss: 0.0027, Accuracy: 5026/10000 (50.26%)\n",
      "\n",
      "Epoch 15\n"
     ]
    },
    {
     "name": "stderr",
     "output_type": "stream",
     "text": [
      "Train: Loss=1.6422 Batch_id=97 Accuracy=41.93: 100%|██████████| 98/98 [00:30<00:00,  3.22it/s]\n",
      "100%|██████████| 20/20 [00:11<00:00,  1.81it/s]\n"
     ]
    },
    {
     "name": "stdout",
     "output_type": "stream",
     "text": [
      "Test set: Average loss: 0.0026, Accuracy: 5147/10000 (51.47%)\n",
      "\n",
      "Epoch 16\n"
     ]
    },
    {
     "name": "stderr",
     "output_type": "stream",
     "text": [
      "Train: Loss=1.6254 Batch_id=97 Accuracy=42.26: 100%|██████████| 98/98 [00:31<00:00,  3.09it/s]\n",
      "100%|██████████| 20/20 [00:09<00:00,  2.07it/s]\n"
     ]
    },
    {
     "name": "stdout",
     "output_type": "stream",
     "text": [
      "Test set: Average loss: 0.0026, Accuracy: 5193/10000 (51.93%)\n",
      "\n",
      "Epoch 17\n"
     ]
    },
    {
     "name": "stderr",
     "output_type": "stream",
     "text": [
      "Train: Loss=1.5806 Batch_id=97 Accuracy=43.05: 100%|██████████| 98/98 [00:31<00:00,  3.11it/s]\n",
      "100%|██████████| 20/20 [00:09<00:00,  2.06it/s]\n"
     ]
    },
    {
     "name": "stdout",
     "output_type": "stream",
     "text": [
      "Test set: Average loss: 0.0026, Accuracy: 5182/10000 (51.82%)\n",
      "\n",
      "Epoch 18\n"
     ]
    },
    {
     "name": "stderr",
     "output_type": "stream",
     "text": [
      "Train: Loss=1.5716 Batch_id=97 Accuracy=43.65: 100%|██████████| 98/98 [00:30<00:00,  3.17it/s]\n",
      "100%|██████████| 20/20 [00:15<00:00,  1.32it/s]\n"
     ]
    },
    {
     "name": "stdout",
     "output_type": "stream",
     "text": [
      "Test set: Average loss: 0.0026, Accuracy: 5293/10000 (52.93%)\n",
      "\n",
      "Epoch 19\n"
     ]
    },
    {
     "name": "stderr",
     "output_type": "stream",
     "text": [
      "Train: Loss=1.5088 Batch_id=97 Accuracy=44.30: 100%|██████████| 98/98 [00:29<00:00,  3.28it/s]\n",
      "100%|██████████| 20/20 [00:12<00:00,  1.60it/s]\n"
     ]
    },
    {
     "name": "stdout",
     "output_type": "stream",
     "text": [
      "Test set: Average loss: 0.0025, Accuracy: 5419/10000 (54.19%)\n",
      "\n",
      "Epoch 20\n"
     ]
    },
    {
     "name": "stderr",
     "output_type": "stream",
     "text": [
      "Train: Loss=1.5381 Batch_id=97 Accuracy=44.71: 100%|██████████| 98/98 [00:29<00:00,  3.27it/s]\n",
      "100%|██████████| 20/20 [00:12<00:00,  1.61it/s]\n"
     ]
    },
    {
     "name": "stdout",
     "output_type": "stream",
     "text": [
      "Test set: Average loss: 0.0025, Accuracy: 5489/10000 (54.89%)\n",
      "\n",
      "Epoch 21\n"
     ]
    },
    {
     "name": "stderr",
     "output_type": "stream",
     "text": [
      "Train: Loss=1.6434 Batch_id=97 Accuracy=45.60: 100%|██████████| 98/98 [00:29<00:00,  3.30it/s]\n",
      "100%|██████████| 20/20 [00:13<00:00,  1.47it/s]\n"
     ]
    },
    {
     "name": "stdout",
     "output_type": "stream",
     "text": [
      "Test set: Average loss: 0.0024, Accuracy: 5617/10000 (56.17%)\n",
      "\n",
      "Epoch 22\n"
     ]
    },
    {
     "name": "stderr",
     "output_type": "stream",
     "text": [
      "Train: Loss=1.5174 Batch_id=97 Accuracy=45.79: 100%|██████████| 98/98 [00:28<00:00,  3.39it/s]\n",
      "100%|██████████| 20/20 [00:12<00:00,  1.66it/s]\n"
     ]
    },
    {
     "name": "stdout",
     "output_type": "stream",
     "text": [
      "Test set: Average loss: 0.0024, Accuracy: 5543/10000 (55.43%)\n",
      "\n",
      "Epoch 23\n"
     ]
    },
    {
     "name": "stderr",
     "output_type": "stream",
     "text": [
      "Train: Loss=1.4162 Batch_id=97 Accuracy=46.32: 100%|██████████| 98/98 [00:28<00:00,  3.43it/s]\n",
      "100%|██████████| 20/20 [00:12<00:00,  1.67it/s]\n"
     ]
    },
    {
     "name": "stdout",
     "output_type": "stream",
     "text": [
      "Test set: Average loss: 0.0023, Accuracy: 5751/10000 (57.51%)\n",
      "\n",
      "Epoch 24\n"
     ]
    },
    {
     "name": "stderr",
     "output_type": "stream",
     "text": [
      "Train: Loss=1.4646 Batch_id=97 Accuracy=46.72: 100%|██████████| 98/98 [00:28<00:00,  3.42it/s]\n",
      "100%|██████████| 20/20 [00:11<00:00,  1.73it/s]\n"
     ]
    },
    {
     "name": "stdout",
     "output_type": "stream",
     "text": [
      "Test set: Average loss: 0.0024, Accuracy: 5731/10000 (57.31%)\n",
      "\n",
      "Epoch 25\n"
     ]
    },
    {
     "name": "stderr",
     "output_type": "stream",
     "text": [
      "Train: Loss=1.5864 Batch_id=97 Accuracy=46.84: 100%|██████████| 98/98 [00:28<00:00,  3.43it/s]\n",
      "100%|██████████| 20/20 [00:12<00:00,  1.64it/s]\n"
     ]
    },
    {
     "name": "stdout",
     "output_type": "stream",
     "text": [
      "Test set: Average loss: 0.0023, Accuracy: 5790/10000 (57.90%)\n",
      "\n",
      "Epoch 26\n"
     ]
    },
    {
     "name": "stderr",
     "output_type": "stream",
     "text": [
      "Train: Loss=1.3886 Batch_id=97 Accuracy=47.47: 100%|██████████| 98/98 [00:28<00:00,  3.39it/s]\n",
      "100%|██████████| 20/20 [00:12<00:00,  1.65it/s]\n"
     ]
    },
    {
     "name": "stdout",
     "output_type": "stream",
     "text": [
      "Test set: Average loss: 0.0023, Accuracy: 5760/10000 (57.60%)\n",
      "\n",
      "Epoch 27\n"
     ]
    },
    {
     "name": "stderr",
     "output_type": "stream",
     "text": [
      "Train: Loss=1.3973 Batch_id=97 Accuracy=48.00: 100%|██████████| 98/98 [00:28<00:00,  3.42it/s]\n",
      "100%|██████████| 20/20 [00:12<00:00,  1.63it/s]\n"
     ]
    },
    {
     "name": "stdout",
     "output_type": "stream",
     "text": [
      "Test set: Average loss: 0.0023, Accuracy: 5936/10000 (59.36%)\n",
      "\n",
      "Epoch 28\n"
     ]
    },
    {
     "name": "stderr",
     "output_type": "stream",
     "text": [
      "Train: Loss=1.3390 Batch_id=97 Accuracy=48.45: 100%|██████████| 98/98 [00:28<00:00,  3.40it/s]\n",
      "100%|██████████| 20/20 [00:11<00:00,  1.71it/s]\n"
     ]
    },
    {
     "name": "stdout",
     "output_type": "stream",
     "text": [
      "Test set: Average loss: 0.0023, Accuracy: 5925/10000 (59.25%)\n",
      "\n",
      "Epoch 29\n"
     ]
    },
    {
     "name": "stderr",
     "output_type": "stream",
     "text": [
      "Train: Loss=1.4278 Batch_id=97 Accuracy=49.02: 100%|██████████| 98/98 [00:28<00:00,  3.40it/s]\n",
      "100%|██████████| 20/20 [00:12<00:00,  1.64it/s]\n"
     ]
    },
    {
     "name": "stdout",
     "output_type": "stream",
     "text": [
      "Test set: Average loss: 0.0022, Accuracy: 5967/10000 (59.67%)\n",
      "\n",
      "Epoch 30\n"
     ]
    },
    {
     "name": "stderr",
     "output_type": "stream",
     "text": [
      "Train: Loss=1.3131 Batch_id=97 Accuracy=49.24: 100%|██████████| 98/98 [00:28<00:00,  3.39it/s]\n",
      "100%|██████████| 20/20 [00:12<00:00,  1.65it/s]\n"
     ]
    },
    {
     "name": "stdout",
     "output_type": "stream",
     "text": [
      "Test set: Average loss: 0.0022, Accuracy: 5945/10000 (59.45%)\n",
      "\n",
      "Epoch 31\n"
     ]
    },
    {
     "name": "stderr",
     "output_type": "stream",
     "text": [
      "Train: Loss=1.3992 Batch_id=97 Accuracy=49.89: 100%|██████████| 98/98 [00:29<00:00,  3.35it/s]\n",
      "100%|██████████| 20/20 [00:13<00:00,  1.47it/s]\n"
     ]
    },
    {
     "name": "stdout",
     "output_type": "stream",
     "text": [
      "Test set: Average loss: 0.0022, Accuracy: 6107/10000 (61.07%)\n",
      "\n",
      "Epoch 32\n"
     ]
    },
    {
     "name": "stderr",
     "output_type": "stream",
     "text": [
      "Train: Loss=1.4097 Batch_id=97 Accuracy=49.95: 100%|██████████| 98/98 [00:29<00:00,  3.36it/s]\n",
      "100%|██████████| 20/20 [00:12<00:00,  1.65it/s]\n"
     ]
    },
    {
     "name": "stdout",
     "output_type": "stream",
     "text": [
      "Test set: Average loss: 0.0022, Accuracy: 6104/10000 (61.04%)\n",
      "\n",
      "Epoch 33\n"
     ]
    },
    {
     "name": "stderr",
     "output_type": "stream",
     "text": [
      "Train: Loss=1.3603 Batch_id=97 Accuracy=50.15: 100%|██████████| 98/98 [00:28<00:00,  3.41it/s]\n",
      "100%|██████████| 20/20 [00:12<00:00,  1.61it/s]\n"
     ]
    },
    {
     "name": "stdout",
     "output_type": "stream",
     "text": [
      "Test set: Average loss: 0.0022, Accuracy: 5989/10000 (59.89%)\n",
      "\n",
      "Epoch 34\n"
     ]
    },
    {
     "name": "stderr",
     "output_type": "stream",
     "text": [
      "Train: Loss=1.2999 Batch_id=97 Accuracy=50.66: 100%|██████████| 98/98 [00:28<00:00,  3.38it/s]\n",
      "100%|██████████| 20/20 [00:12<00:00,  1.61it/s]\n"
     ]
    },
    {
     "name": "stdout",
     "output_type": "stream",
     "text": [
      "Test set: Average loss: 0.0021, Accuracy: 6222/10000 (62.22%)\n",
      "\n",
      "Epoch 35\n"
     ]
    },
    {
     "name": "stderr",
     "output_type": "stream",
     "text": [
      "Train: Loss=1.3744 Batch_id=97 Accuracy=50.81: 100%|██████████| 98/98 [00:28<00:00,  3.39it/s]\n",
      "100%|██████████| 20/20 [00:12<00:00,  1.65it/s]\n"
     ]
    },
    {
     "name": "stdout",
     "output_type": "stream",
     "text": [
      "Test set: Average loss: 0.0021, Accuracy: 6327/10000 (63.27%)\n",
      "\n",
      "Epoch 36\n"
     ]
    },
    {
     "name": "stderr",
     "output_type": "stream",
     "text": [
      "Train: Loss=1.3560 Batch_id=97 Accuracy=51.20: 100%|██████████| 98/98 [00:28<00:00,  3.40it/s]\n",
      "100%|██████████| 20/20 [00:12<00:00,  1.61it/s]\n"
     ]
    },
    {
     "name": "stdout",
     "output_type": "stream",
     "text": [
      "Test set: Average loss: 0.0021, Accuracy: 6240/10000 (62.40%)\n",
      "\n",
      "Epoch 37\n"
     ]
    },
    {
     "name": "stderr",
     "output_type": "stream",
     "text": [
      "Train: Loss=1.3609 Batch_id=97 Accuracy=51.53: 100%|██████████| 98/98 [00:28<00:00,  3.42it/s]\n",
      "100%|██████████| 20/20 [00:11<00:00,  1.70it/s]\n"
     ]
    },
    {
     "name": "stdout",
     "output_type": "stream",
     "text": [
      "Test set: Average loss: 0.0021, Accuracy: 6214/10000 (62.14%)\n",
      "\n",
      "Epoch 38\n"
     ]
    },
    {
     "name": "stderr",
     "output_type": "stream",
     "text": [
      "Train: Loss=1.3588 Batch_id=97 Accuracy=52.27: 100%|██████████| 98/98 [00:29<00:00,  3.38it/s]\n",
      "100%|██████████| 20/20 [00:11<00:00,  1.70it/s]\n"
     ]
    },
    {
     "name": "stdout",
     "output_type": "stream",
     "text": [
      "Test set: Average loss: 0.0020, Accuracy: 6350/10000 (63.50%)\n",
      "\n",
      "Epoch 39\n"
     ]
    },
    {
     "name": "stderr",
     "output_type": "stream",
     "text": [
      "Train: Loss=1.4048 Batch_id=97 Accuracy=52.41: 100%|██████████| 98/98 [00:28<00:00,  3.39it/s]\n",
      "100%|██████████| 20/20 [00:11<00:00,  1.70it/s]\n"
     ]
    },
    {
     "name": "stdout",
     "output_type": "stream",
     "text": [
      "Test set: Average loss: 0.0020, Accuracy: 6425/10000 (64.25%)\n",
      "\n",
      "Epoch 40\n"
     ]
    },
    {
     "name": "stderr",
     "output_type": "stream",
     "text": [
      "Train: Loss=1.3812 Batch_id=97 Accuracy=52.51: 100%|██████████| 98/98 [00:28<00:00,  3.42it/s]\n",
      "100%|██████████| 20/20 [00:11<00:00,  1.70it/s]\n"
     ]
    },
    {
     "name": "stdout",
     "output_type": "stream",
     "text": [
      "Test set: Average loss: 0.0020, Accuracy: 6410/10000 (64.10%)\n",
      "\n",
      "Epoch 41\n"
     ]
    },
    {
     "name": "stderr",
     "output_type": "stream",
     "text": [
      "Train: Loss=1.2661 Batch_id=97 Accuracy=52.81: 100%|██████████| 98/98 [00:28<00:00,  3.40it/s]\n",
      "100%|██████████| 20/20 [00:11<00:00,  1.70it/s]\n"
     ]
    },
    {
     "name": "stdout",
     "output_type": "stream",
     "text": [
      "Test set: Average loss: 0.0019, Accuracy: 6554/10000 (65.54%)\n",
      "\n",
      "Epoch 42\n"
     ]
    },
    {
     "name": "stderr",
     "output_type": "stream",
     "text": [
      "Train: Loss=1.3329 Batch_id=97 Accuracy=53.00: 100%|██████████| 98/98 [00:28<00:00,  3.40it/s]\n",
      "100%|██████████| 20/20 [00:11<00:00,  1.70it/s]\n"
     ]
    },
    {
     "name": "stdout",
     "output_type": "stream",
     "text": [
      "Test set: Average loss: 0.0020, Accuracy: 6462/10000 (64.62%)\n",
      "\n",
      "Epoch 43\n"
     ]
    },
    {
     "name": "stderr",
     "output_type": "stream",
     "text": [
      "Train: Loss=1.4066 Batch_id=97 Accuracy=53.08: 100%|██████████| 98/98 [00:28<00:00,  3.39it/s]\n",
      "100%|██████████| 20/20 [00:11<00:00,  1.71it/s]\n"
     ]
    },
    {
     "name": "stdout",
     "output_type": "stream",
     "text": [
      "Test set: Average loss: 0.0019, Accuracy: 6545/10000 (65.45%)\n",
      "\n",
      "Epoch 44\n"
     ]
    },
    {
     "name": "stderr",
     "output_type": "stream",
     "text": [
      "Train: Loss=1.3500 Batch_id=97 Accuracy=53.66: 100%|██████████| 98/98 [00:29<00:00,  3.28it/s]\n",
      "100%|██████████| 20/20 [00:12<00:00,  1.61it/s]\n"
     ]
    },
    {
     "name": "stdout",
     "output_type": "stream",
     "text": [
      "Test set: Average loss: 0.0020, Accuracy: 6422/10000 (64.22%)\n",
      "\n",
      "Epoch 45\n"
     ]
    },
    {
     "name": "stderr",
     "output_type": "stream",
     "text": [
      "Train: Loss=1.2346 Batch_id=97 Accuracy=53.57: 100%|██████████| 98/98 [00:29<00:00,  3.29it/s]\n",
      "100%|██████████| 20/20 [00:12<00:00,  1.56it/s]\n"
     ]
    },
    {
     "name": "stdout",
     "output_type": "stream",
     "text": [
      "Test set: Average loss: 0.0019, Accuracy: 6526/10000 (65.26%)\n",
      "\n",
      "Epoch 46\n"
     ]
    },
    {
     "name": "stderr",
     "output_type": "stream",
     "text": [
      "Train: Loss=1.2989 Batch_id=97 Accuracy=54.54: 100%|██████████| 98/98 [00:30<00:00,  3.27it/s]\n",
      "100%|██████████| 20/20 [00:12<00:00,  1.59it/s]\n"
     ]
    },
    {
     "name": "stdout",
     "output_type": "stream",
     "text": [
      "Test set: Average loss: 0.0019, Accuracy: 6554/10000 (65.54%)\n",
      "\n",
      "Epoch 47\n"
     ]
    },
    {
     "name": "stderr",
     "output_type": "stream",
     "text": [
      "Train: Loss=1.2523 Batch_id=97 Accuracy=54.44: 100%|██████████| 98/98 [00:30<00:00,  3.25it/s]\n",
      "100%|██████████| 20/20 [00:12<00:00,  1.61it/s]\n"
     ]
    },
    {
     "name": "stdout",
     "output_type": "stream",
     "text": [
      "Test set: Average loss: 0.0019, Accuracy: 6620/10000 (66.20%)\n",
      "\n",
      "Epoch 48\n"
     ]
    },
    {
     "name": "stderr",
     "output_type": "stream",
     "text": [
      "Train: Loss=1.2607 Batch_id=97 Accuracy=54.48: 100%|██████████| 98/98 [00:30<00:00,  3.23it/s]\n",
      "100%|██████████| 20/20 [00:12<00:00,  1.61it/s]\n"
     ]
    },
    {
     "name": "stdout",
     "output_type": "stream",
     "text": [
      "Test set: Average loss: 0.0019, Accuracy: 6718/10000 (67.18%)\n",
      "\n",
      "Epoch 49\n"
     ]
    },
    {
     "name": "stderr",
     "output_type": "stream",
     "text": [
      "Train: Loss=1.2623 Batch_id=97 Accuracy=55.11: 100%|██████████| 98/98 [00:30<00:00,  3.25it/s]\n",
      "100%|██████████| 20/20 [00:13<00:00,  1.53it/s]\n"
     ]
    },
    {
     "name": "stdout",
     "output_type": "stream",
     "text": [
      "Test set: Average loss: 0.0018, Accuracy: 6741/10000 (67.41%)\n",
      "\n",
      "Epoch 50\n"
     ]
    },
    {
     "name": "stderr",
     "output_type": "stream",
     "text": [
      "Train: Loss=1.1719 Batch_id=97 Accuracy=55.11: 100%|██████████| 98/98 [00:31<00:00,  3.16it/s]\n",
      "100%|██████████| 20/20 [00:12<00:00,  1.58it/s]\n"
     ]
    },
    {
     "name": "stdout",
     "output_type": "stream",
     "text": [
      "Test set: Average loss: 0.0018, Accuracy: 6717/10000 (67.17%)\n",
      "\n",
      "Epoch 51\n"
     ]
    },
    {
     "name": "stderr",
     "output_type": "stream",
     "text": [
      "Train: Loss=1.2614 Batch_id=97 Accuracy=55.05: 100%|██████████| 98/98 [00:29<00:00,  3.27it/s]\n",
      "100%|██████████| 20/20 [00:12<00:00,  1.58it/s]\n"
     ]
    },
    {
     "name": "stdout",
     "output_type": "stream",
     "text": [
      "Test set: Average loss: 0.0018, Accuracy: 6790/10000 (67.90%)\n",
      "\n",
      "Epoch 52\n"
     ]
    },
    {
     "name": "stderr",
     "output_type": "stream",
     "text": [
      "Train: Loss=1.1261 Batch_id=97 Accuracy=55.10: 100%|██████████| 98/98 [00:29<00:00,  3.27it/s]\n",
      "100%|██████████| 20/20 [00:12<00:00,  1.59it/s]\n"
     ]
    },
    {
     "name": "stdout",
     "output_type": "stream",
     "text": [
      "Test set: Average loss: 0.0019, Accuracy: 6735/10000 (67.35%)\n",
      "\n",
      "Epoch 53\n"
     ]
    },
    {
     "name": "stderr",
     "output_type": "stream",
     "text": [
      "Train: Loss=1.3312 Batch_id=97 Accuracy=55.78: 100%|██████████| 98/98 [00:30<00:00,  3.25it/s]\n",
      "100%|██████████| 20/20 [00:12<00:00,  1.61it/s]\n"
     ]
    },
    {
     "name": "stdout",
     "output_type": "stream",
     "text": [
      "Test set: Average loss: 0.0018, Accuracy: 6840/10000 (68.40%)\n",
      "\n",
      "Epoch 54\n"
     ]
    },
    {
     "name": "stderr",
     "output_type": "stream",
     "text": [
      "Train: Loss=1.1756 Batch_id=97 Accuracy=56.25: 100%|██████████| 98/98 [00:30<00:00,  3.25it/s]\n",
      "100%|██████████| 20/20 [00:12<00:00,  1.61it/s]\n"
     ]
    },
    {
     "name": "stdout",
     "output_type": "stream",
     "text": [
      "Test set: Average loss: 0.0018, Accuracy: 6730/10000 (67.30%)\n",
      "\n",
      "Epoch 55\n"
     ]
    },
    {
     "name": "stderr",
     "output_type": "stream",
     "text": [
      "Train: Loss=1.2337 Batch_id=97 Accuracy=56.18: 100%|██████████| 98/98 [00:30<00:00,  3.21it/s]\n",
      "100%|██████████| 20/20 [00:12<00:00,  1.57it/s]\n"
     ]
    },
    {
     "name": "stdout",
     "output_type": "stream",
     "text": [
      "Test set: Average loss: 0.0018, Accuracy: 6814/10000 (68.14%)\n",
      "\n",
      "Epoch 56\n"
     ]
    },
    {
     "name": "stderr",
     "output_type": "stream",
     "text": [
      "Train: Loss=1.1627 Batch_id=97 Accuracy=56.41: 100%|██████████| 98/98 [00:30<00:00,  3.24it/s]\n",
      "100%|██████████| 20/20 [00:13<00:00,  1.52it/s]\n"
     ]
    },
    {
     "name": "stdout",
     "output_type": "stream",
     "text": [
      "Test set: Average loss: 0.0018, Accuracy: 6875/10000 (68.75%)\n",
      "\n",
      "Epoch 57\n"
     ]
    },
    {
     "name": "stderr",
     "output_type": "stream",
     "text": [
      "Train: Loss=1.2561 Batch_id=97 Accuracy=56.49: 100%|██████████| 98/98 [00:30<00:00,  3.26it/s]\n",
      "100%|██████████| 20/20 [00:12<00:00,  1.60it/s]\n"
     ]
    },
    {
     "name": "stdout",
     "output_type": "stream",
     "text": [
      "Test set: Average loss: 0.0018, Accuracy: 6816/10000 (68.16%)\n",
      "\n",
      "Epoch 58\n"
     ]
    },
    {
     "name": "stderr",
     "output_type": "stream",
     "text": [
      "Train: Loss=1.2611 Batch_id=97 Accuracy=56.73: 100%|██████████| 98/98 [00:29<00:00,  3.28it/s]\n",
      "100%|██████████| 20/20 [00:12<00:00,  1.60it/s]\n"
     ]
    },
    {
     "name": "stdout",
     "output_type": "stream",
     "text": [
      "Test set: Average loss: 0.0018, Accuracy: 6888/10000 (68.88%)\n",
      "\n",
      "Epoch 59\n"
     ]
    },
    {
     "name": "stderr",
     "output_type": "stream",
     "text": [
      "Train: Loss=1.0728 Batch_id=97 Accuracy=56.84: 100%|██████████| 98/98 [00:30<00:00,  3.27it/s]\n",
      "100%|██████████| 20/20 [00:12<00:00,  1.59it/s]\n"
     ]
    },
    {
     "name": "stdout",
     "output_type": "stream",
     "text": [
      "Test set: Average loss: 0.0017, Accuracy: 6944/10000 (69.44%)\n",
      "\n",
      "Epoch 60\n"
     ]
    },
    {
     "name": "stderr",
     "output_type": "stream",
     "text": [
      "Train: Loss=1.2809 Batch_id=97 Accuracy=56.99: 100%|██████████| 98/98 [00:30<00:00,  3.24it/s]\n",
      "100%|██████████| 20/20 [00:12<00:00,  1.58it/s]\n"
     ]
    },
    {
     "name": "stdout",
     "output_type": "stream",
     "text": [
      "Test set: Average loss: 0.0017, Accuracy: 7012/10000 (70.12%)\n",
      "\n",
      "Epoch 61\n"
     ]
    },
    {
     "name": "stderr",
     "output_type": "stream",
     "text": [
      "Train: Loss=1.1963 Batch_id=97 Accuracy=57.09: 100%|██████████| 98/98 [00:30<00:00,  3.26it/s]\n",
      "100%|██████████| 20/20 [00:12<00:00,  1.62it/s]\n"
     ]
    },
    {
     "name": "stdout",
     "output_type": "stream",
     "text": [
      "Test set: Average loss: 0.0017, Accuracy: 6964/10000 (69.64%)\n",
      "\n",
      "Epoch 62\n"
     ]
    },
    {
     "name": "stderr",
     "output_type": "stream",
     "text": [
      "Train: Loss=1.1937 Batch_id=97 Accuracy=57.24: 100%|██████████| 98/98 [00:30<00:00,  3.24it/s]\n",
      "100%|██████████| 20/20 [00:12<00:00,  1.57it/s]\n"
     ]
    },
    {
     "name": "stdout",
     "output_type": "stream",
     "text": [
      "Test set: Average loss: 0.0018, Accuracy: 6805/10000 (68.05%)\n",
      "\n",
      "Epoch 63\n"
     ]
    },
    {
     "name": "stderr",
     "output_type": "stream",
     "text": [
      "Train: Loss=1.1328 Batch_id=97 Accuracy=57.28: 100%|██████████| 98/98 [00:30<00:00,  3.24it/s]\n",
      "100%|██████████| 20/20 [00:12<00:00,  1.60it/s]\n"
     ]
    },
    {
     "name": "stdout",
     "output_type": "stream",
     "text": [
      "Test set: Average loss: 0.0017, Accuracy: 6959/10000 (69.59%)\n",
      "\n",
      "Epoch 64\n"
     ]
    },
    {
     "name": "stderr",
     "output_type": "stream",
     "text": [
      "Train: Loss=1.1803 Batch_id=97 Accuracy=57.62: 100%|██████████| 98/98 [00:29<00:00,  3.27it/s]\n",
      "100%|██████████| 20/20 [00:12<00:00,  1.56it/s]\n"
     ]
    },
    {
     "name": "stdout",
     "output_type": "stream",
     "text": [
      "Test set: Average loss: 0.0017, Accuracy: 7010/10000 (70.10%)\n",
      "\n",
      "Epoch 65\n"
     ]
    },
    {
     "name": "stderr",
     "output_type": "stream",
     "text": [
      "Train: Loss=1.0924 Batch_id=97 Accuracy=57.96: 100%|██████████| 98/98 [00:30<00:00,  3.23it/s]\n",
      "100%|██████████| 20/20 [00:12<00:00,  1.58it/s]\n"
     ]
    },
    {
     "name": "stdout",
     "output_type": "stream",
     "text": [
      "Test set: Average loss: 0.0017, Accuracy: 6888/10000 (68.88%)\n",
      "\n",
      "Epoch 66\n"
     ]
    },
    {
     "name": "stderr",
     "output_type": "stream",
     "text": [
      "Train: Loss=1.2871 Batch_id=97 Accuracy=57.66: 100%|██████████| 98/98 [00:29<00:00,  3.27it/s]\n",
      "100%|██████████| 20/20 [00:12<00:00,  1.58it/s]\n"
     ]
    },
    {
     "name": "stdout",
     "output_type": "stream",
     "text": [
      "Test set: Average loss: 0.0017, Accuracy: 7047/10000 (70.47%)\n",
      "\n",
      "Epoch 67\n"
     ]
    },
    {
     "name": "stderr",
     "output_type": "stream",
     "text": [
      "Train: Loss=1.1762 Batch_id=97 Accuracy=57.84: 100%|██████████| 98/98 [00:30<00:00,  3.25it/s]\n",
      "100%|██████████| 20/20 [00:12<00:00,  1.61it/s]\n"
     ]
    },
    {
     "name": "stdout",
     "output_type": "stream",
     "text": [
      "Test set: Average loss: 0.0018, Accuracy: 6862/10000 (68.62%)\n",
      "\n",
      "Epoch 68\n"
     ]
    },
    {
     "name": "stderr",
     "output_type": "stream",
     "text": [
      "Train: Loss=1.1389 Batch_id=97 Accuracy=58.14: 100%|██████████| 98/98 [00:29<00:00,  3.28it/s]\n",
      "100%|██████████| 20/20 [00:12<00:00,  1.60it/s]\n"
     ]
    },
    {
     "name": "stdout",
     "output_type": "stream",
     "text": [
      "Test set: Average loss: 0.0017, Accuracy: 6942/10000 (69.42%)\n",
      "\n",
      "Epoch 69\n"
     ]
    },
    {
     "name": "stderr",
     "output_type": "stream",
     "text": [
      "Train: Loss=1.1438 Batch_id=97 Accuracy=58.17: 100%|██████████| 98/98 [00:30<00:00,  3.27it/s]\n",
      "100%|██████████| 20/20 [00:12<00:00,  1.63it/s]\n"
     ]
    },
    {
     "name": "stdout",
     "output_type": "stream",
     "text": [
      "Test set: Average loss: 0.0017, Accuracy: 7061/10000 (70.61%)\n",
      "\n",
      "Epoch 70\n"
     ]
    },
    {
     "name": "stderr",
     "output_type": "stream",
     "text": [
      "Train: Loss=1.1720 Batch_id=97 Accuracy=58.39: 100%|██████████| 98/98 [00:29<00:00,  3.28it/s]\n",
      "100%|██████████| 20/20 [00:12<00:00,  1.57it/s]\n"
     ]
    },
    {
     "name": "stdout",
     "output_type": "stream",
     "text": [
      "Test set: Average loss: 0.0017, Accuracy: 6999/10000 (69.99%)\n",
      "\n",
      "Epoch 71\n"
     ]
    },
    {
     "name": "stderr",
     "output_type": "stream",
     "text": [
      "Train: Loss=1.2600 Batch_id=97 Accuracy=58.71: 100%|██████████| 98/98 [00:30<00:00,  3.26it/s]\n",
      "100%|██████████| 20/20 [00:12<00:00,  1.61it/s]\n"
     ]
    },
    {
     "name": "stdout",
     "output_type": "stream",
     "text": [
      "Test set: Average loss: 0.0017, Accuracy: 7070/10000 (70.70%)\n",
      "\n",
      "Epoch 72\n"
     ]
    },
    {
     "name": "stderr",
     "output_type": "stream",
     "text": [
      "Train: Loss=1.2283 Batch_id=97 Accuracy=58.85: 100%|██████████| 98/98 [00:29<00:00,  3.27it/s]\n",
      "100%|██████████| 20/20 [00:12<00:00,  1.59it/s]\n"
     ]
    },
    {
     "name": "stdout",
     "output_type": "stream",
     "text": [
      "Test set: Average loss: 0.0017, Accuracy: 7066/10000 (70.66%)\n",
      "\n",
      "Epoch 73\n"
     ]
    },
    {
     "name": "stderr",
     "output_type": "stream",
     "text": [
      "Train: Loss=1.0955 Batch_id=97 Accuracy=58.79: 100%|██████████| 98/98 [00:29<00:00,  3.27it/s]\n",
      "100%|██████████| 20/20 [00:12<00:00,  1.58it/s]\n"
     ]
    },
    {
     "name": "stdout",
     "output_type": "stream",
     "text": [
      "Test set: Average loss: 0.0017, Accuracy: 7031/10000 (70.31%)\n",
      "\n",
      "Epoch 74\n"
     ]
    },
    {
     "name": "stderr",
     "output_type": "stream",
     "text": [
      "Train: Loss=1.2042 Batch_id=97 Accuracy=59.00: 100%|██████████| 98/98 [00:30<00:00,  3.22it/s]\n",
      "100%|██████████| 20/20 [00:12<00:00,  1.55it/s]\n"
     ]
    },
    {
     "name": "stdout",
     "output_type": "stream",
     "text": [
      "Test set: Average loss: 0.0017, Accuracy: 7040/10000 (70.40%)\n",
      "\n",
      "Epoch 75\n"
     ]
    },
    {
     "name": "stderr",
     "output_type": "stream",
     "text": [
      "Train: Loss=1.1937 Batch_id=97 Accuracy=58.75: 100%|██████████| 98/98 [00:30<00:00,  3.24it/s]\n",
      "100%|██████████| 20/20 [00:12<00:00,  1.63it/s]\n"
     ]
    },
    {
     "name": "stdout",
     "output_type": "stream",
     "text": [
      "Test set: Average loss: 0.0017, Accuracy: 7089/10000 (70.89%)\n",
      "\n",
      "Epoch 76\n"
     ]
    },
    {
     "name": "stderr",
     "output_type": "stream",
     "text": [
      "Train: Loss=1.1144 Batch_id=97 Accuracy=58.97: 100%|██████████| 98/98 [00:29<00:00,  3.28it/s]\n",
      "100%|██████████| 20/20 [00:09<00:00,  2.05it/s]\n"
     ]
    },
    {
     "name": "stdout",
     "output_type": "stream",
     "text": [
      "Test set: Average loss: 0.0016, Accuracy: 7123/10000 (71.23%)\n",
      "\n",
      "Epoch 77\n"
     ]
    },
    {
     "name": "stderr",
     "output_type": "stream",
     "text": [
      "Train: Loss=1.2284 Batch_id=97 Accuracy=58.98: 100%|██████████| 98/98 [00:31<00:00,  3.16it/s]\n",
      "100%|██████████| 20/20 [00:09<00:00,  2.06it/s]\n"
     ]
    },
    {
     "name": "stdout",
     "output_type": "stream",
     "text": [
      "Test set: Average loss: 0.0017, Accuracy: 7113/10000 (71.13%)\n",
      "\n",
      "Epoch 78\n"
     ]
    },
    {
     "name": "stderr",
     "output_type": "stream",
     "text": [
      "Train: Loss=1.1423 Batch_id=97 Accuracy=59.11: 100%|██████████| 98/98 [00:30<00:00,  3.18it/s]\n",
      "100%|██████████| 20/20 [00:09<00:00,  2.06it/s]\n"
     ]
    },
    {
     "name": "stdout",
     "output_type": "stream",
     "text": [
      "Test set: Average loss: 0.0016, Accuracy: 7171/10000 (71.71%)\n",
      "\n",
      "Epoch 79\n"
     ]
    },
    {
     "name": "stderr",
     "output_type": "stream",
     "text": [
      "Train: Loss=1.1077 Batch_id=97 Accuracy=59.60: 100%|██████████| 98/98 [00:30<00:00,  3.18it/s]\n",
      "100%|██████████| 20/20 [00:09<00:00,  2.08it/s]\n"
     ]
    },
    {
     "name": "stdout",
     "output_type": "stream",
     "text": [
      "Test set: Average loss: 0.0016, Accuracy: 7179/10000 (71.79%)\n",
      "\n",
      "Epoch 80\n"
     ]
    },
    {
     "name": "stderr",
     "output_type": "stream",
     "text": [
      "Train: Loss=1.1194 Batch_id=97 Accuracy=59.52: 100%|██████████| 98/98 [00:31<00:00,  3.16it/s]\n",
      "100%|██████████| 20/20 [00:09<00:00,  2.05it/s]\n"
     ]
    },
    {
     "name": "stdout",
     "output_type": "stream",
     "text": [
      "Test set: Average loss: 0.0016, Accuracy: 7174/10000 (71.74%)\n",
      "\n",
      "Epoch 81\n"
     ]
    },
    {
     "name": "stderr",
     "output_type": "stream",
     "text": [
      "Train: Loss=1.1636 Batch_id=97 Accuracy=59.33: 100%|██████████| 98/98 [00:31<00:00,  3.12it/s]\n",
      "100%|██████████| 20/20 [00:09<00:00,  2.09it/s]\n"
     ]
    },
    {
     "name": "stdout",
     "output_type": "stream",
     "text": [
      "Test set: Average loss: 0.0016, Accuracy: 7182/10000 (71.82%)\n",
      "\n",
      "Epoch 82\n"
     ]
    },
    {
     "name": "stderr",
     "output_type": "stream",
     "text": [
      "Train: Loss=1.1702 Batch_id=97 Accuracy=59.84: 100%|██████████| 98/98 [00:31<00:00,  3.16it/s]\n",
      "100%|██████████| 20/20 [00:09<00:00,  2.02it/s]\n"
     ]
    },
    {
     "name": "stdout",
     "output_type": "stream",
     "text": [
      "Test set: Average loss: 0.0016, Accuracy: 7172/10000 (71.72%)\n",
      "\n",
      "Epoch 83\n"
     ]
    },
    {
     "name": "stderr",
     "output_type": "stream",
     "text": [
      "Train: Loss=1.0744 Batch_id=97 Accuracy=59.58: 100%|██████████| 98/98 [00:30<00:00,  3.16it/s]\n",
      "100%|██████████| 20/20 [00:09<00:00,  2.04it/s]\n"
     ]
    },
    {
     "name": "stdout",
     "output_type": "stream",
     "text": [
      "Test set: Average loss: 0.0016, Accuracy: 7177/10000 (71.77%)\n",
      "\n",
      "Epoch 84\n"
     ]
    },
    {
     "name": "stderr",
     "output_type": "stream",
     "text": [
      "Train: Loss=1.0996 Batch_id=97 Accuracy=60.04: 100%|██████████| 98/98 [00:31<00:00,  3.14it/s]\n",
      "100%|██████████| 20/20 [00:09<00:00,  2.07it/s]\n"
     ]
    },
    {
     "name": "stdout",
     "output_type": "stream",
     "text": [
      "Test set: Average loss: 0.0016, Accuracy: 7225/10000 (72.25%)\n",
      "\n",
      "Epoch 85\n"
     ]
    },
    {
     "name": "stderr",
     "output_type": "stream",
     "text": [
      "Train: Loss=1.2570 Batch_id=97 Accuracy=60.04: 100%|██████████| 98/98 [00:30<00:00,  3.16it/s]\n",
      "100%|██████████| 20/20 [00:09<00:00,  2.05it/s]\n"
     ]
    },
    {
     "name": "stdout",
     "output_type": "stream",
     "text": [
      "Test set: Average loss: 0.0016, Accuracy: 7133/10000 (71.33%)\n",
      "\n",
      "Epoch 86\n"
     ]
    },
    {
     "name": "stderr",
     "output_type": "stream",
     "text": [
      "Train: Loss=1.0791 Batch_id=97 Accuracy=59.62: 100%|██████████| 98/98 [00:30<00:00,  3.16it/s]\n",
      "100%|██████████| 20/20 [00:09<00:00,  2.09it/s]\n"
     ]
    },
    {
     "name": "stdout",
     "output_type": "stream",
     "text": [
      "Test set: Average loss: 0.0016, Accuracy: 7199/10000 (71.99%)\n",
      "\n",
      "Epoch 87\n"
     ]
    },
    {
     "name": "stderr",
     "output_type": "stream",
     "text": [
      "Train: Loss=1.1653 Batch_id=97 Accuracy=59.90: 100%|██████████| 98/98 [00:31<00:00,  3.15it/s]\n",
      "100%|██████████| 20/20 [00:09<00:00,  2.08it/s]\n"
     ]
    },
    {
     "name": "stdout",
     "output_type": "stream",
     "text": [
      "Test set: Average loss: 0.0016, Accuracy: 7089/10000 (70.89%)\n",
      "\n",
      "Epoch 88\n"
     ]
    },
    {
     "name": "stderr",
     "output_type": "stream",
     "text": [
      "Train: Loss=1.1291 Batch_id=97 Accuracy=60.27: 100%|██████████| 98/98 [00:30<00:00,  3.16it/s]\n",
      "100%|██████████| 20/20 [00:09<00:00,  2.09it/s]\n"
     ]
    },
    {
     "name": "stdout",
     "output_type": "stream",
     "text": [
      "Test set: Average loss: 0.0016, Accuracy: 7167/10000 (71.67%)\n",
      "\n",
      "Epoch 89\n"
     ]
    },
    {
     "name": "stderr",
     "output_type": "stream",
     "text": [
      "Train: Loss=1.1624 Batch_id=97 Accuracy=60.34: 100%|██████████| 98/98 [00:30<00:00,  3.16it/s]\n",
      "100%|██████████| 20/20 [00:09<00:00,  2.08it/s]\n"
     ]
    },
    {
     "name": "stdout",
     "output_type": "stream",
     "text": [
      "Test set: Average loss: 0.0016, Accuracy: 7178/10000 (71.78%)\n",
      "\n",
      "Epoch 90\n"
     ]
    },
    {
     "name": "stderr",
     "output_type": "stream",
     "text": [
      "Train: Loss=1.1941 Batch_id=97 Accuracy=60.39: 100%|██████████| 98/98 [00:30<00:00,  3.17it/s]\n",
      "100%|██████████| 20/20 [00:09<00:00,  2.04it/s]\n"
     ]
    },
    {
     "name": "stdout",
     "output_type": "stream",
     "text": [
      "Test set: Average loss: 0.0016, Accuracy: 7240/10000 (72.40%)\n",
      "\n",
      "Epoch 91\n"
     ]
    },
    {
     "name": "stderr",
     "output_type": "stream",
     "text": [
      "Train: Loss=1.0786 Batch_id=97 Accuracy=60.70: 100%|██████████| 98/98 [00:30<00:00,  3.16it/s]\n",
      "100%|██████████| 20/20 [00:09<00:00,  2.08it/s]\n"
     ]
    },
    {
     "name": "stdout",
     "output_type": "stream",
     "text": [
      "Test set: Average loss: 0.0016, Accuracy: 7220/10000 (72.20%)\n",
      "\n",
      "Epoch 92\n"
     ]
    },
    {
     "name": "stderr",
     "output_type": "stream",
     "text": [
      "Train: Loss=1.1291 Batch_id=97 Accuracy=60.39: 100%|██████████| 98/98 [00:30<00:00,  3.17it/s]\n",
      "100%|██████████| 20/20 [00:09<00:00,  2.08it/s]\n"
     ]
    },
    {
     "name": "stdout",
     "output_type": "stream",
     "text": [
      "Test set: Average loss: 0.0016, Accuracy: 7216/10000 (72.16%)\n",
      "\n",
      "Epoch 93\n"
     ]
    },
    {
     "name": "stderr",
     "output_type": "stream",
     "text": [
      "Train: Loss=1.0924 Batch_id=97 Accuracy=60.55: 100%|██████████| 98/98 [00:30<00:00,  3.17it/s]\n",
      "100%|██████████| 20/20 [00:09<00:00,  2.04it/s]\n"
     ]
    },
    {
     "name": "stdout",
     "output_type": "stream",
     "text": [
      "Test set: Average loss: 0.0015, Accuracy: 7316/10000 (73.16%)\n",
      "\n",
      "Epoch 94\n"
     ]
    },
    {
     "name": "stderr",
     "output_type": "stream",
     "text": [
      "Train: Loss=1.1325 Batch_id=97 Accuracy=60.78: 100%|██████████| 98/98 [00:31<00:00,  3.16it/s]\n",
      "100%|██████████| 20/20 [00:09<00:00,  2.08it/s]\n"
     ]
    },
    {
     "name": "stdout",
     "output_type": "stream",
     "text": [
      "Test set: Average loss: 0.0016, Accuracy: 7251/10000 (72.51%)\n",
      "\n",
      "Epoch 95\n"
     ]
    },
    {
     "name": "stderr",
     "output_type": "stream",
     "text": [
      "Train: Loss=1.1507 Batch_id=97 Accuracy=61.11: 100%|██████████| 98/98 [00:31<00:00,  3.16it/s]\n",
      "100%|██████████| 20/20 [00:09<00:00,  2.05it/s]\n"
     ]
    },
    {
     "name": "stdout",
     "output_type": "stream",
     "text": [
      "Test set: Average loss: 0.0016, Accuracy: 7259/10000 (72.59%)\n",
      "\n",
      "Epoch 96\n"
     ]
    },
    {
     "name": "stderr",
     "output_type": "stream",
     "text": [
      "Train: Loss=1.1369 Batch_id=97 Accuracy=61.05: 100%|██████████| 98/98 [00:30<00:00,  3.16it/s]\n",
      "100%|██████████| 20/20 [00:09<00:00,  2.04it/s]\n"
     ]
    },
    {
     "name": "stdout",
     "output_type": "stream",
     "text": [
      "Test set: Average loss: 0.0016, Accuracy: 7248/10000 (72.48%)\n",
      "\n",
      "Epoch 97\n"
     ]
    },
    {
     "name": "stderr",
     "output_type": "stream",
     "text": [
      "Train: Loss=1.2287 Batch_id=97 Accuracy=60.80: 100%|██████████| 98/98 [00:31<00:00,  3.16it/s]\n",
      "100%|██████████| 20/20 [00:09<00:00,  2.08it/s]\n"
     ]
    },
    {
     "name": "stdout",
     "output_type": "stream",
     "text": [
      "Test set: Average loss: 0.0016, Accuracy: 7186/10000 (71.86%)\n",
      "\n",
      "Epoch 98\n"
     ]
    },
    {
     "name": "stderr",
     "output_type": "stream",
     "text": [
      "Train: Loss=1.1570 Batch_id=97 Accuracy=61.13: 100%|██████████| 98/98 [00:30<00:00,  3.17it/s]\n",
      "100%|██████████| 20/20 [00:09<00:00,  2.09it/s]\n"
     ]
    },
    {
     "name": "stdout",
     "output_type": "stream",
     "text": [
      "Test set: Average loss: 0.0015, Accuracy: 7313/10000 (73.13%)\n",
      "\n",
      "Epoch 99\n"
     ]
    },
    {
     "name": "stderr",
     "output_type": "stream",
     "text": [
      "Train: Loss=1.1286 Batch_id=97 Accuracy=61.12: 100%|██████████| 98/98 [00:30<00:00,  3.16it/s]\n",
      "100%|██████████| 20/20 [00:09<00:00,  2.04it/s]\n"
     ]
    },
    {
     "name": "stdout",
     "output_type": "stream",
     "text": [
      "Test set: Average loss: 0.0015, Accuracy: 7358/10000 (73.58%)\n",
      "\n",
      "Epoch 100\n"
     ]
    },
    {
     "name": "stderr",
     "output_type": "stream",
     "text": [
      "Train: Loss=1.0819 Batch_id=97 Accuracy=61.22: 100%|██████████| 98/98 [00:30<00:00,  3.16it/s]\n",
      "100%|██████████| 20/20 [00:09<00:00,  2.07it/s]"
     ]
    },
    {
     "name": "stdout",
     "output_type": "stream",
     "text": [
      "Test set: Average loss: 0.0016, Accuracy: 7263/10000 (72.63%)\n",
      "\n"
     ]
    },
    {
     "name": "stderr",
     "output_type": "stream",
     "text": [
      "\n"
     ]
    }
   ],
   "source": [
    "\n",
    "criterion = F.nll_loss\n",
    "num_epochs = 100\n",
    "optimizer_sgd = optim.SGD(model.parameters(), lr=0.01,momentum=0.9)\n",
    "scheduler = optim.lr_scheduler.OneCycleLR(optimizer_sgd,max_lr=1.91e-01,epochs=num_epochs,steps_per_epoch=25)\n",
    "\n",
    "\n",
    "for epoch in range(1, num_epochs+1):\n",
    "  print(f'Epoch {epoch}')\n",
    "  train(model, device, train_loader, optimizer_sgd,criterion)\n",
    "  test(model, device, test_loader, criterion)\n",
    "  scheduler.step()\n",
    "\n"
   ]
  },
  {
   "cell_type": "code",
   "execution_count": 14,
   "metadata": {},
   "outputs": [
    {
     "data": {
      "image/png": "[encoded data removed]",
      "text/plain": [
       "<Figure size 1500x1000 with 4 Axes>"
      ]
     },
     "metadata": {},
     "output_type": "display_data"
    }
   ],
   "source": [
    "plot_acc_loss()"
   ]
  },
  {
   "cell_type": "code",
   "execution_count": null,
   "metadata": {},
   "outputs": [],
   "source": []
  },
  {
   "cell_type": "code",
   "execution_count": null,
   "metadata": {},
   "outputs": [],
   "source": [
    "layers = [\n",
    "    {'kernel_size': 3, 'stride': 1, 'dilation': 1},  # convblock1 starts\n",
    "    {'kernel_size': 3, 'stride': 1, 'dilation': 1},\n",
    "    {'kernel_size': 3, 'stride': 1, 'dilation': 1},\n",
    "    {'kernel_size': 3, 'stride': 1, 'dilation': 2},\n",
    "    {'kernel_size': 3, 'stride': 2, 'dilation': 1},  # convblock1 ends, convblock2 starts\n",
    "    {'kernel_size': 3, 'stride': 1, 'dilation': 1},\n",
    "    {'kernel_size': 3, 'stride': 1, 'dilation': 1},\n",
    "    {'kernel_size': 3, 'stride': 1, 'dilation': 4},\n",
    "    {'kernel_size': 3, 'stride': 2, 'dilation': 1},  # convblock2 ends, convblock3 starts\n",
    "    {'kernel_size': 3, 'stride': 1, 'dilation': 1},\n",
    "    {'kernel_size': 3, 'stride': 1, 'dilation': 1},\n",
    "    {'kernel_size': 3, 'stride': 1, 'dilation': 2},\n",
    "    {'kernel_size': 3, 'stride': 2, 'dilation': 1},  # convblock3 ends, convblock4 starts\n",
    "    {'kernel_size': 3, 'stride': 1, 'dilation': 1},\n",
    "    {'kernel_size': 3, 'stride': 1, 'dilation': 1},\n",
    "    {'kernel_size': 3, 'stride': 1, 'dilation': 2},\n",
    "    {'kernel_size': 3, 'stride': 1, 'dilation': 1}  # convblock4 ends\n",
    "]\n",
    "\n",
    "rf = 1  # Initial receptive field\n",
    "jump = 1\n",
    "\n",
    "for layer in layers:\n",
    "    rf = rf + ((layer['kernel_size'] - 1) * layer['dilation']) * jump\n",
    "    jump *= layer['stride']\n",
    "\n",
    "print(f\"Receptive Field: {rf}\")\n"
   ]
  },
  {
   "cell_type": "code",
   "execution_count": null,
   "metadata": {},
   "outputs": [],
   "source": []
  },
  {
   "cell_type": "code",
   "execution_count": null,
   "metadata": {},
   "outputs": [],
   "source": []
  },
  {
   "cell_type": "code",
   "execution_count": null,
   "metadata": {},
   "outputs": [],
   "source": []
  }
 ],
 "metadata": {
  "kernelspec": {
   "display_name": "pytorch",
   "language": "python",
   "name": "python3"
  },
  "language_info": {
   "codemirror_mode": {
    "name": "ipython",
    "version": 3
   },
   "file_extension": ".py",
   "mimetype": "text/x-python",
   "name": "python",
   "nbconvert_exporter": "python",
   "pygments_lexer": "ipython3",
   "version": "3.11.5"
  }
 },
 "nbformat": 4,
 "nbformat_minor": 2
}
