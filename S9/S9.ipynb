{
 "cells": [
  {
   "cell_type": "code",
   "execution_count": 1,
   "metadata": {},
   "outputs": [
    {
     "name": "stderr",
     "output_type": "stream",
     "text": [
      "c:\\Users\\Aai\\anaconda3\\envs\\pytorch\\Lib\\site-packages\\transformers\\utils\\generic.py:441: UserWarning: torch.utils._pytree._register_pytree_node is deprecated. Please use torch.utils._pytree.register_pytree_node instead.\n",
      "  _torch_pytree._register_pytree_node(\n"
     ]
    },
    {
     "name": "stdout",
     "output_type": "stream",
     "text": [
      "cuda\n"
     ]
    }
   ],
   "source": [
    "import torch\n",
    "import torch.nn as nn\n",
    "import torch.nn.functional as F\n",
    "import torch.optim as optim\n",
    "from torchvision import datasets, transforms\n",
    "import matplotlib.pyplot as plt\n",
    "import numpy as np\n",
    "from datasets import load_data_S9\n",
    "from  Utils import test,train,plot_acc_loss\n",
    "from models import model_summary\n",
    "\n",
    "device = torch.device( 'cuda' if torch.cuda.is_available() else 'cpu')\n",
    "print(device)"
   ]
  },
  {
   "cell_type": "code",
   "execution_count": 2,
   "metadata": {},
   "outputs": [
    {
     "name": "stdout",
     "output_type": "stream",
     "text": [
      "CUDA Available? True\n",
      "Files already downloaded and verified\n",
      "Files already downloaded and verified\n"
     ]
    }
   ],
   "source": [
    "train_loader , test_loader = load_data_S9()"
   ]
  },
  {
   "cell_type": "code",
   "execution_count": 3,
   "metadata": {},
   "outputs": [],
   "source": [
    "class S9_model(nn.Module):\n",
    "    def __init__(self):\n",
    "        super(S9_model,self).__init__()\n",
    "\n",
    "\n",
    "        self.convblock1 = nn.Sequential(\n",
    "            nn.Conv2d(in_channels=3,out_channels=128,kernel_size=3,padding=1),\n",
    "            nn.ReLU(),\n",
    "            nn.BatchNorm2d(128),\n",
    "            nn.Dropout2d(0.1),\n",
    "            nn.Conv2d(in_channels=128,out_channels=32,kernel_size=3,padding=1),\n",
    "            nn.ReLU(),\n",
    "            nn.Dropout2d(0.1),\n",
    "            nn.BatchNorm2d(32),\n",
    "            nn.Conv2d(in_channels=32,out_channels=32,kernel_size=3,padding=1,groups=32),\n",
    "            nn.Conv2d(in_channels=32,out_channels=32,kernel_size=1),\n",
    "            nn.BatchNorm2d(32),\n",
    "            nn.ReLU(),\n",
    "            nn.Dropout2d(0.1),\n",
    "            nn.Conv2d(in_channels=32,out_channels=32,kernel_size=3,padding=2,dilation=2),\n",
    "            nn.Conv2d(in_channels=32,out_channels=32,kernel_size=3,stride=2,padding=1),\n",
    "            nn.BatchNorm2d(32),\n",
    "            nn.ReLU(),\n",
    "            nn.Dropout2d(0.1)\n",
    "        )\n",
    "        self.convblock2 = nn.Sequential(\n",
    "            nn.Conv2d(in_channels=32,out_channels=32,kernel_size=3,padding=1),\n",
    "            nn.ReLU(),\n",
    "            nn.BatchNorm2d(32),\n",
    "            nn.Dropout2d(0.1),\n",
    "            nn.Conv2d(in_channels=32,out_channels=32,kernel_size=3,padding=1),\n",
    "            nn.ReLU(),\n",
    "            nn.BatchNorm2d(32),\n",
    "            nn.Dropout2d(0.1),\n",
    "            nn.Conv2d(in_channels=32,out_channels=32,kernel_size=3,padding=1,groups=32),\n",
    "            nn.Conv2d(in_channels=32,out_channels=32,kernel_size=1),\n",
    "            nn.BatchNorm2d(32),\n",
    "            nn.ReLU(),\n",
    "            nn.Dropout2d(0.1),\n",
    "            nn.Conv2d(in_channels=32,out_channels=32,kernel_size=3,padding=2,dilation=4),\n",
    "            nn.Conv2d(in_channels=32,out_channels=16,kernel_size=3,stride=2,padding=1),\n",
    "            nn.BatchNorm2d(16),\n",
    "            nn.ReLU(),\n",
    "            nn.Dropout2d(0.1)\n",
    "        )\n",
    "        self.convblock3 = nn.Sequential(\n",
    "            nn.Conv2d(in_channels=16,out_channels=32,kernel_size=3,padding=1),\n",
    "            nn.ReLU(),\n",
    "            nn.BatchNorm2d(32),\n",
    "            nn.Dropout2d(0.1),\n",
    "            nn.Conv2d(in_channels=32,out_channels=32,kernel_size=3,padding=1),\n",
    "            nn.ReLU(),\n",
    "            nn.BatchNorm2d(32),\n",
    "            nn.Dropout2d(0.1),\n",
    "            nn.Conv2d(in_channels=32,out_channels=32,kernel_size=3,padding=1,groups=32),\n",
    "            nn.Conv2d(in_channels=32,out_channels=64,kernel_size=1),\n",
    "            nn.BatchNorm2d(64),\n",
    "            nn.ReLU(),\n",
    "            nn.Dropout2d(0.1),\n",
    "            nn.Conv2d(in_channels=64,out_channels=32,kernel_size=3,padding=2,dilation=2),\n",
    "            nn.Conv2d(in_channels=32,out_channels=32,kernel_size=3,stride=2,padding=1),\n",
    "            nn.BatchNorm2d(32),\n",
    "            nn.ReLU(),\n",
    "            nn.Dropout2d(0.1)\n",
    "        )\n",
    "        self.convblock4 = nn.Sequential(\n",
    "            nn.Conv2d(in_channels=32,out_channels=16,kernel_size=3,padding=1),\n",
    "            nn.ReLU(),\n",
    "            nn.BatchNorm2d(16),\n",
    "            nn.Dropout2d(0.1),\n",
    "            nn.Conv2d(in_channels=16,out_channels=16,kernel_size=3,padding=1),\n",
    "            nn.ReLU(),\n",
    "            nn.BatchNorm2d(16),\n",
    "            nn.Dropout2d(0.1),\n",
    "            nn.Conv2d(in_channels=16,out_channels=16,kernel_size=3,padding=1,groups=16),\n",
    "            nn.Conv2d(in_channels=16,out_channels=16,kernel_size=1),\n",
    "            nn.BatchNorm2d(16),\n",
    "            nn.ReLU(),\n",
    "            nn.Dropout2d(0.1),\n",
    "            nn.Conv2d(in_channels=16,out_channels=16,kernel_size=3,padding=2,dilation=2),\n",
    "            nn.Conv2d(in_channels=16,out_channels=32,kernel_size=3,stride=1),\n",
    "            nn.BatchNorm2d(32),\n",
    "            nn.ReLU(),\n",
    "            nn.Dropout2d(0.1)\n",
    "        )\n",
    "        self.gap = nn.AdaptiveAvgPool2d((1,1))\n",
    "        self.fc = nn.Linear(in_features=32,out_features=10)\n",
    "\n",
    "\n",
    "    def forward(self,x):\n",
    "        x = self.convblock1(x)\n",
    "        x = self.convblock2(x)\n",
    "        x = self.convblock3(x)\n",
    "        x = self.convblock4(x)\n",
    "        x = self.gap(x)\n",
    "        x = x.view(x.size(0),-1)\n",
    "        x = self.fc(x)\n",
    "        x = F.log_softmax(x,dim=1)\n",
    "        return x"
   ]
  },
  {
   "cell_type": "code",
   "execution_count": 4,
   "metadata": {},
   "outputs": [
    {
     "name": "stdout",
     "output_type": "stream",
     "text": [
      "----------------------------------------------------------------\n",
      "        Layer (type)               Output Shape         Param #\n",
      "================================================================\n",
      "            Conv2d-1          [-1, 128, 32, 32]           3,584\n",
      "              ReLU-2          [-1, 128, 32, 32]               0\n",
      "       BatchNorm2d-3          [-1, 128, 32, 32]             256\n",
      "         Dropout2d-4          [-1, 128, 32, 32]               0\n",
      "            Conv2d-5           [-1, 32, 32, 32]          36,896\n",
      "              ReLU-6           [-1, 32, 32, 32]               0\n",
      "         Dropout2d-7           [-1, 32, 32, 32]               0\n",
      "       BatchNorm2d-8           [-1, 32, 32, 32]              64\n",
      "            Conv2d-9           [-1, 32, 32, 32]             320\n",
      "           Conv2d-10           [-1, 32, 32, 32]           1,056\n",
      "      BatchNorm2d-11           [-1, 32, 32, 32]              64\n",
      "             ReLU-12           [-1, 32, 32, 32]               0\n",
      "        Dropout2d-13           [-1, 32, 32, 32]               0\n",
      "           Conv2d-14           [-1, 32, 32, 32]           9,248\n",
      "           Conv2d-15           [-1, 32, 16, 16]           9,248\n",
      "      BatchNorm2d-16           [-1, 32, 16, 16]              64\n",
      "             ReLU-17           [-1, 32, 16, 16]               0\n",
      "        Dropout2d-18           [-1, 32, 16, 16]               0\n",
      "           Conv2d-19           [-1, 32, 16, 16]           9,248\n",
      "             ReLU-20           [-1, 32, 16, 16]               0\n",
      "      BatchNorm2d-21           [-1, 32, 16, 16]              64\n",
      "        Dropout2d-22           [-1, 32, 16, 16]               0\n",
      "           Conv2d-23           [-1, 32, 16, 16]           9,248\n",
      "             ReLU-24           [-1, 32, 16, 16]               0\n",
      "      BatchNorm2d-25           [-1, 32, 16, 16]              64\n",
      "        Dropout2d-26           [-1, 32, 16, 16]               0\n",
      "           Conv2d-27           [-1, 32, 16, 16]             320\n",
      "           Conv2d-28           [-1, 32, 16, 16]           1,056\n",
      "      BatchNorm2d-29           [-1, 32, 16, 16]              64\n",
      "             ReLU-30           [-1, 32, 16, 16]               0\n",
      "        Dropout2d-31           [-1, 32, 16, 16]               0\n",
      "           Conv2d-32           [-1, 32, 12, 12]           9,248\n",
      "           Conv2d-33             [-1, 16, 6, 6]           4,624\n",
      "      BatchNorm2d-34             [-1, 16, 6, 6]              32\n",
      "             ReLU-35             [-1, 16, 6, 6]               0\n",
      "        Dropout2d-36             [-1, 16, 6, 6]               0\n",
      "           Conv2d-37             [-1, 32, 6, 6]           4,640\n",
      "             ReLU-38             [-1, 32, 6, 6]               0\n",
      "      BatchNorm2d-39             [-1, 32, 6, 6]              64\n",
      "        Dropout2d-40             [-1, 32, 6, 6]               0\n",
      "           Conv2d-41             [-1, 32, 6, 6]           9,248\n",
      "             ReLU-42             [-1, 32, 6, 6]               0\n",
      "      BatchNorm2d-43             [-1, 32, 6, 6]              64\n",
      "        Dropout2d-44             [-1, 32, 6, 6]               0\n",
      "           Conv2d-45             [-1, 32, 6, 6]             320\n",
      "           Conv2d-46             [-1, 64, 6, 6]           2,112\n",
      "      BatchNorm2d-47             [-1, 64, 6, 6]             128\n",
      "             ReLU-48             [-1, 64, 6, 6]               0\n",
      "        Dropout2d-49             [-1, 64, 6, 6]               0\n",
      "           Conv2d-50             [-1, 32, 6, 6]          18,464\n",
      "           Conv2d-51             [-1, 32, 3, 3]           9,248\n",
      "      BatchNorm2d-52             [-1, 32, 3, 3]              64\n",
      "             ReLU-53             [-1, 32, 3, 3]               0\n",
      "        Dropout2d-54             [-1, 32, 3, 3]               0\n",
      "           Conv2d-55             [-1, 16, 3, 3]           4,624\n",
      "             ReLU-56             [-1, 16, 3, 3]               0\n",
      "      BatchNorm2d-57             [-1, 16, 3, 3]              32\n",
      "        Dropout2d-58             [-1, 16, 3, 3]               0\n",
      "           Conv2d-59             [-1, 16, 3, 3]           2,320\n",
      "             ReLU-60             [-1, 16, 3, 3]               0\n",
      "      BatchNorm2d-61             [-1, 16, 3, 3]              32\n",
      "        Dropout2d-62             [-1, 16, 3, 3]               0\n",
      "           Conv2d-63             [-1, 16, 3, 3]             160\n",
      "           Conv2d-64             [-1, 16, 3, 3]             272\n",
      "      BatchNorm2d-65             [-1, 16, 3, 3]              32\n",
      "             ReLU-66             [-1, 16, 3, 3]               0\n",
      "        Dropout2d-67             [-1, 16, 3, 3]               0\n",
      "           Conv2d-68             [-1, 16, 3, 3]           2,320\n",
      "           Conv2d-69             [-1, 32, 1, 1]           4,640\n",
      "      BatchNorm2d-70             [-1, 32, 1, 1]              64\n",
      "             ReLU-71             [-1, 32, 1, 1]               0\n",
      "        Dropout2d-72             [-1, 32, 1, 1]               0\n",
      "AdaptiveAvgPool2d-73             [-1, 32, 1, 1]               0\n",
      "           Linear-74                   [-1, 10]             330\n",
      "================================================================\n",
      "Total params: 153,946\n",
      "Trainable params: 153,946\n",
      "Non-trainable params: 0\n",
      "----------------------------------------------------------------\n",
      "Input size (MB): 0.01\n",
      "Forward/backward pass size (MB): 7.80\n",
      "Params size (MB): 0.59\n",
      "Estimated Total Size (MB): 8.40\n",
      "----------------------------------------------------------------\n"
     ]
    }
   ],
   "source": [
    "model = S9_model().to(device)\n",
    "model_summary(model,input_size=(3,32,32))"
   ]
  },
  {
   "cell_type": "code",
   "execution_count": 6,
   "metadata": {},
   "outputs": [
    {
     "name": "stdout",
     "output_type": "stream",
     "text": [
      "Epoch 1\n"
     ]
    },
    {
     "name": "stderr",
     "output_type": "stream",
     "text": [
      "Train: Loss=1.1976 Batch_id=97 Accuracy=60.45: 100%|██████████| 98/98 [00:31<00:00,  3.13it/s]\n",
      "100%|██████████| 20/20 [00:11<00:00,  1.71it/s]\n"
     ]
    },
    {
     "name": "stdout",
     "output_type": "stream",
     "text": [
      "Test set: Average loss: 0.0016, Accuracy: 7222/10000 (72.22%)\n",
      "\n",
      "Epoch 2\n"
     ]
    },
    {
     "name": "stderr",
     "output_type": "stream",
     "text": [
      "Train: Loss=1.1294 Batch_id=97 Accuracy=60.76: 100%|██████████| 98/98 [00:32<00:00,  3.04it/s]\n",
      "100%|██████████| 20/20 [00:09<00:00,  2.07it/s]\n"
     ]
    },
    {
     "name": "stdout",
     "output_type": "stream",
     "text": [
      "Test set: Average loss: 0.0015, Accuracy: 7307/10000 (73.07%)\n",
      "\n",
      "Epoch 3\n"
     ]
    },
    {
     "name": "stderr",
     "output_type": "stream",
     "text": [
      "Train: Loss=1.1971 Batch_id=97 Accuracy=60.39: 100%|██████████| 98/98 [00:30<00:00,  3.17it/s]\n",
      "100%|██████████| 20/20 [00:09<00:00,  2.05it/s]\n"
     ]
    },
    {
     "name": "stdout",
     "output_type": "stream",
     "text": [
      "Test set: Average loss: 0.0015, Accuracy: 7297/10000 (72.97%)\n",
      "\n",
      "Epoch 4\n"
     ]
    },
    {
     "name": "stderr",
     "output_type": "stream",
     "text": [
      "Train: Loss=1.1128 Batch_id=97 Accuracy=60.58: 100%|██████████| 98/98 [00:31<00:00,  3.08it/s]\n",
      "100%|██████████| 20/20 [00:10<00:00,  1.88it/s]\n"
     ]
    },
    {
     "name": "stdout",
     "output_type": "stream",
     "text": [
      "Test set: Average loss: 0.0015, Accuracy: 7314/10000 (73.14%)\n",
      "\n",
      "Epoch 5\n"
     ]
    },
    {
     "name": "stderr",
     "output_type": "stream",
     "text": [
      "Train: Loss=1.1172 Batch_id=97 Accuracy=60.92: 100%|██████████| 98/98 [00:32<00:00,  3.03it/s]\n",
      "100%|██████████| 20/20 [00:09<00:00,  2.11it/s]\n"
     ]
    },
    {
     "name": "stdout",
     "output_type": "stream",
     "text": [
      "Test set: Average loss: 0.0016, Accuracy: 7267/10000 (72.67%)\n",
      "\n",
      "Epoch 6\n"
     ]
    },
    {
     "name": "stderr",
     "output_type": "stream",
     "text": [
      "Train: Loss=1.0792 Batch_id=97 Accuracy=60.63: 100%|██████████| 98/98 [00:30<00:00,  3.18it/s]\n",
      "100%|██████████| 20/20 [00:09<00:00,  2.12it/s]\n"
     ]
    },
    {
     "name": "stdout",
     "output_type": "stream",
     "text": [
      "Test set: Average loss: 0.0016, Accuracy: 7178/10000 (71.78%)\n",
      "\n",
      "Epoch 7\n"
     ]
    },
    {
     "name": "stderr",
     "output_type": "stream",
     "text": [
      "Train: Loss=1.1498 Batch_id=97 Accuracy=61.27: 100%|██████████| 98/98 [00:31<00:00,  3.15it/s]\n",
      "100%|██████████| 20/20 [00:10<00:00,  1.86it/s]\n"
     ]
    },
    {
     "name": "stdout",
     "output_type": "stream",
     "text": [
      "Test set: Average loss: 0.0015, Accuracy: 7298/10000 (72.98%)\n",
      "\n",
      "Epoch 8\n"
     ]
    },
    {
     "name": "stderr",
     "output_type": "stream",
     "text": [
      "Train: Loss=1.1789 Batch_id=97 Accuracy=61.07: 100%|██████████| 98/98 [00:32<00:00,  2.99it/s]\n",
      "100%|██████████| 20/20 [00:10<00:00,  1.87it/s]\n"
     ]
    },
    {
     "name": "stdout",
     "output_type": "stream",
     "text": [
      "Test set: Average loss: 0.0016, Accuracy: 7188/10000 (71.88%)\n",
      "\n",
      "Epoch 9\n"
     ]
    },
    {
     "name": "stderr",
     "output_type": "stream",
     "text": [
      "Train: Loss=1.1033 Batch_id=97 Accuracy=61.37: 100%|██████████| 98/98 [00:32<00:00,  3.01it/s]\n",
      "100%|██████████| 20/20 [00:09<00:00,  2.07it/s]\n"
     ]
    },
    {
     "name": "stdout",
     "output_type": "stream",
     "text": [
      "Test set: Average loss: 0.0016, Accuracy: 7193/10000 (71.93%)\n",
      "\n",
      "Epoch 10\n"
     ]
    },
    {
     "name": "stderr",
     "output_type": "stream",
     "text": [
      "Train: Loss=1.1109 Batch_id=97 Accuracy=61.01: 100%|██████████| 98/98 [00:30<00:00,  3.17it/s]\n",
      "100%|██████████| 20/20 [00:09<00:00,  2.11it/s]\n"
     ]
    },
    {
     "name": "stdout",
     "output_type": "stream",
     "text": [
      "Test set: Average loss: 0.0015, Accuracy: 7341/10000 (73.41%)\n",
      "\n",
      "Epoch 11\n"
     ]
    },
    {
     "name": "stderr",
     "output_type": "stream",
     "text": [
      "Train: Loss=1.0502 Batch_id=97 Accuracy=61.29: 100%|██████████| 98/98 [00:30<00:00,  3.17it/s]\n",
      "100%|██████████| 20/20 [00:09<00:00,  2.05it/s]\n"
     ]
    },
    {
     "name": "stdout",
     "output_type": "stream",
     "text": [
      "Test set: Average loss: 0.0015, Accuracy: 7284/10000 (72.84%)\n",
      "\n",
      "Epoch 12\n"
     ]
    },
    {
     "name": "stderr",
     "output_type": "stream",
     "text": [
      "Train: Loss=1.1642 Batch_id=97 Accuracy=61.29: 100%|██████████| 98/98 [00:32<00:00,  3.02it/s]\n",
      "100%|██████████| 20/20 [00:09<00:00,  2.08it/s]\n"
     ]
    },
    {
     "name": "stdout",
     "output_type": "stream",
     "text": [
      "Test set: Average loss: 0.0016, Accuracy: 7275/10000 (72.75%)\n",
      "\n",
      "Epoch 13\n"
     ]
    },
    {
     "name": "stderr",
     "output_type": "stream",
     "text": [
      "Train: Loss=1.0301 Batch_id=97 Accuracy=61.68: 100%|██████████| 98/98 [00:30<00:00,  3.17it/s]\n",
      "100%|██████████| 20/20 [00:09<00:00,  2.10it/s]\n"
     ]
    },
    {
     "name": "stdout",
     "output_type": "stream",
     "text": [
      "Test set: Average loss: 0.0015, Accuracy: 7385/10000 (73.85%)\n",
      "\n",
      "Epoch 14\n"
     ]
    },
    {
     "name": "stderr",
     "output_type": "stream",
     "text": [
      "Train: Loss=1.0739 Batch_id=97 Accuracy=61.54: 100%|██████████| 98/98 [00:30<00:00,  3.19it/s]\n",
      "100%|██████████| 20/20 [00:09<00:00,  2.08it/s]\n"
     ]
    },
    {
     "name": "stdout",
     "output_type": "stream",
     "text": [
      "Test set: Average loss: 0.0015, Accuracy: 7311/10000 (73.11%)\n",
      "\n",
      "Epoch 15\n"
     ]
    },
    {
     "name": "stderr",
     "output_type": "stream",
     "text": [
      "Train: Loss=1.0661 Batch_id=97 Accuracy=61.65: 100%|██████████| 98/98 [00:30<00:00,  3.17it/s]\n",
      "100%|██████████| 20/20 [00:09<00:00,  2.11it/s]\n"
     ]
    },
    {
     "name": "stdout",
     "output_type": "stream",
     "text": [
      "Test set: Average loss: 0.0015, Accuracy: 7313/10000 (73.13%)\n",
      "\n",
      "Epoch 16\n"
     ]
    },
    {
     "name": "stderr",
     "output_type": "stream",
     "text": [
      "Train: Loss=1.0990 Batch_id=97 Accuracy=61.58: 100%|██████████| 98/98 [00:30<00:00,  3.17it/s]\n",
      "100%|██████████| 20/20 [00:09<00:00,  2.11it/s]\n"
     ]
    },
    {
     "name": "stdout",
     "output_type": "stream",
     "text": [
      "Test set: Average loss: 0.0015, Accuracy: 7349/10000 (73.49%)\n",
      "\n",
      "Epoch 17\n"
     ]
    },
    {
     "name": "stderr",
     "output_type": "stream",
     "text": [
      "Train: Loss=1.1063 Batch_id=97 Accuracy=61.75: 100%|██████████| 98/98 [00:30<00:00,  3.17it/s]\n",
      "100%|██████████| 20/20 [00:09<00:00,  2.12it/s]\n"
     ]
    },
    {
     "name": "stdout",
     "output_type": "stream",
     "text": [
      "Test set: Average loss: 0.0015, Accuracy: 7337/10000 (73.37%)\n",
      "\n",
      "Epoch 18\n"
     ]
    },
    {
     "name": "stderr",
     "output_type": "stream",
     "text": [
      "Train: Loss=1.1092 Batch_id=97 Accuracy=62.06: 100%|██████████| 98/98 [00:30<00:00,  3.17it/s]\n",
      "100%|██████████| 20/20 [00:09<00:00,  2.10it/s]\n"
     ]
    },
    {
     "name": "stdout",
     "output_type": "stream",
     "text": [
      "Test set: Average loss: 0.0015, Accuracy: 7326/10000 (73.26%)\n",
      "\n",
      "Epoch 19\n"
     ]
    },
    {
     "name": "stderr",
     "output_type": "stream",
     "text": [
      "Train: Loss=1.1490 Batch_id=97 Accuracy=61.50: 100%|██████████| 98/98 [00:30<00:00,  3.17it/s]\n",
      "100%|██████████| 20/20 [00:09<00:00,  2.09it/s]\n"
     ]
    },
    {
     "name": "stdout",
     "output_type": "stream",
     "text": [
      "Test set: Average loss: 0.0015, Accuracy: 7445/10000 (74.45%)\n",
      "\n",
      "Epoch 20\n"
     ]
    },
    {
     "name": "stderr",
     "output_type": "stream",
     "text": [
      "Train: Loss=1.0321 Batch_id=97 Accuracy=62.14: 100%|██████████| 98/98 [00:30<00:00,  3.18it/s]\n",
      "100%|██████████| 20/20 [00:09<00:00,  2.11it/s]\n"
     ]
    },
    {
     "name": "stdout",
     "output_type": "stream",
     "text": [
      "Test set: Average loss: 0.0015, Accuracy: 7445/10000 (74.45%)\n",
      "\n",
      "Epoch 21\n"
     ]
    },
    {
     "name": "stderr",
     "output_type": "stream",
     "text": [
      "Train: Loss=1.0564 Batch_id=97 Accuracy=61.92: 100%|██████████| 98/98 [00:30<00:00,  3.17it/s]\n",
      "100%|██████████| 20/20 [00:09<00:00,  2.12it/s]\n"
     ]
    },
    {
     "name": "stdout",
     "output_type": "stream",
     "text": [
      "Test set: Average loss: 0.0015, Accuracy: 7359/10000 (73.59%)\n",
      "\n",
      "Epoch 22\n"
     ]
    },
    {
     "name": "stderr",
     "output_type": "stream",
     "text": [
      "Train: Loss=1.0377 Batch_id=97 Accuracy=62.02: 100%|██████████| 98/98 [00:30<00:00,  3.17it/s]\n",
      "100%|██████████| 20/20 [00:09<00:00,  2.12it/s]\n"
     ]
    },
    {
     "name": "stdout",
     "output_type": "stream",
     "text": [
      "Test set: Average loss: 0.0015, Accuracy: 7334/10000 (73.34%)\n",
      "\n",
      "Epoch 23\n"
     ]
    },
    {
     "name": "stderr",
     "output_type": "stream",
     "text": [
      "Train: Loss=1.0427 Batch_id=97 Accuracy=61.87: 100%|██████████| 98/98 [00:30<00:00,  3.19it/s]\n",
      "100%|██████████| 20/20 [00:09<00:00,  2.11it/s]\n"
     ]
    },
    {
     "name": "stdout",
     "output_type": "stream",
     "text": [
      "Test set: Average loss: 0.0015, Accuracy: 7317/10000 (73.17%)\n",
      "\n",
      "Epoch 24\n"
     ]
    },
    {
     "name": "stderr",
     "output_type": "stream",
     "text": [
      "Train: Loss=1.0785 Batch_id=97 Accuracy=62.38: 100%|██████████| 98/98 [00:30<00:00,  3.17it/s]\n",
      "100%|██████████| 20/20 [00:09<00:00,  2.10it/s]\n"
     ]
    },
    {
     "name": "stdout",
     "output_type": "stream",
     "text": [
      "Test set: Average loss: 0.0015, Accuracy: 7411/10000 (74.11%)\n",
      "\n",
      "Epoch 25\n"
     ]
    },
    {
     "name": "stderr",
     "output_type": "stream",
     "text": [
      "Train: Loss=1.0030 Batch_id=97 Accuracy=62.19: 100%|██████████| 98/98 [00:32<00:00,  3.03it/s]\n",
      "100%|██████████| 20/20 [00:09<00:00,  2.10it/s]\n"
     ]
    },
    {
     "name": "stdout",
     "output_type": "stream",
     "text": [
      "Test set: Average loss: 0.0015, Accuracy: 7468/10000 (74.68%)\n",
      "\n",
      "Epoch 26\n"
     ]
    },
    {
     "name": "stderr",
     "output_type": "stream",
     "text": [
      "Train: Loss=1.0578 Batch_id=97 Accuracy=62.33: 100%|██████████| 98/98 [00:30<00:00,  3.22it/s]\n",
      "100%|██████████| 20/20 [00:09<00:00,  2.15it/s]\n"
     ]
    },
    {
     "name": "stdout",
     "output_type": "stream",
     "text": [
      "Test set: Average loss: 0.0015, Accuracy: 7340/10000 (73.40%)\n",
      "\n",
      "Epoch 27\n"
     ]
    },
    {
     "name": "stderr",
     "output_type": "stream",
     "text": [
      "Train: Loss=0.9752 Batch_id=97 Accuracy=62.45: 100%|██████████| 98/98 [00:30<00:00,  3.20it/s]\n",
      "100%|██████████| 20/20 [00:09<00:00,  2.12it/s]\n"
     ]
    },
    {
     "name": "stdout",
     "output_type": "stream",
     "text": [
      "Test set: Average loss: 0.0015, Accuracy: 7406/10000 (74.06%)\n",
      "\n",
      "Epoch 28\n"
     ]
    },
    {
     "name": "stderr",
     "output_type": "stream",
     "text": [
      "Train: Loss=1.0291 Batch_id=97 Accuracy=62.06: 100%|██████████| 98/98 [00:30<00:00,  3.21it/s]\n",
      "100%|██████████| 20/20 [00:09<00:00,  2.13it/s]\n"
     ]
    },
    {
     "name": "stdout",
     "output_type": "stream",
     "text": [
      "Test set: Average loss: 0.0014, Accuracy: 7501/10000 (75.01%)\n",
      "\n",
      "Epoch 29\n"
     ]
    },
    {
     "name": "stderr",
     "output_type": "stream",
     "text": [
      "Train: Loss=1.0863 Batch_id=97 Accuracy=62.31: 100%|██████████| 98/98 [00:30<00:00,  3.22it/s]\n",
      "100%|██████████| 20/20 [00:09<00:00,  2.13it/s]\n"
     ]
    },
    {
     "name": "stdout",
     "output_type": "stream",
     "text": [
      "Test set: Average loss: 0.0014, Accuracy: 7436/10000 (74.36%)\n",
      "\n",
      "Epoch 30\n"
     ]
    },
    {
     "name": "stderr",
     "output_type": "stream",
     "text": [
      "Train: Loss=1.0484 Batch_id=97 Accuracy=62.42: 100%|██████████| 98/98 [00:30<00:00,  3.20it/s]\n",
      "100%|██████████| 20/20 [00:09<00:00,  2.13it/s]\n"
     ]
    },
    {
     "name": "stdout",
     "output_type": "stream",
     "text": [
      "Test set: Average loss: 0.0014, Accuracy: 7453/10000 (74.53%)\n",
      "\n",
      "Epoch 31\n"
     ]
    },
    {
     "name": "stderr",
     "output_type": "stream",
     "text": [
      "Train: Loss=1.1140 Batch_id=97 Accuracy=62.69: 100%|██████████| 98/98 [00:30<00:00,  3.20it/s]\n",
      "100%|██████████| 20/20 [00:09<00:00,  2.12it/s]\n"
     ]
    },
    {
     "name": "stdout",
     "output_type": "stream",
     "text": [
      "Test set: Average loss: 0.0014, Accuracy: 7478/10000 (74.78%)\n",
      "\n",
      "Epoch 32\n"
     ]
    },
    {
     "name": "stderr",
     "output_type": "stream",
     "text": [
      "Train: Loss=1.0399 Batch_id=97 Accuracy=62.96: 100%|██████████| 98/98 [00:30<00:00,  3.21it/s]\n",
      "100%|██████████| 20/20 [00:09<00:00,  2.13it/s]\n"
     ]
    },
    {
     "name": "stdout",
     "output_type": "stream",
     "text": [
      "Test set: Average loss: 0.0015, Accuracy: 7396/10000 (73.96%)\n",
      "\n",
      "Epoch 33\n"
     ]
    },
    {
     "name": "stderr",
     "output_type": "stream",
     "text": [
      "Train: Loss=1.1016 Batch_id=97 Accuracy=62.66: 100%|██████████| 98/98 [00:30<00:00,  3.23it/s]\n",
      "100%|██████████| 20/20 [00:09<00:00,  2.12it/s]\n"
     ]
    },
    {
     "name": "stdout",
     "output_type": "stream",
     "text": [
      "Test set: Average loss: 0.0014, Accuracy: 7478/10000 (74.78%)\n",
      "\n",
      "Epoch 34\n"
     ]
    },
    {
     "name": "stderr",
     "output_type": "stream",
     "text": [
      "Train: Loss=1.1010 Batch_id=97 Accuracy=63.06: 100%|██████████| 98/98 [00:30<00:00,  3.21it/s]\n",
      "100%|██████████| 20/20 [00:09<00:00,  2.13it/s]\n"
     ]
    },
    {
     "name": "stdout",
     "output_type": "stream",
     "text": [
      "Test set: Average loss: 0.0014, Accuracy: 7507/10000 (75.07%)\n",
      "\n",
      "Epoch 35\n"
     ]
    },
    {
     "name": "stderr",
     "output_type": "stream",
     "text": [
      "Train: Loss=1.0684 Batch_id=97 Accuracy=63.19: 100%|██████████| 98/98 [00:31<00:00,  3.15it/s]\n",
      "100%|██████████| 20/20 [00:09<00:00,  2.11it/s]\n"
     ]
    },
    {
     "name": "stdout",
     "output_type": "stream",
     "text": [
      "Test set: Average loss: 0.0014, Accuracy: 7533/10000 (75.33%)\n",
      "\n",
      "Epoch 36\n"
     ]
    },
    {
     "name": "stderr",
     "output_type": "stream",
     "text": [
      "Train: Loss=1.0708 Batch_id=97 Accuracy=63.15: 100%|██████████| 98/98 [00:30<00:00,  3.22it/s]\n",
      "100%|██████████| 20/20 [00:09<00:00,  2.13it/s]\n"
     ]
    },
    {
     "name": "stdout",
     "output_type": "stream",
     "text": [
      "Test set: Average loss: 0.0014, Accuracy: 7493/10000 (74.93%)\n",
      "\n",
      "Epoch 37\n"
     ]
    },
    {
     "name": "stderr",
     "output_type": "stream",
     "text": [
      "Train: Loss=1.1003 Batch_id=97 Accuracy=62.97: 100%|██████████| 98/98 [00:30<00:00,  3.20it/s]\n",
      "100%|██████████| 20/20 [00:09<00:00,  2.13it/s]\n"
     ]
    },
    {
     "name": "stdout",
     "output_type": "stream",
     "text": [
      "Test set: Average loss: 0.0014, Accuracy: 7495/10000 (74.95%)\n",
      "\n",
      "Epoch 38\n"
     ]
    },
    {
     "name": "stderr",
     "output_type": "stream",
     "text": [
      "Train: Loss=1.0643 Batch_id=97 Accuracy=63.11: 100%|██████████| 98/98 [00:30<00:00,  3.20it/s]\n",
      "100%|██████████| 20/20 [00:09<00:00,  2.14it/s]\n"
     ]
    },
    {
     "name": "stdout",
     "output_type": "stream",
     "text": [
      "Test set: Average loss: 0.0014, Accuracy: 7517/10000 (75.17%)\n",
      "\n",
      "Epoch 39\n"
     ]
    },
    {
     "name": "stderr",
     "output_type": "stream",
     "text": [
      "Train: Loss=1.0894 Batch_id=97 Accuracy=63.15: 100%|██████████| 98/98 [00:30<00:00,  3.22it/s]\n",
      "100%|██████████| 20/20 [00:09<00:00,  2.13it/s]\n"
     ]
    },
    {
     "name": "stdout",
     "output_type": "stream",
     "text": [
      "Test set: Average loss: 0.0014, Accuracy: 7486/10000 (74.86%)\n",
      "\n",
      "Epoch 40\n"
     ]
    },
    {
     "name": "stderr",
     "output_type": "stream",
     "text": [
      "Train: Loss=1.0135 Batch_id=97 Accuracy=63.14: 100%|██████████| 98/98 [00:30<00:00,  3.20it/s]\n",
      "100%|██████████| 20/20 [00:09<00:00,  2.12it/s]\n"
     ]
    },
    {
     "name": "stdout",
     "output_type": "stream",
     "text": [
      "Test set: Average loss: 0.0014, Accuracy: 7516/10000 (75.16%)\n",
      "\n",
      "Epoch 41\n"
     ]
    },
    {
     "name": "stderr",
     "output_type": "stream",
     "text": [
      "Train: Loss=0.9771 Batch_id=97 Accuracy=63.75: 100%|██████████| 98/98 [00:30<00:00,  3.20it/s]\n",
      "100%|██████████| 20/20 [00:09<00:00,  2.13it/s]\n"
     ]
    },
    {
     "name": "stdout",
     "output_type": "stream",
     "text": [
      "Test set: Average loss: 0.0014, Accuracy: 7504/10000 (75.04%)\n",
      "\n",
      "Epoch 42\n"
     ]
    },
    {
     "name": "stderr",
     "output_type": "stream",
     "text": [
      "Train: Loss=1.0726 Batch_id=97 Accuracy=63.52: 100%|██████████| 98/98 [00:30<00:00,  3.22it/s]\n",
      "100%|██████████| 20/20 [00:09<00:00,  2.13it/s]\n"
     ]
    },
    {
     "name": "stdout",
     "output_type": "stream",
     "text": [
      "Test set: Average loss: 0.0015, Accuracy: 7454/10000 (74.54%)\n",
      "\n",
      "Epoch 43\n"
     ]
    },
    {
     "name": "stderr",
     "output_type": "stream",
     "text": [
      "Train: Loss=1.0913 Batch_id=97 Accuracy=63.34: 100%|██████████| 98/98 [00:30<00:00,  3.21it/s]\n",
      "100%|██████████| 20/20 [00:09<00:00,  2.13it/s]\n"
     ]
    },
    {
     "name": "stdout",
     "output_type": "stream",
     "text": [
      "Test set: Average loss: 0.0014, Accuracy: 7536/10000 (75.36%)\n",
      "\n",
      "Epoch 44\n"
     ]
    },
    {
     "name": "stderr",
     "output_type": "stream",
     "text": [
      "Train: Loss=1.0226 Batch_id=97 Accuracy=63.46: 100%|██████████| 98/98 [00:30<00:00,  3.21it/s]\n",
      "100%|██████████| 20/20 [00:09<00:00,  2.13it/s]\n"
     ]
    },
    {
     "name": "stdout",
     "output_type": "stream",
     "text": [
      "Test set: Average loss: 0.0014, Accuracy: 7557/10000 (75.57%)\n",
      "\n",
      "Epoch 45\n"
     ]
    },
    {
     "name": "stderr",
     "output_type": "stream",
     "text": [
      "Train: Loss=1.1457 Batch_id=97 Accuracy=63.75: 100%|██████████| 98/98 [00:30<00:00,  3.22it/s]\n",
      "100%|██████████| 20/20 [00:09<00:00,  2.13it/s]\n"
     ]
    },
    {
     "name": "stdout",
     "output_type": "stream",
     "text": [
      "Test set: Average loss: 0.0014, Accuracy: 7595/10000 (75.95%)\n",
      "\n",
      "Epoch 46\n"
     ]
    },
    {
     "name": "stderr",
     "output_type": "stream",
     "text": [
      "Train: Loss=0.9145 Batch_id=97 Accuracy=63.81: 100%|██████████| 98/98 [00:30<00:00,  3.21it/s]\n",
      "100%|██████████| 20/20 [00:09<00:00,  2.13it/s]\n"
     ]
    },
    {
     "name": "stdout",
     "output_type": "stream",
     "text": [
      "Test set: Average loss: 0.0014, Accuracy: 7540/10000 (75.40%)\n",
      "\n",
      "Epoch 47\n"
     ]
    },
    {
     "name": "stderr",
     "output_type": "stream",
     "text": [
      "Train: Loss=1.0086 Batch_id=97 Accuracy=63.57: 100%|██████████| 98/98 [00:30<00:00,  3.22it/s]\n",
      "100%|██████████| 20/20 [00:09<00:00,  2.13it/s]\n"
     ]
    },
    {
     "name": "stdout",
     "output_type": "stream",
     "text": [
      "Test set: Average loss: 0.0014, Accuracy: 7559/10000 (75.59%)\n",
      "\n",
      "Epoch 48\n"
     ]
    },
    {
     "name": "stderr",
     "output_type": "stream",
     "text": [
      "Train: Loss=0.9982 Batch_id=97 Accuracy=63.33: 100%|██████████| 98/98 [00:30<00:00,  3.21it/s]\n",
      "100%|██████████| 20/20 [00:09<00:00,  2.13it/s]\n"
     ]
    },
    {
     "name": "stdout",
     "output_type": "stream",
     "text": [
      "Test set: Average loss: 0.0014, Accuracy: 7493/10000 (74.93%)\n",
      "\n",
      "Epoch 49\n"
     ]
    },
    {
     "name": "stderr",
     "output_type": "stream",
     "text": [
      "Train: Loss=1.0065 Batch_id=97 Accuracy=63.68: 100%|██████████| 98/98 [00:30<00:00,  3.22it/s]\n",
      "100%|██████████| 20/20 [00:09<00:00,  2.13it/s]\n"
     ]
    },
    {
     "name": "stdout",
     "output_type": "stream",
     "text": [
      "Test set: Average loss: 0.0014, Accuracy: 7530/10000 (75.30%)\n",
      "\n",
      "Epoch 50\n"
     ]
    },
    {
     "name": "stderr",
     "output_type": "stream",
     "text": [
      "Train: Loss=1.0586 Batch_id=97 Accuracy=63.68: 100%|██████████| 98/98 [00:30<00:00,  3.22it/s]\n",
      "100%|██████████| 20/20 [00:09<00:00,  2.13it/s]\n"
     ]
    },
    {
     "name": "stdout",
     "output_type": "stream",
     "text": [
      "Test set: Average loss: 0.0014, Accuracy: 7577/10000 (75.77%)\n",
      "\n",
      "Epoch 51\n"
     ]
    },
    {
     "name": "stderr",
     "output_type": "stream",
     "text": [
      "Train: Loss=1.0386 Batch_id=97 Accuracy=63.79: 100%|██████████| 98/98 [00:30<00:00,  3.22it/s]\n",
      "100%|██████████| 20/20 [00:09<00:00,  2.14it/s]\n"
     ]
    },
    {
     "name": "stdout",
     "output_type": "stream",
     "text": [
      "Test set: Average loss: 0.0014, Accuracy: 7537/10000 (75.37%)\n",
      "\n",
      "Epoch 52\n"
     ]
    },
    {
     "name": "stderr",
     "output_type": "stream",
     "text": [
      "Train: Loss=1.0676 Batch_id=97 Accuracy=64.05: 100%|██████████| 98/98 [00:30<00:00,  3.20it/s]\n",
      "100%|██████████| 20/20 [00:09<00:00,  2.13it/s]\n"
     ]
    },
    {
     "name": "stdout",
     "output_type": "stream",
     "text": [
      "Test set: Average loss: 0.0014, Accuracy: 7571/10000 (75.71%)\n",
      "\n",
      "Epoch 53\n"
     ]
    },
    {
     "name": "stderr",
     "output_type": "stream",
     "text": [
      "Train: Loss=0.9634 Batch_id=97 Accuracy=64.23: 100%|██████████| 98/98 [00:30<00:00,  3.20it/s]\n",
      "100%|██████████| 20/20 [00:09<00:00,  2.13it/s]\n"
     ]
    },
    {
     "name": "stdout",
     "output_type": "stream",
     "text": [
      "Test set: Average loss: 0.0014, Accuracy: 7508/10000 (75.08%)\n",
      "\n",
      "Epoch 54\n"
     ]
    },
    {
     "name": "stderr",
     "output_type": "stream",
     "text": [
      "Train: Loss=1.0353 Batch_id=97 Accuracy=63.99: 100%|██████████| 98/98 [00:30<00:00,  3.20it/s]\n",
      "100%|██████████| 20/20 [00:09<00:00,  2.12it/s]\n"
     ]
    },
    {
     "name": "stdout",
     "output_type": "stream",
     "text": [
      "Test set: Average loss: 0.0014, Accuracy: 7547/10000 (75.47%)\n",
      "\n",
      "Epoch 55\n"
     ]
    },
    {
     "name": "stderr",
     "output_type": "stream",
     "text": [
      "Train: Loss=1.0967 Batch_id=97 Accuracy=63.75: 100%|██████████| 98/98 [00:30<00:00,  3.21it/s]\n",
      "100%|██████████| 20/20 [00:09<00:00,  2.13it/s]\n"
     ]
    },
    {
     "name": "stdout",
     "output_type": "stream",
     "text": [
      "Test set: Average loss: 0.0014, Accuracy: 7569/10000 (75.69%)\n",
      "\n",
      "Epoch 56\n"
     ]
    },
    {
     "name": "stderr",
     "output_type": "stream",
     "text": [
      "Train: Loss=1.0984 Batch_id=97 Accuracy=64.01: 100%|██████████| 98/98 [00:30<00:00,  3.23it/s]\n",
      "100%|██████████| 20/20 [00:09<00:00,  2.13it/s]\n"
     ]
    },
    {
     "name": "stdout",
     "output_type": "stream",
     "text": [
      "Test set: Average loss: 0.0014, Accuracy: 7597/10000 (75.97%)\n",
      "\n",
      "Epoch 57\n"
     ]
    },
    {
     "name": "stderr",
     "output_type": "stream",
     "text": [
      "Train: Loss=1.1478 Batch_id=97 Accuracy=64.02: 100%|██████████| 98/98 [00:30<00:00,  3.22it/s]\n",
      "100%|██████████| 20/20 [00:09<00:00,  2.09it/s]\n"
     ]
    },
    {
     "name": "stdout",
     "output_type": "stream",
     "text": [
      "Test set: Average loss: 0.0014, Accuracy: 7536/10000 (75.36%)\n",
      "\n",
      "Epoch 58\n"
     ]
    },
    {
     "name": "stderr",
     "output_type": "stream",
     "text": [
      "Train: Loss=1.0386 Batch_id=97 Accuracy=63.87: 100%|██████████| 98/98 [00:30<00:00,  3.20it/s]\n",
      "100%|██████████| 20/20 [00:09<00:00,  2.13it/s]\n"
     ]
    },
    {
     "name": "stdout",
     "output_type": "stream",
     "text": [
      "Test set: Average loss: 0.0014, Accuracy: 7522/10000 (75.22%)\n",
      "\n",
      "Epoch 59\n"
     ]
    },
    {
     "name": "stderr",
     "output_type": "stream",
     "text": [
      "Train: Loss=1.0921 Batch_id=97 Accuracy=63.75: 100%|██████████| 98/98 [00:30<00:00,  3.20it/s]\n",
      "100%|██████████| 20/20 [00:09<00:00,  2.12it/s]\n"
     ]
    },
    {
     "name": "stdout",
     "output_type": "stream",
     "text": [
      "Test set: Average loss: 0.0014, Accuracy: 7548/10000 (75.48%)\n",
      "\n",
      "Epoch 60\n"
     ]
    },
    {
     "name": "stderr",
     "output_type": "stream",
     "text": [
      "Train: Loss=1.1595 Batch_id=97 Accuracy=64.09: 100%|██████████| 98/98 [00:30<00:00,  3.20it/s]\n",
      "100%|██████████| 20/20 [00:09<00:00,  2.14it/s]\n"
     ]
    },
    {
     "name": "stdout",
     "output_type": "stream",
     "text": [
      "Test set: Average loss: 0.0014, Accuracy: 7614/10000 (76.14%)\n",
      "\n",
      "Epoch 61\n"
     ]
    },
    {
     "name": "stderr",
     "output_type": "stream",
     "text": [
      "Train: Loss=0.9602 Batch_id=97 Accuracy=64.55: 100%|██████████| 98/98 [00:30<00:00,  3.22it/s]\n",
      "100%|██████████| 20/20 [00:09<00:00,  2.12it/s]\n"
     ]
    },
    {
     "name": "stdout",
     "output_type": "stream",
     "text": [
      "Test set: Average loss: 0.0014, Accuracy: 7554/10000 (75.54%)\n",
      "\n",
      "Epoch 62\n"
     ]
    },
    {
     "name": "stderr",
     "output_type": "stream",
     "text": [
      "Train: Loss=0.9719 Batch_id=97 Accuracy=64.63: 100%|██████████| 98/98 [00:30<00:00,  3.21it/s]\n",
      "100%|██████████| 20/20 [00:09<00:00,  2.04it/s]\n"
     ]
    },
    {
     "name": "stdout",
     "output_type": "stream",
     "text": [
      "Test set: Average loss: 0.0014, Accuracy: 7582/10000 (75.82%)\n",
      "\n",
      "Epoch 63\n"
     ]
    },
    {
     "name": "stderr",
     "output_type": "stream",
     "text": [
      "Train: Loss=0.9932 Batch_id=97 Accuracy=64.60: 100%|██████████| 98/98 [00:30<00:00,  3.20it/s]\n",
      "100%|██████████| 20/20 [00:09<00:00,  2.10it/s]\n"
     ]
    },
    {
     "name": "stdout",
     "output_type": "stream",
     "text": [
      "Test set: Average loss: 0.0014, Accuracy: 7594/10000 (75.94%)\n",
      "\n",
      "Epoch 64\n"
     ]
    },
    {
     "name": "stderr",
     "output_type": "stream",
     "text": [
      "Train: Loss=1.0701 Batch_id=97 Accuracy=64.46: 100%|██████████| 98/98 [00:30<00:00,  3.20it/s]\n",
      "100%|██████████| 20/20 [00:09<00:00,  2.14it/s]\n"
     ]
    },
    {
     "name": "stdout",
     "output_type": "stream",
     "text": [
      "Test set: Average loss: 0.0014, Accuracy: 7574/10000 (75.74%)\n",
      "\n",
      "Epoch 65\n"
     ]
    },
    {
     "name": "stderr",
     "output_type": "stream",
     "text": [
      "Train: Loss=1.0141 Batch_id=97 Accuracy=64.20: 100%|██████████| 98/98 [00:30<00:00,  3.22it/s]\n",
      "100%|██████████| 20/20 [00:09<00:00,  2.14it/s]\n"
     ]
    },
    {
     "name": "stdout",
     "output_type": "stream",
     "text": [
      "Test set: Average loss: 0.0014, Accuracy: 7611/10000 (76.11%)\n",
      "\n",
      "Epoch 66\n"
     ]
    },
    {
     "name": "stderr",
     "output_type": "stream",
     "text": [
      "Train: Loss=1.0017 Batch_id=97 Accuracy=64.49: 100%|██████████| 98/98 [00:30<00:00,  3.20it/s]\n",
      "100%|██████████| 20/20 [00:09<00:00,  2.10it/s]\n"
     ]
    },
    {
     "name": "stdout",
     "output_type": "stream",
     "text": [
      "Test set: Average loss: 0.0014, Accuracy: 7603/10000 (76.03%)\n",
      "\n",
      "Epoch 67\n"
     ]
    },
    {
     "name": "stderr",
     "output_type": "stream",
     "text": [
      "Train: Loss=1.0086 Batch_id=97 Accuracy=64.09: 100%|██████████| 98/98 [00:30<00:00,  3.20it/s]\n",
      "100%|██████████| 20/20 [00:09<00:00,  2.13it/s]\n"
     ]
    },
    {
     "name": "stdout",
     "output_type": "stream",
     "text": [
      "Test set: Average loss: 0.0014, Accuracy: 7576/10000 (75.76%)\n",
      "\n",
      "Epoch 68\n"
     ]
    },
    {
     "name": "stderr",
     "output_type": "stream",
     "text": [
      "Train: Loss=1.0216 Batch_id=97 Accuracy=64.45: 100%|██████████| 98/98 [00:30<00:00,  3.20it/s]\n",
      "100%|██████████| 20/20 [00:09<00:00,  2.10it/s]\n"
     ]
    },
    {
     "name": "stdout",
     "output_type": "stream",
     "text": [
      "Test set: Average loss: 0.0014, Accuracy: 7613/10000 (76.13%)\n",
      "\n",
      "Epoch 69\n"
     ]
    },
    {
     "name": "stderr",
     "output_type": "stream",
     "text": [
      "Train: Loss=0.9316 Batch_id=97 Accuracy=64.24: 100%|██████████| 98/98 [00:30<00:00,  3.20it/s]\n",
      "100%|██████████| 20/20 [00:09<00:00,  2.09it/s]\n"
     ]
    },
    {
     "name": "stdout",
     "output_type": "stream",
     "text": [
      "Test set: Average loss: 0.0013, Accuracy: 7621/10000 (76.21%)\n",
      "\n",
      "Epoch 70\n"
     ]
    },
    {
     "name": "stderr",
     "output_type": "stream",
     "text": [
      "Train: Loss=1.0920 Batch_id=97 Accuracy=64.54: 100%|██████████| 98/98 [00:30<00:00,  3.20it/s]\n",
      "100%|██████████| 20/20 [00:09<00:00,  2.13it/s]\n"
     ]
    },
    {
     "name": "stdout",
     "output_type": "stream",
     "text": [
      "Test set: Average loss: 0.0014, Accuracy: 7585/10000 (75.85%)\n",
      "\n",
      "Epoch 71\n"
     ]
    },
    {
     "name": "stderr",
     "output_type": "stream",
     "text": [
      "Train: Loss=1.0136 Batch_id=97 Accuracy=64.90: 100%|██████████| 98/98 [00:30<00:00,  3.20it/s]\n",
      "100%|██████████| 20/20 [00:09<00:00,  2.13it/s]\n"
     ]
    },
    {
     "name": "stdout",
     "output_type": "stream",
     "text": [
      "Test set: Average loss: 0.0014, Accuracy: 7651/10000 (76.51%)\n",
      "\n",
      "Epoch 72\n"
     ]
    },
    {
     "name": "stderr",
     "output_type": "stream",
     "text": [
      "Train: Loss=0.9493 Batch_id=97 Accuracy=64.69: 100%|██████████| 98/98 [00:30<00:00,  3.21it/s]\n",
      "100%|██████████| 20/20 [00:09<00:00,  2.13it/s]\n"
     ]
    },
    {
     "name": "stdout",
     "output_type": "stream",
     "text": [
      "Test set: Average loss: 0.0014, Accuracy: 7583/10000 (75.83%)\n",
      "\n",
      "Epoch 73\n"
     ]
    },
    {
     "name": "stderr",
     "output_type": "stream",
     "text": [
      "Train: Loss=0.9778 Batch_id=97 Accuracy=64.92: 100%|██████████| 98/98 [00:30<00:00,  3.23it/s]\n",
      "100%|██████████| 20/20 [00:09<00:00,  2.13it/s]\n"
     ]
    },
    {
     "name": "stdout",
     "output_type": "stream",
     "text": [
      "Test set: Average loss: 0.0014, Accuracy: 7644/10000 (76.44%)\n",
      "\n",
      "Epoch 74\n"
     ]
    },
    {
     "name": "stderr",
     "output_type": "stream",
     "text": [
      "Train: Loss=0.9788 Batch_id=97 Accuracy=64.78: 100%|██████████| 98/98 [00:30<00:00,  3.20it/s]\n",
      "100%|██████████| 20/20 [00:09<00:00,  2.13it/s]\n"
     ]
    },
    {
     "name": "stdout",
     "output_type": "stream",
     "text": [
      "Test set: Average loss: 0.0013, Accuracy: 7660/10000 (76.60%)\n",
      "\n",
      "Epoch 75\n"
     ]
    },
    {
     "name": "stderr",
     "output_type": "stream",
     "text": [
      "Train: Loss=0.9161 Batch_id=97 Accuracy=64.72: 100%|██████████| 98/98 [00:30<00:00,  3.20it/s]\n",
      "100%|██████████| 20/20 [00:09<00:00,  2.13it/s]\n"
     ]
    },
    {
     "name": "stdout",
     "output_type": "stream",
     "text": [
      "Test set: Average loss: 0.0013, Accuracy: 7640/10000 (76.40%)\n",
      "\n",
      "Epoch 76\n"
     ]
    },
    {
     "name": "stderr",
     "output_type": "stream",
     "text": [
      "Train: Loss=1.0380 Batch_id=97 Accuracy=64.64: 100%|██████████| 98/98 [00:30<00:00,  3.21it/s]\n",
      "100%|██████████| 20/20 [00:09<00:00,  2.12it/s]\n"
     ]
    },
    {
     "name": "stdout",
     "output_type": "stream",
     "text": [
      "Test set: Average loss: 0.0014, Accuracy: 7607/10000 (76.07%)\n",
      "\n",
      "Epoch 77\n"
     ]
    },
    {
     "name": "stderr",
     "output_type": "stream",
     "text": [
      "Train: Loss=0.9572 Batch_id=97 Accuracy=64.55: 100%|██████████| 98/98 [00:30<00:00,  3.20it/s]\n",
      "100%|██████████| 20/20 [00:09<00:00,  2.13it/s]\n"
     ]
    },
    {
     "name": "stdout",
     "output_type": "stream",
     "text": [
      "Test set: Average loss: 0.0013, Accuracy: 7666/10000 (76.66%)\n",
      "\n",
      "Epoch 78\n"
     ]
    },
    {
     "name": "stderr",
     "output_type": "stream",
     "text": [
      "Train: Loss=1.0057 Batch_id=97 Accuracy=64.77: 100%|██████████| 98/98 [00:30<00:00,  3.22it/s]\n",
      "100%|██████████| 20/20 [00:09<00:00,  2.13it/s]\n"
     ]
    },
    {
     "name": "stdout",
     "output_type": "stream",
     "text": [
      "Test set: Average loss: 0.0013, Accuracy: 7682/10000 (76.82%)\n",
      "\n",
      "Epoch 79\n"
     ]
    },
    {
     "name": "stderr",
     "output_type": "stream",
     "text": [
      "Train: Loss=1.0512 Batch_id=97 Accuracy=64.74: 100%|██████████| 98/98 [00:30<00:00,  3.21it/s]\n",
      "100%|██████████| 20/20 [00:09<00:00,  2.12it/s]\n"
     ]
    },
    {
     "name": "stdout",
     "output_type": "stream",
     "text": [
      "Test set: Average loss: 0.0014, Accuracy: 7589/10000 (75.89%)\n",
      "\n",
      "Epoch 80\n"
     ]
    },
    {
     "name": "stderr",
     "output_type": "stream",
     "text": [
      "Train: Loss=0.9359 Batch_id=97 Accuracy=65.14: 100%|██████████| 98/98 [00:30<00:00,  3.23it/s]\n",
      "100%|██████████| 20/20 [00:09<00:00,  2.13it/s]\n"
     ]
    },
    {
     "name": "stdout",
     "output_type": "stream",
     "text": [
      "Test set: Average loss: 0.0013, Accuracy: 7724/10000 (77.24%)\n",
      "\n",
      "Epoch 81\n"
     ]
    },
    {
     "name": "stderr",
     "output_type": "stream",
     "text": [
      "Train: Loss=1.0532 Batch_id=97 Accuracy=65.10: 100%|██████████| 98/98 [00:30<00:00,  3.22it/s]\n",
      "100%|██████████| 20/20 [00:09<00:00,  2.13it/s]\n"
     ]
    },
    {
     "name": "stdout",
     "output_type": "stream",
     "text": [
      "Test set: Average loss: 0.0014, Accuracy: 7622/10000 (76.22%)\n",
      "\n",
      "Epoch 82\n"
     ]
    },
    {
     "name": "stderr",
     "output_type": "stream",
     "text": [
      "Train: Loss=1.0002 Batch_id=97 Accuracy=64.71: 100%|██████████| 98/98 [00:30<00:00,  3.20it/s]\n",
      "100%|██████████| 20/20 [00:09<00:00,  2.08it/s]\n"
     ]
    },
    {
     "name": "stdout",
     "output_type": "stream",
     "text": [
      "Test set: Average loss: 0.0013, Accuracy: 7680/10000 (76.80%)\n",
      "\n",
      "Epoch 83\n"
     ]
    },
    {
     "name": "stderr",
     "output_type": "stream",
     "text": [
      "Train: Loss=1.0206 Batch_id=97 Accuracy=64.96: 100%|██████████| 98/98 [00:30<00:00,  3.20it/s]\n",
      "100%|██████████| 20/20 [00:09<00:00,  2.10it/s]\n"
     ]
    },
    {
     "name": "stdout",
     "output_type": "stream",
     "text": [
      "Test set: Average loss: 0.0013, Accuracy: 7652/10000 (76.52%)\n",
      "\n",
      "Epoch 84\n"
     ]
    },
    {
     "name": "stderr",
     "output_type": "stream",
     "text": [
      "Train: Loss=1.0730 Batch_id=97 Accuracy=64.74: 100%|██████████| 98/98 [00:30<00:00,  3.22it/s]\n",
      "100%|██████████| 20/20 [00:09<00:00,  2.14it/s]\n"
     ]
    },
    {
     "name": "stdout",
     "output_type": "stream",
     "text": [
      "Test set: Average loss: 0.0013, Accuracy: 7682/10000 (76.82%)\n",
      "\n",
      "Epoch 85\n"
     ]
    },
    {
     "name": "stderr",
     "output_type": "stream",
     "text": [
      "Train: Loss=1.1142 Batch_id=97 Accuracy=65.02: 100%|██████████| 98/98 [00:30<00:00,  3.20it/s]\n",
      "100%|██████████| 20/20 [00:09<00:00,  2.09it/s]\n"
     ]
    },
    {
     "name": "stdout",
     "output_type": "stream",
     "text": [
      "Test set: Average loss: 0.0013, Accuracy: 7685/10000 (76.85%)\n",
      "\n",
      "Epoch 86\n"
     ]
    },
    {
     "name": "stderr",
     "output_type": "stream",
     "text": [
      "Train: Loss=0.9994 Batch_id=97 Accuracy=65.18: 100%|██████████| 98/98 [00:30<00:00,  3.20it/s]\n",
      "100%|██████████| 20/20 [00:09<00:00,  2.09it/s]\n"
     ]
    },
    {
     "name": "stdout",
     "output_type": "stream",
     "text": [
      "Test set: Average loss: 0.0013, Accuracy: 7690/10000 (76.90%)\n",
      "\n",
      "Epoch 87\n"
     ]
    },
    {
     "name": "stderr",
     "output_type": "stream",
     "text": [
      "Train: Loss=1.0024 Batch_id=97 Accuracy=65.30: 100%|██████████| 98/98 [00:30<00:00,  3.20it/s]\n",
      "100%|██████████| 20/20 [00:09<00:00,  2.13it/s]\n"
     ]
    },
    {
     "name": "stdout",
     "output_type": "stream",
     "text": [
      "Test set: Average loss: 0.0013, Accuracy: 7685/10000 (76.85%)\n",
      "\n",
      "Epoch 88\n"
     ]
    },
    {
     "name": "stderr",
     "output_type": "stream",
     "text": [
      "Train: Loss=1.0285 Batch_id=97 Accuracy=65.18: 100%|██████████| 98/98 [00:30<00:00,  3.20it/s]\n",
      "100%|██████████| 20/20 [00:09<00:00,  2.10it/s]\n"
     ]
    },
    {
     "name": "stdout",
     "output_type": "stream",
     "text": [
      "Test set: Average loss: 0.0013, Accuracy: 7655/10000 (76.55%)\n",
      "\n",
      "Epoch 89\n"
     ]
    },
    {
     "name": "stderr",
     "output_type": "stream",
     "text": [
      "Train: Loss=1.0411 Batch_id=97 Accuracy=64.98: 100%|██████████| 98/98 [00:30<00:00,  3.20it/s]\n",
      "100%|██████████| 20/20 [00:09<00:00,  2.09it/s]\n"
     ]
    },
    {
     "name": "stdout",
     "output_type": "stream",
     "text": [
      "Test set: Average loss: 0.0013, Accuracy: 7732/10000 (77.32%)\n",
      "\n",
      "Epoch 90\n"
     ]
    },
    {
     "name": "stderr",
     "output_type": "stream",
     "text": [
      "Train: Loss=0.9705 Batch_id=97 Accuracy=65.14: 100%|██████████| 98/98 [00:30<00:00,  3.20it/s]\n",
      "100%|██████████| 20/20 [00:09<00:00,  2.14it/s]\n"
     ]
    },
    {
     "name": "stdout",
     "output_type": "stream",
     "text": [
      "Test set: Average loss: 0.0013, Accuracy: 7676/10000 (76.76%)\n",
      "\n",
      "Epoch 91\n"
     ]
    },
    {
     "name": "stderr",
     "output_type": "stream",
     "text": [
      "Train: Loss=1.0061 Batch_id=97 Accuracy=65.24: 100%|██████████| 98/98 [00:30<00:00,  3.20it/s]\n",
      "100%|██████████| 20/20 [00:09<00:00,  2.09it/s]\n"
     ]
    },
    {
     "name": "stdout",
     "output_type": "stream",
     "text": [
      "Test set: Average loss: 0.0013, Accuracy: 7742/10000 (77.42%)\n",
      "\n",
      "Epoch 92\n"
     ]
    },
    {
     "name": "stderr",
     "output_type": "stream",
     "text": [
      "Train: Loss=1.0052 Batch_id=97 Accuracy=65.26: 100%|██████████| 98/98 [00:30<00:00,  3.20it/s]\n",
      "100%|██████████| 20/20 [00:09<00:00,  2.09it/s]\n"
     ]
    },
    {
     "name": "stdout",
     "output_type": "stream",
     "text": [
      "Test set: Average loss: 0.0013, Accuracy: 7749/10000 (77.49%)\n",
      "\n",
      "Epoch 93\n"
     ]
    },
    {
     "name": "stderr",
     "output_type": "stream",
     "text": [
      "Train: Loss=0.8776 Batch_id=97 Accuracy=65.37: 100%|██████████| 98/98 [00:30<00:00,  3.20it/s]\n",
      "100%|██████████| 20/20 [00:09<00:00,  2.09it/s]\n"
     ]
    },
    {
     "name": "stdout",
     "output_type": "stream",
     "text": [
      "Test set: Average loss: 0.0013, Accuracy: 7731/10000 (77.31%)\n",
      "\n",
      "Epoch 94\n"
     ]
    },
    {
     "name": "stderr",
     "output_type": "stream",
     "text": [
      "Train: Loss=0.9246 Batch_id=97 Accuracy=65.55: 100%|██████████| 98/98 [00:30<00:00,  3.20it/s]\n",
      "100%|██████████| 20/20 [00:09<00:00,  2.09it/s]\n"
     ]
    },
    {
     "name": "stdout",
     "output_type": "stream",
     "text": [
      "Test set: Average loss: 0.0013, Accuracy: 7738/10000 (77.38%)\n",
      "\n",
      "Epoch 95\n"
     ]
    },
    {
     "name": "stderr",
     "output_type": "stream",
     "text": [
      "Train: Loss=0.9866 Batch_id=97 Accuracy=65.34: 100%|██████████| 98/98 [00:30<00:00,  3.20it/s]\n",
      "100%|██████████| 20/20 [00:09<00:00,  2.09it/s]\n"
     ]
    },
    {
     "name": "stdout",
     "output_type": "stream",
     "text": [
      "Test set: Average loss: 0.0013, Accuracy: 7680/10000 (76.80%)\n",
      "\n",
      "Epoch 96\n"
     ]
    },
    {
     "name": "stderr",
     "output_type": "stream",
     "text": [
      "Train: Loss=0.9517 Batch_id=97 Accuracy=65.63: 100%|██████████| 98/98 [00:30<00:00,  3.20it/s]\n",
      "100%|██████████| 20/20 [00:09<00:00,  2.14it/s]\n"
     ]
    },
    {
     "name": "stdout",
     "output_type": "stream",
     "text": [
      "Test set: Average loss: 0.0013, Accuracy: 7751/10000 (77.51%)\n",
      "\n",
      "Epoch 97\n"
     ]
    },
    {
     "name": "stderr",
     "output_type": "stream",
     "text": [
      "Train: Loss=0.9376 Batch_id=97 Accuracy=65.50: 100%|██████████| 98/98 [00:30<00:00,  3.20it/s]\n",
      "100%|██████████| 20/20 [00:09<00:00,  2.13it/s]\n"
     ]
    },
    {
     "name": "stdout",
     "output_type": "stream",
     "text": [
      "Test set: Average loss: 0.0013, Accuracy: 7692/10000 (76.92%)\n",
      "\n",
      "Epoch 98\n"
     ]
    },
    {
     "name": "stderr",
     "output_type": "stream",
     "text": [
      "Train: Loss=1.0236 Batch_id=97 Accuracy=65.29: 100%|██████████| 98/98 [00:30<00:00,  3.20it/s]\n",
      "100%|██████████| 20/20 [00:09<00:00,  2.10it/s]\n"
     ]
    },
    {
     "name": "stdout",
     "output_type": "stream",
     "text": [
      "Test set: Average loss: 0.0013, Accuracy: 7716/10000 (77.16%)\n",
      "\n",
      "Epoch 99\n"
     ]
    },
    {
     "name": "stderr",
     "output_type": "stream",
     "text": [
      "Train: Loss=1.0018 Batch_id=97 Accuracy=65.60: 100%|██████████| 98/98 [00:30<00:00,  3.20it/s]\n",
      "100%|██████████| 20/20 [00:09<00:00,  2.13it/s]\n"
     ]
    },
    {
     "name": "stdout",
     "output_type": "stream",
     "text": [
      "Test set: Average loss: 0.0013, Accuracy: 7759/10000 (77.59%)\n",
      "\n",
      "Epoch 100\n"
     ]
    },
    {
     "name": "stderr",
     "output_type": "stream",
     "text": [
      "Train: Loss=1.0363 Batch_id=97 Accuracy=65.39: 100%|██████████| 98/98 [00:30<00:00,  3.20it/s]\n",
      "100%|██████████| 20/20 [00:09<00:00,  2.09it/s]\n"
     ]
    },
    {
     "name": "stdout",
     "output_type": "stream",
     "text": [
      "Test set: Average loss: 0.0013, Accuracy: 7757/10000 (77.57%)\n",
      "\n",
      "Epoch 101\n"
     ]
    },
    {
     "name": "stderr",
     "output_type": "stream",
     "text": [
      "Train: Loss=0.9840 Batch_id=97 Accuracy=65.62: 100%|██████████| 98/98 [00:30<00:00,  3.18it/s]\n",
      "100%|██████████| 20/20 [00:09<00:00,  2.04it/s]\n"
     ]
    },
    {
     "name": "stdout",
     "output_type": "stream",
     "text": [
      "Test set: Average loss: 0.0013, Accuracy: 7713/10000 (77.13%)\n",
      "\n",
      "Epoch 102\n"
     ]
    },
    {
     "name": "stderr",
     "output_type": "stream",
     "text": [
      "Train: Loss=1.1173 Batch_id=97 Accuracy=65.78: 100%|██████████| 98/98 [00:30<00:00,  3.18it/s]\n",
      "100%|██████████| 20/20 [00:09<00:00,  2.08it/s]\n"
     ]
    },
    {
     "name": "stdout",
     "output_type": "stream",
     "text": [
      "Test set: Average loss: 0.0013, Accuracy: 7740/10000 (77.40%)\n",
      "\n",
      "Epoch 103\n"
     ]
    },
    {
     "name": "stderr",
     "output_type": "stream",
     "text": [
      "Train: Loss=1.2089 Batch_id=97 Accuracy=65.53: 100%|██████████| 98/98 [00:30<00:00,  3.19it/s]\n",
      "100%|██████████| 20/20 [00:09<00:00,  2.08it/s]\n"
     ]
    },
    {
     "name": "stdout",
     "output_type": "stream",
     "text": [
      "Test set: Average loss: 0.0013, Accuracy: 7706/10000 (77.06%)\n",
      "\n",
      "Epoch 104\n"
     ]
    },
    {
     "name": "stderr",
     "output_type": "stream",
     "text": [
      "Train: Loss=1.0323 Batch_id=97 Accuracy=65.77: 100%|██████████| 98/98 [00:30<00:00,  3.18it/s]\n",
      "100%|██████████| 20/20 [00:09<00:00,  2.08it/s]\n"
     ]
    },
    {
     "name": "stdout",
     "output_type": "stream",
     "text": [
      "Test set: Average loss: 0.0013, Accuracy: 7753/10000 (77.53%)\n",
      "\n",
      "Epoch 105\n"
     ]
    },
    {
     "name": "stderr",
     "output_type": "stream",
     "text": [
      "Train: Loss=1.0603 Batch_id=97 Accuracy=65.99: 100%|██████████| 98/98 [00:30<00:00,  3.18it/s]\n",
      "100%|██████████| 20/20 [00:09<00:00,  2.05it/s]\n"
     ]
    },
    {
     "name": "stdout",
     "output_type": "stream",
     "text": [
      "Test set: Average loss: 0.0013, Accuracy: 7685/10000 (76.85%)\n",
      "\n",
      "Epoch 106\n"
     ]
    },
    {
     "name": "stderr",
     "output_type": "stream",
     "text": [
      "Train: Loss=1.0121 Batch_id=97 Accuracy=65.89: 100%|██████████| 98/98 [00:30<00:00,  3.18it/s]\n",
      "100%|██████████| 20/20 [00:09<00:00,  2.04it/s]\n"
     ]
    },
    {
     "name": "stdout",
     "output_type": "stream",
     "text": [
      "Test set: Average loss: 0.0013, Accuracy: 7693/10000 (76.93%)\n",
      "\n",
      "Epoch 107\n"
     ]
    },
    {
     "name": "stderr",
     "output_type": "stream",
     "text": [
      "Train: Loss=0.9120 Batch_id=97 Accuracy=65.75: 100%|██████████| 98/98 [00:31<00:00,  3.13it/s]\n",
      "100%|██████████| 20/20 [00:09<00:00,  2.07it/s]\n"
     ]
    },
    {
     "name": "stdout",
     "output_type": "stream",
     "text": [
      "Test set: Average loss: 0.0013, Accuracy: 7741/10000 (77.41%)\n",
      "\n",
      "Epoch 108\n"
     ]
    },
    {
     "name": "stderr",
     "output_type": "stream",
     "text": [
      "Train: Loss=1.0264 Batch_id=97 Accuracy=65.99: 100%|██████████| 98/98 [00:30<00:00,  3.18it/s]\n",
      "100%|██████████| 20/20 [00:09<00:00,  2.09it/s]\n"
     ]
    },
    {
     "name": "stdout",
     "output_type": "stream",
     "text": [
      "Test set: Average loss: 0.0013, Accuracy: 7738/10000 (77.38%)\n",
      "\n",
      "Epoch 109\n"
     ]
    },
    {
     "name": "stderr",
     "output_type": "stream",
     "text": [
      "Train: Loss=1.0404 Batch_id=97 Accuracy=65.85: 100%|██████████| 98/98 [00:30<00:00,  3.18it/s]\n",
      "100%|██████████| 20/20 [00:09<00:00,  2.05it/s]\n"
     ]
    },
    {
     "name": "stdout",
     "output_type": "stream",
     "text": [
      "Test set: Average loss: 0.0013, Accuracy: 7771/10000 (77.71%)\n",
      "\n",
      "Epoch 110\n"
     ]
    },
    {
     "name": "stderr",
     "output_type": "stream",
     "text": [
      "Train: Loss=0.8695 Batch_id=97 Accuracy=65.60: 100%|██████████| 98/98 [00:30<00:00,  3.18it/s]\n",
      "100%|██████████| 20/20 [00:09<00:00,  2.08it/s]\n"
     ]
    },
    {
     "name": "stdout",
     "output_type": "stream",
     "text": [
      "Test set: Average loss: 0.0013, Accuracy: 7762/10000 (77.62%)\n",
      "\n",
      "Epoch 111\n"
     ]
    },
    {
     "name": "stderr",
     "output_type": "stream",
     "text": [
      "Train: Loss=1.0932 Batch_id=97 Accuracy=65.68: 100%|██████████| 98/98 [00:30<00:00,  3.18it/s]\n",
      "100%|██████████| 20/20 [00:09<00:00,  2.08it/s]\n"
     ]
    },
    {
     "name": "stdout",
     "output_type": "stream",
     "text": [
      "Test set: Average loss: 0.0013, Accuracy: 7740/10000 (77.40%)\n",
      "\n",
      "Epoch 112\n"
     ]
    },
    {
     "name": "stderr",
     "output_type": "stream",
     "text": [
      "Train: Loss=0.9547 Batch_id=97 Accuracy=65.76: 100%|██████████| 98/98 [00:30<00:00,  3.19it/s]\n",
      "100%|██████████| 20/20 [00:09<00:00,  2.09it/s]\n"
     ]
    },
    {
     "name": "stdout",
     "output_type": "stream",
     "text": [
      "Test set: Average loss: 0.0013, Accuracy: 7713/10000 (77.13%)\n",
      "\n",
      "Epoch 113\n"
     ]
    },
    {
     "name": "stderr",
     "output_type": "stream",
     "text": [
      "Train: Loss=0.8690 Batch_id=97 Accuracy=65.73: 100%|██████████| 98/98 [00:30<00:00,  3.18it/s]\n",
      "100%|██████████| 20/20 [00:09<00:00,  2.00it/s]\n"
     ]
    },
    {
     "name": "stdout",
     "output_type": "stream",
     "text": [
      "Test set: Average loss: 0.0013, Accuracy: 7772/10000 (77.72%)\n",
      "\n",
      "Epoch 114\n"
     ]
    },
    {
     "name": "stderr",
     "output_type": "stream",
     "text": [
      "Train: Loss=0.9772 Batch_id=97 Accuracy=65.84: 100%|██████████| 98/98 [00:30<00:00,  3.18it/s]\n",
      "100%|██████████| 20/20 [00:09<00:00,  2.04it/s]\n"
     ]
    },
    {
     "name": "stdout",
     "output_type": "stream",
     "text": [
      "Test set: Average loss: 0.0013, Accuracy: 7789/10000 (77.89%)\n",
      "\n",
      "Epoch 115\n"
     ]
    },
    {
     "name": "stderr",
     "output_type": "stream",
     "text": [
      "Train: Loss=1.0117 Batch_id=97 Accuracy=65.79: 100%|██████████| 98/98 [00:30<00:00,  3.18it/s]\n",
      "100%|██████████| 20/20 [00:09<00:00,  2.05it/s]\n"
     ]
    },
    {
     "name": "stdout",
     "output_type": "stream",
     "text": [
      "Test set: Average loss: 0.0013, Accuracy: 7764/10000 (77.64%)\n",
      "\n",
      "Epoch 116\n"
     ]
    },
    {
     "name": "stderr",
     "output_type": "stream",
     "text": [
      "Train: Loss=1.0274 Batch_id=97 Accuracy=65.90: 100%|██████████| 98/98 [00:30<00:00,  3.18it/s]\n",
      "100%|██████████| 20/20 [00:09<00:00,  2.08it/s]\n"
     ]
    },
    {
     "name": "stdout",
     "output_type": "stream",
     "text": [
      "Test set: Average loss: 0.0013, Accuracy: 7751/10000 (77.51%)\n",
      "\n",
      "Epoch 117\n"
     ]
    },
    {
     "name": "stderr",
     "output_type": "stream",
     "text": [
      "Train: Loss=0.9937 Batch_id=97 Accuracy=66.16: 100%|██████████| 98/98 [00:30<00:00,  3.16it/s]\n",
      "100%|██████████| 20/20 [00:09<00:00,  2.05it/s]\n"
     ]
    },
    {
     "name": "stdout",
     "output_type": "stream",
     "text": [
      "Test set: Average loss: 0.0013, Accuracy: 7812/10000 (78.12%)\n",
      "\n",
      "Epoch 118\n"
     ]
    },
    {
     "name": "stderr",
     "output_type": "stream",
     "text": [
      "Train: Loss=0.9486 Batch_id=97 Accuracy=66.00: 100%|██████████| 98/98 [00:30<00:00,  3.18it/s]\n",
      "100%|██████████| 20/20 [00:09<00:00,  2.08it/s]\n"
     ]
    },
    {
     "name": "stdout",
     "output_type": "stream",
     "text": [
      "Test set: Average loss: 0.0013, Accuracy: 7777/10000 (77.77%)\n",
      "\n",
      "Epoch 119\n"
     ]
    },
    {
     "name": "stderr",
     "output_type": "stream",
     "text": [
      "Train: Loss=1.0443 Batch_id=97 Accuracy=65.92: 100%|██████████| 98/98 [00:30<00:00,  3.18it/s]\n",
      "100%|██████████| 20/20 [00:09<00:00,  2.05it/s]\n"
     ]
    },
    {
     "name": "stdout",
     "output_type": "stream",
     "text": [
      "Test set: Average loss: 0.0013, Accuracy: 7738/10000 (77.38%)\n",
      "\n",
      "Epoch 120\n"
     ]
    },
    {
     "name": "stderr",
     "output_type": "stream",
     "text": [
      "Train: Loss=1.0119 Batch_id=97 Accuracy=65.91: 100%|██████████| 98/98 [00:31<00:00,  3.14it/s]\n",
      "100%|██████████| 20/20 [00:09<00:00,  2.06it/s]\n"
     ]
    },
    {
     "name": "stdout",
     "output_type": "stream",
     "text": [
      "Test set: Average loss: 0.0013, Accuracy: 7789/10000 (77.89%)\n",
      "\n",
      "Epoch 121\n"
     ]
    },
    {
     "name": "stderr",
     "output_type": "stream",
     "text": [
      "Train: Loss=0.9937 Batch_id=97 Accuracy=66.00: 100%|██████████| 98/98 [00:30<00:00,  3.18it/s]\n",
      "100%|██████████| 20/20 [00:09<00:00,  2.05it/s]\n"
     ]
    },
    {
     "name": "stdout",
     "output_type": "stream",
     "text": [
      "Test set: Average loss: 0.0013, Accuracy: 7807/10000 (78.07%)\n",
      "\n",
      "Epoch 122\n"
     ]
    },
    {
     "name": "stderr",
     "output_type": "stream",
     "text": [
      "Train: Loss=1.0263 Batch_id=97 Accuracy=66.04: 100%|██████████| 98/98 [00:30<00:00,  3.18it/s]\n",
      "100%|██████████| 20/20 [00:09<00:00,  2.09it/s]\n"
     ]
    },
    {
     "name": "stdout",
     "output_type": "stream",
     "text": [
      "Test set: Average loss: 0.0013, Accuracy: 7782/10000 (77.82%)\n",
      "\n",
      "Epoch 123\n"
     ]
    },
    {
     "name": "stderr",
     "output_type": "stream",
     "text": [
      "Train: Loss=0.9886 Batch_id=97 Accuracy=66.17: 100%|██████████| 98/98 [00:30<00:00,  3.18it/s]\n",
      "100%|██████████| 20/20 [00:09<00:00,  2.09it/s]\n"
     ]
    },
    {
     "name": "stdout",
     "output_type": "stream",
     "text": [
      "Test set: Average loss: 0.0013, Accuracy: 7721/10000 (77.21%)\n",
      "\n",
      "Epoch 124\n"
     ]
    },
    {
     "name": "stderr",
     "output_type": "stream",
     "text": [
      "Train: Loss=0.9369 Batch_id=97 Accuracy=66.30: 100%|██████████| 98/98 [00:30<00:00,  3.18it/s]\n",
      "100%|██████████| 20/20 [00:09<00:00,  2.05it/s]\n"
     ]
    },
    {
     "name": "stdout",
     "output_type": "stream",
     "text": [
      "Test set: Average loss: 0.0013, Accuracy: 7761/10000 (77.61%)\n",
      "\n",
      "Epoch 125\n"
     ]
    },
    {
     "name": "stderr",
     "output_type": "stream",
     "text": [
      "Train: Loss=1.0809 Batch_id=97 Accuracy=66.30: 100%|██████████| 98/98 [00:30<00:00,  3.18it/s]\n",
      "100%|██████████| 20/20 [00:09<00:00,  2.09it/s]\n"
     ]
    },
    {
     "name": "stdout",
     "output_type": "stream",
     "text": [
      "Test set: Average loss: 0.0013, Accuracy: 7775/10000 (77.75%)\n",
      "\n",
      "Epoch 126\n"
     ]
    },
    {
     "name": "stderr",
     "output_type": "stream",
     "text": [
      "Train: Loss=1.0215 Batch_id=97 Accuracy=66.21: 100%|██████████| 98/98 [00:30<00:00,  3.19it/s]\n",
      "100%|██████████| 20/20 [00:09<00:00,  2.08it/s]\n"
     ]
    },
    {
     "name": "stdout",
     "output_type": "stream",
     "text": [
      "Test set: Average loss: 0.0013, Accuracy: 7760/10000 (77.60%)\n",
      "\n",
      "Epoch 127\n"
     ]
    },
    {
     "name": "stderr",
     "output_type": "stream",
     "text": [
      "Train: Loss=0.8931 Batch_id=97 Accuracy=66.22: 100%|██████████| 98/98 [00:31<00:00,  3.15it/s]\n",
      "100%|██████████| 20/20 [00:09<00:00,  2.07it/s]\n"
     ]
    },
    {
     "name": "stdout",
     "output_type": "stream",
     "text": [
      "Test set: Average loss: 0.0013, Accuracy: 7763/10000 (77.63%)\n",
      "\n",
      "Epoch 128\n"
     ]
    },
    {
     "name": "stderr",
     "output_type": "stream",
     "text": [
      "Train: Loss=0.9355 Batch_id=97 Accuracy=66.24: 100%|██████████| 98/98 [00:30<00:00,  3.18it/s]\n",
      "100%|██████████| 20/20 [00:09<00:00,  2.05it/s]\n"
     ]
    },
    {
     "name": "stdout",
     "output_type": "stream",
     "text": [
      "Test set: Average loss: 0.0013, Accuracy: 7775/10000 (77.75%)\n",
      "\n",
      "Epoch 129\n"
     ]
    },
    {
     "name": "stderr",
     "output_type": "stream",
     "text": [
      "Train: Loss=0.9140 Batch_id=97 Accuracy=66.35: 100%|██████████| 98/98 [00:31<00:00,  3.16it/s]\n",
      "100%|██████████| 20/20 [00:09<00:00,  2.08it/s]\n"
     ]
    },
    {
     "name": "stdout",
     "output_type": "stream",
     "text": [
      "Test set: Average loss: 0.0013, Accuracy: 7794/10000 (77.94%)\n",
      "\n",
      "Epoch 130\n"
     ]
    },
    {
     "name": "stderr",
     "output_type": "stream",
     "text": [
      "Train: Loss=0.9611 Batch_id=97 Accuracy=66.27: 100%|██████████| 98/98 [00:30<00:00,  3.19it/s]\n",
      "100%|██████████| 20/20 [00:09<00:00,  2.08it/s]\n"
     ]
    },
    {
     "name": "stdout",
     "output_type": "stream",
     "text": [
      "Test set: Average loss: 0.0013, Accuracy: 7776/10000 (77.76%)\n",
      "\n",
      "Epoch 131\n"
     ]
    },
    {
     "name": "stderr",
     "output_type": "stream",
     "text": [
      "Train: Loss=0.9800 Batch_id=97 Accuracy=66.19: 100%|██████████| 98/98 [00:30<00:00,  3.19it/s]\n",
      "100%|██████████| 20/20 [00:09<00:00,  2.04it/s]\n"
     ]
    },
    {
     "name": "stdout",
     "output_type": "stream",
     "text": [
      "Test set: Average loss: 0.0013, Accuracy: 7698/10000 (76.98%)\n",
      "\n",
      "Epoch 132\n"
     ]
    },
    {
     "name": "stderr",
     "output_type": "stream",
     "text": [
      "Train: Loss=0.9798 Batch_id=97 Accuracy=66.42: 100%|██████████| 98/98 [00:33<00:00,  2.96it/s]\n",
      "100%|██████████| 20/20 [00:16<00:00,  1.23it/s]\n"
     ]
    },
    {
     "name": "stdout",
     "output_type": "stream",
     "text": [
      "Test set: Average loss: 0.0013, Accuracy: 7772/10000 (77.72%)\n",
      "\n",
      "Epoch 133\n"
     ]
    },
    {
     "name": "stderr",
     "output_type": "stream",
     "text": [
      "Train: Loss=0.9849 Batch_id=97 Accuracy=66.14: 100%|██████████| 98/98 [00:32<00:00,  3.06it/s]\n",
      "100%|██████████| 20/20 [00:13<00:00,  1.49it/s]\n"
     ]
    },
    {
     "name": "stdout",
     "output_type": "stream",
     "text": [
      "Test set: Average loss: 0.0013, Accuracy: 7855/10000 (78.55%)\n",
      "\n",
      "Epoch 134\n"
     ]
    },
    {
     "name": "stderr",
     "output_type": "stream",
     "text": [
      "Train: Loss=0.9210 Batch_id=97 Accuracy=66.40: 100%|██████████| 98/98 [00:54<00:00,  1.80it/s]\n",
      "100%|██████████| 20/20 [00:15<00:00,  1.29it/s]\n"
     ]
    },
    {
     "name": "stdout",
     "output_type": "stream",
     "text": [
      "Test set: Average loss: 0.0013, Accuracy: 7795/10000 (77.95%)\n",
      "\n",
      "Epoch 135\n"
     ]
    },
    {
     "name": "stderr",
     "output_type": "stream",
     "text": [
      "Train: Loss=1.0534 Batch_id=97 Accuracy=66.38: 100%|██████████| 98/98 [00:55<00:00,  1.76it/s]\n",
      "100%|██████████| 20/20 [00:15<00:00,  1.32it/s]\n"
     ]
    },
    {
     "name": "stdout",
     "output_type": "stream",
     "text": [
      "Test set: Average loss: 0.0013, Accuracy: 7802/10000 (78.02%)\n",
      "\n",
      "Epoch 136\n"
     ]
    },
    {
     "name": "stderr",
     "output_type": "stream",
     "text": [
      "Train: Loss=1.0389 Batch_id=97 Accuracy=66.25: 100%|██████████| 98/98 [00:53<00:00,  1.82it/s]\n",
      "100%|██████████| 20/20 [00:15<00:00,  1.31it/s]\n"
     ]
    },
    {
     "name": "stdout",
     "output_type": "stream",
     "text": [
      "Test set: Average loss: 0.0013, Accuracy: 7795/10000 (77.95%)\n",
      "\n",
      "Epoch 137\n"
     ]
    },
    {
     "name": "stderr",
     "output_type": "stream",
     "text": [
      "Train: Loss=0.9824 Batch_id=97 Accuracy=66.66: 100%|██████████| 98/98 [00:53<00:00,  1.82it/s]\n",
      "100%|██████████| 20/20 [00:15<00:00,  1.33it/s]\n"
     ]
    },
    {
     "name": "stdout",
     "output_type": "stream",
     "text": [
      "Test set: Average loss: 0.0013, Accuracy: 7805/10000 (78.05%)\n",
      "\n",
      "Epoch 138\n"
     ]
    },
    {
     "name": "stderr",
     "output_type": "stream",
     "text": [
      "Train: Loss=1.0780 Batch_id=97 Accuracy=66.39: 100%|██████████| 98/98 [00:52<00:00,  1.86it/s]\n",
      "100%|██████████| 20/20 [00:14<00:00,  1.35it/s]\n"
     ]
    },
    {
     "name": "stdout",
     "output_type": "stream",
     "text": [
      "Test set: Average loss: 0.0013, Accuracy: 7806/10000 (78.06%)\n",
      "\n",
      "Epoch 139\n"
     ]
    },
    {
     "name": "stderr",
     "output_type": "stream",
     "text": [
      "Train: Loss=0.9709 Batch_id=97 Accuracy=66.65: 100%|██████████| 98/98 [00:52<00:00,  1.85it/s]\n",
      "100%|██████████| 20/20 [00:14<00:00,  1.35it/s]\n"
     ]
    },
    {
     "name": "stdout",
     "output_type": "stream",
     "text": [
      "Test set: Average loss: 0.0012, Accuracy: 7842/10000 (78.42%)\n",
      "\n",
      "Epoch 140\n"
     ]
    },
    {
     "name": "stderr",
     "output_type": "stream",
     "text": [
      "Train: Loss=0.9788 Batch_id=97 Accuracy=66.64: 100%|██████████| 98/98 [00:53<00:00,  1.82it/s]\n",
      "100%|██████████| 20/20 [00:14<00:00,  1.35it/s]\n"
     ]
    },
    {
     "name": "stdout",
     "output_type": "stream",
     "text": [
      "Test set: Average loss: 0.0013, Accuracy: 7785/10000 (77.85%)\n",
      "\n",
      "Epoch 141\n"
     ]
    },
    {
     "name": "stderr",
     "output_type": "stream",
     "text": [
      "Train: Loss=0.9426 Batch_id=97 Accuracy=66.36: 100%|██████████| 98/98 [00:52<00:00,  1.86it/s]\n",
      "100%|██████████| 20/20 [00:14<00:00,  1.34it/s]\n"
     ]
    },
    {
     "name": "stdout",
     "output_type": "stream",
     "text": [
      "Test set: Average loss: 0.0013, Accuracy: 7835/10000 (78.35%)\n",
      "\n",
      "Epoch 142\n"
     ]
    },
    {
     "name": "stderr",
     "output_type": "stream",
     "text": [
      "Train: Loss=1.0002 Batch_id=97 Accuracy=66.67: 100%|██████████| 98/98 [00:53<00:00,  1.85it/s]\n",
      "100%|██████████| 20/20 [00:18<00:00,  1.09it/s]\n"
     ]
    },
    {
     "name": "stdout",
     "output_type": "stream",
     "text": [
      "Test set: Average loss: 0.0013, Accuracy: 7773/10000 (77.73%)\n",
      "\n",
      "Epoch 143\n"
     ]
    },
    {
     "name": "stderr",
     "output_type": "stream",
     "text": [
      "Train: Loss=0.9166 Batch_id=97 Accuracy=66.60: 100%|██████████| 98/98 [00:57<00:00,  1.70it/s]\n",
      "100%|██████████| 20/20 [00:14<00:00,  1.34it/s]\n"
     ]
    },
    {
     "name": "stdout",
     "output_type": "stream",
     "text": [
      "Test set: Average loss: 0.0013, Accuracy: 7827/10000 (78.27%)\n",
      "\n",
      "Epoch 144\n"
     ]
    },
    {
     "name": "stderr",
     "output_type": "stream",
     "text": [
      "Train: Loss=0.8769 Batch_id=97 Accuracy=66.74: 100%|██████████| 98/98 [00:54<00:00,  1.80it/s]\n",
      "100%|██████████| 20/20 [00:15<00:00,  1.25it/s]\n"
     ]
    },
    {
     "name": "stdout",
     "output_type": "stream",
     "text": [
      "Test set: Average loss: 0.0012, Accuracy: 7869/10000 (78.69%)\n",
      "\n",
      "Epoch 145\n"
     ]
    },
    {
     "name": "stderr",
     "output_type": "stream",
     "text": [
      "Train: Loss=0.8978 Batch_id=97 Accuracy=66.78: 100%|██████████| 98/98 [00:54<00:00,  1.81it/s]\n",
      "100%|██████████| 20/20 [00:16<00:00,  1.24it/s]\n"
     ]
    },
    {
     "name": "stdout",
     "output_type": "stream",
     "text": [
      "Test set: Average loss: 0.0013, Accuracy: 7836/10000 (78.36%)\n",
      "\n",
      "Epoch 146\n"
     ]
    },
    {
     "name": "stderr",
     "output_type": "stream",
     "text": [
      "Train: Loss=0.8908 Batch_id=97 Accuracy=67.04: 100%|██████████| 98/98 [00:54<00:00,  1.79it/s]\n",
      "100%|██████████| 20/20 [00:16<00:00,  1.22it/s]\n"
     ]
    },
    {
     "name": "stdout",
     "output_type": "stream",
     "text": [
      "Test set: Average loss: 0.0013, Accuracy: 7838/10000 (78.38%)\n",
      "\n",
      "Epoch 147\n"
     ]
    },
    {
     "name": "stderr",
     "output_type": "stream",
     "text": [
      "Train: Loss=1.0023 Batch_id=97 Accuracy=66.91: 100%|██████████| 98/98 [00:54<00:00,  1.80it/s]\n",
      "100%|██████████| 20/20 [00:16<00:00,  1.24it/s]\n"
     ]
    },
    {
     "name": "stdout",
     "output_type": "stream",
     "text": [
      "Test set: Average loss: 0.0012, Accuracy: 7859/10000 (78.59%)\n",
      "\n",
      "Epoch 148\n"
     ]
    },
    {
     "name": "stderr",
     "output_type": "stream",
     "text": [
      "Train: Loss=1.0683 Batch_id=97 Accuracy=66.87: 100%|██████████| 98/98 [00:54<00:00,  1.80it/s]\n",
      "100%|██████████| 20/20 [00:16<00:00,  1.23it/s]\n"
     ]
    },
    {
     "name": "stdout",
     "output_type": "stream",
     "text": [
      "Test set: Average loss: 0.0013, Accuracy: 7790/10000 (77.90%)\n",
      "\n",
      "Epoch 149\n"
     ]
    },
    {
     "name": "stderr",
     "output_type": "stream",
     "text": [
      "Train: Loss=0.9547 Batch_id=97 Accuracy=66.34: 100%|██████████| 98/98 [00:54<00:00,  1.80it/s]\n",
      "100%|██████████| 20/20 [00:16<00:00,  1.22it/s]\n"
     ]
    },
    {
     "name": "stdout",
     "output_type": "stream",
     "text": [
      "Test set: Average loss: 0.0012, Accuracy: 7842/10000 (78.42%)\n",
      "\n",
      "Epoch 150\n"
     ]
    },
    {
     "name": "stderr",
     "output_type": "stream",
     "text": [
      "Train: Loss=0.8979 Batch_id=97 Accuracy=66.81: 100%|██████████| 98/98 [00:54<00:00,  1.79it/s]\n",
      "100%|██████████| 20/20 [00:16<00:00,  1.23it/s]\n"
     ]
    },
    {
     "name": "stdout",
     "output_type": "stream",
     "text": [
      "Test set: Average loss: 0.0013, Accuracy: 7844/10000 (78.44%)\n",
      "\n",
      "Epoch 151\n"
     ]
    },
    {
     "name": "stderr",
     "output_type": "stream",
     "text": [
      "Train: Loss=0.9769 Batch_id=97 Accuracy=66.91: 100%|██████████| 98/98 [00:54<00:00,  1.80it/s]\n",
      "100%|██████████| 20/20 [00:16<00:00,  1.23it/s]\n"
     ]
    },
    {
     "name": "stdout",
     "output_type": "stream",
     "text": [
      "Test set: Average loss: 0.0012, Accuracy: 7856/10000 (78.56%)\n",
      "\n",
      "Epoch 152\n"
     ]
    },
    {
     "name": "stderr",
     "output_type": "stream",
     "text": [
      "Train: Loss=0.9317 Batch_id=97 Accuracy=66.97: 100%|██████████| 98/98 [00:54<00:00,  1.78it/s]\n",
      "100%|██████████| 20/20 [00:16<00:00,  1.24it/s]\n"
     ]
    },
    {
     "name": "stdout",
     "output_type": "stream",
     "text": [
      "Test set: Average loss: 0.0012, Accuracy: 7852/10000 (78.52%)\n",
      "\n",
      "Epoch 153\n"
     ]
    },
    {
     "name": "stderr",
     "output_type": "stream",
     "text": [
      "Train: Loss=0.9450 Batch_id=97 Accuracy=66.79: 100%|██████████| 98/98 [00:54<00:00,  1.79it/s]\n",
      "100%|██████████| 20/20 [00:15<00:00,  1.30it/s]\n"
     ]
    },
    {
     "name": "stdout",
     "output_type": "stream",
     "text": [
      "Test set: Average loss: 0.0013, Accuracy: 7808/10000 (78.08%)\n",
      "\n",
      "Epoch 154\n"
     ]
    },
    {
     "name": "stderr",
     "output_type": "stream",
     "text": [
      "Train: Loss=0.9028 Batch_id=97 Accuracy=66.91: 100%|██████████| 98/98 [00:52<00:00,  1.85it/s]\n",
      "100%|██████████| 20/20 [00:15<00:00,  1.30it/s]\n"
     ]
    },
    {
     "name": "stdout",
     "output_type": "stream",
     "text": [
      "Test set: Average loss: 0.0012, Accuracy: 7852/10000 (78.52%)\n",
      "\n",
      "Epoch 155\n"
     ]
    },
    {
     "name": "stderr",
     "output_type": "stream",
     "text": [
      "Train: Loss=0.9522 Batch_id=97 Accuracy=66.68: 100%|██████████| 98/98 [00:53<00:00,  1.82it/s]\n",
      "100%|██████████| 20/20 [00:15<00:00,  1.29it/s]\n"
     ]
    },
    {
     "name": "stdout",
     "output_type": "stream",
     "text": [
      "Test set: Average loss: 0.0012, Accuracy: 7841/10000 (78.41%)\n",
      "\n",
      "Epoch 156\n"
     ]
    },
    {
     "name": "stderr",
     "output_type": "stream",
     "text": [
      "Train: Loss=1.0144 Batch_id=97 Accuracy=66.80: 100%|██████████| 98/98 [00:53<00:00,  1.84it/s]\n",
      "100%|██████████| 20/20 [00:15<00:00,  1.29it/s]\n"
     ]
    },
    {
     "name": "stdout",
     "output_type": "stream",
     "text": [
      "Test set: Average loss: 0.0013, Accuracy: 7839/10000 (78.39%)\n",
      "\n",
      "Epoch 157\n"
     ]
    },
    {
     "name": "stderr",
     "output_type": "stream",
     "text": [
      "Train: Loss=1.0623 Batch_id=97 Accuracy=66.80: 100%|██████████| 98/98 [00:52<00:00,  1.85it/s]\n",
      "100%|██████████| 20/20 [00:15<00:00,  1.31it/s]\n"
     ]
    },
    {
     "name": "stdout",
     "output_type": "stream",
     "text": [
      "Test set: Average loss: 0.0012, Accuracy: 7853/10000 (78.53%)\n",
      "\n",
      "Epoch 158\n"
     ]
    },
    {
     "name": "stderr",
     "output_type": "stream",
     "text": [
      "Train: Loss=0.9379 Batch_id=97 Accuracy=66.65: 100%|██████████| 98/98 [00:53<00:00,  1.84it/s]\n",
      "100%|██████████| 20/20 [00:15<00:00,  1.31it/s]\n"
     ]
    },
    {
     "name": "stdout",
     "output_type": "stream",
     "text": [
      "Test set: Average loss: 0.0013, Accuracy: 7790/10000 (77.90%)\n",
      "\n",
      "Epoch 159\n"
     ]
    },
    {
     "name": "stderr",
     "output_type": "stream",
     "text": [
      "Train: Loss=0.9201 Batch_id=97 Accuracy=67.16: 100%|██████████| 98/98 [00:53<00:00,  1.83it/s]\n",
      "100%|██████████| 20/20 [00:15<00:00,  1.30it/s]\n"
     ]
    },
    {
     "name": "stdout",
     "output_type": "stream",
     "text": [
      "Test set: Average loss: 0.0013, Accuracy: 7781/10000 (77.81%)\n",
      "\n",
      "Epoch 160\n"
     ]
    },
    {
     "name": "stderr",
     "output_type": "stream",
     "text": [
      "Train: Loss=0.9510 Batch_id=97 Accuracy=66.81: 100%|██████████| 98/98 [00:53<00:00,  1.84it/s]\n",
      "100%|██████████| 20/20 [00:15<00:00,  1.29it/s]\n"
     ]
    },
    {
     "name": "stdout",
     "output_type": "stream",
     "text": [
      "Test set: Average loss: 0.0013, Accuracy: 7814/10000 (78.14%)\n",
      "\n",
      "Epoch 161\n"
     ]
    },
    {
     "name": "stderr",
     "output_type": "stream",
     "text": [
      "Train: Loss=0.9820 Batch_id=97 Accuracy=67.09: 100%|██████████| 98/98 [00:53<00:00,  1.84it/s]\n",
      "100%|██████████| 20/20 [00:15<00:00,  1.30it/s]\n"
     ]
    },
    {
     "name": "stdout",
     "output_type": "stream",
     "text": [
      "Test set: Average loss: 0.0013, Accuracy: 7820/10000 (78.20%)\n",
      "\n",
      "Epoch 162\n"
     ]
    },
    {
     "name": "stderr",
     "output_type": "stream",
     "text": [
      "Train: Loss=0.9474 Batch_id=97 Accuracy=66.94: 100%|██████████| 98/98 [00:53<00:00,  1.84it/s]\n",
      "100%|██████████| 20/20 [00:15<00:00,  1.27it/s]\n"
     ]
    },
    {
     "name": "stdout",
     "output_type": "stream",
     "text": [
      "Test set: Average loss: 0.0012, Accuracy: 7861/10000 (78.61%)\n",
      "\n",
      "Epoch 163\n"
     ]
    },
    {
     "name": "stderr",
     "output_type": "stream",
     "text": [
      "Train: Loss=0.8862 Batch_id=97 Accuracy=67.06: 100%|██████████| 98/98 [00:53<00:00,  1.83it/s]\n",
      "100%|██████████| 20/20 [00:15<00:00,  1.28it/s]\n"
     ]
    },
    {
     "name": "stdout",
     "output_type": "stream",
     "text": [
      "Test set: Average loss: 0.0012, Accuracy: 7896/10000 (78.96%)\n",
      "\n",
      "Epoch 164\n"
     ]
    },
    {
     "name": "stderr",
     "output_type": "stream",
     "text": [
      "Train: Loss=0.9578 Batch_id=97 Accuracy=66.74: 100%|██████████| 98/98 [00:53<00:00,  1.83it/s]\n",
      "100%|██████████| 20/20 [00:15<00:00,  1.29it/s]\n"
     ]
    },
    {
     "name": "stdout",
     "output_type": "stream",
     "text": [
      "Test set: Average loss: 0.0012, Accuracy: 7881/10000 (78.81%)\n",
      "\n",
      "Epoch 165\n"
     ]
    },
    {
     "name": "stderr",
     "output_type": "stream",
     "text": [
      "Train: Loss=0.9621 Batch_id=97 Accuracy=66.83: 100%|██████████| 98/98 [00:54<00:00,  1.79it/s]\n",
      "100%|██████████| 20/20 [00:16<00:00,  1.25it/s]\n"
     ]
    },
    {
     "name": "stdout",
     "output_type": "stream",
     "text": [
      "Test set: Average loss: 0.0013, Accuracy: 7815/10000 (78.15%)\n",
      "\n",
      "Epoch 166\n"
     ]
    },
    {
     "name": "stderr",
     "output_type": "stream",
     "text": [
      "Train: Loss=0.8555 Batch_id=97 Accuracy=66.96: 100%|██████████| 98/98 [00:53<00:00,  1.84it/s]\n",
      "100%|██████████| 20/20 [00:15<00:00,  1.29it/s]\n"
     ]
    },
    {
     "name": "stdout",
     "output_type": "stream",
     "text": [
      "Test set: Average loss: 0.0012, Accuracy: 7875/10000 (78.75%)\n",
      "\n",
      "Epoch 167\n"
     ]
    },
    {
     "name": "stderr",
     "output_type": "stream",
     "text": [
      "Train: Loss=0.8858 Batch_id=97 Accuracy=67.33: 100%|██████████| 98/98 [00:53<00:00,  1.82it/s]\n",
      "100%|██████████| 20/20 [00:15<00:00,  1.31it/s]\n"
     ]
    },
    {
     "name": "stdout",
     "output_type": "stream",
     "text": [
      "Test set: Average loss: 0.0013, Accuracy: 7833/10000 (78.33%)\n",
      "\n",
      "Epoch 168\n"
     ]
    },
    {
     "name": "stderr",
     "output_type": "stream",
     "text": [
      "Train: Loss=0.8760 Batch_id=97 Accuracy=67.31: 100%|██████████| 98/98 [00:53<00:00,  1.84it/s]\n",
      "100%|██████████| 20/20 [00:15<00:00,  1.31it/s]\n"
     ]
    },
    {
     "name": "stdout",
     "output_type": "stream",
     "text": [
      "Test set: Average loss: 0.0012, Accuracy: 7869/10000 (78.69%)\n",
      "\n",
      "Epoch 169\n"
     ]
    },
    {
     "name": "stderr",
     "output_type": "stream",
     "text": [
      "Train: Loss=1.0114 Batch_id=97 Accuracy=66.94: 100%|██████████| 98/98 [00:53<00:00,  1.84it/s]\n",
      "100%|██████████| 20/20 [00:15<00:00,  1.27it/s]\n"
     ]
    },
    {
     "name": "stdout",
     "output_type": "stream",
     "text": [
      "Test set: Average loss: 0.0012, Accuracy: 7832/10000 (78.32%)\n",
      "\n",
      "Epoch 170\n"
     ]
    },
    {
     "name": "stderr",
     "output_type": "stream",
     "text": [
      "Train: Loss=1.0456 Batch_id=97 Accuracy=67.17: 100%|██████████| 98/98 [00:53<00:00,  1.84it/s]\n",
      "100%|██████████| 20/20 [00:15<00:00,  1.30it/s]\n"
     ]
    },
    {
     "name": "stdout",
     "output_type": "stream",
     "text": [
      "Test set: Average loss: 0.0012, Accuracy: 7860/10000 (78.60%)\n",
      "\n",
      "Epoch 171\n"
     ]
    },
    {
     "name": "stderr",
     "output_type": "stream",
     "text": [
      "Train: Loss=0.9455 Batch_id=97 Accuracy=67.01: 100%|██████████| 98/98 [00:53<00:00,  1.84it/s]\n",
      "100%|██████████| 20/20 [00:15<00:00,  1.31it/s]\n"
     ]
    },
    {
     "name": "stdout",
     "output_type": "stream",
     "text": [
      "Test set: Average loss: 0.0012, Accuracy: 7882/10000 (78.82%)\n",
      "\n",
      "Epoch 172\n"
     ]
    },
    {
     "name": "stderr",
     "output_type": "stream",
     "text": [
      "Train: Loss=0.9407 Batch_id=97 Accuracy=67.02: 100%|██████████| 98/98 [00:53<00:00,  1.84it/s]\n",
      "100%|██████████| 20/20 [00:15<00:00,  1.29it/s]\n"
     ]
    },
    {
     "name": "stdout",
     "output_type": "stream",
     "text": [
      "Test set: Average loss: 0.0012, Accuracy: 7878/10000 (78.78%)\n",
      "\n",
      "Epoch 173\n"
     ]
    },
    {
     "name": "stderr",
     "output_type": "stream",
     "text": [
      "Train: Loss=0.9267 Batch_id=97 Accuracy=67.46: 100%|██████████| 98/98 [00:53<00:00,  1.83it/s]\n",
      "100%|██████████| 20/20 [00:15<00:00,  1.30it/s]\n"
     ]
    },
    {
     "name": "stdout",
     "output_type": "stream",
     "text": [
      "Test set: Average loss: 0.0012, Accuracy: 7868/10000 (78.68%)\n",
      "\n",
      "Epoch 174\n"
     ]
    },
    {
     "name": "stderr",
     "output_type": "stream",
     "text": [
      "Train: Loss=1.0521 Batch_id=97 Accuracy=67.34: 100%|██████████| 98/98 [00:54<00:00,  1.78it/s]\n",
      "100%|██████████| 20/20 [00:16<00:00,  1.25it/s]\n"
     ]
    },
    {
     "name": "stdout",
     "output_type": "stream",
     "text": [
      "Test set: Average loss: 0.0012, Accuracy: 7888/10000 (78.88%)\n",
      "\n",
      "Epoch 175\n"
     ]
    },
    {
     "name": "stderr",
     "output_type": "stream",
     "text": [
      "Train: Loss=0.9043 Batch_id=97 Accuracy=67.30: 100%|██████████| 98/98 [00:53<00:00,  1.82it/s]\n",
      "100%|██████████| 20/20 [00:15<00:00,  1.32it/s]\n"
     ]
    },
    {
     "name": "stdout",
     "output_type": "stream",
     "text": [
      "Test set: Average loss: 0.0013, Accuracy: 7854/10000 (78.54%)\n",
      "\n",
      "Epoch 176\n"
     ]
    },
    {
     "name": "stderr",
     "output_type": "stream",
     "text": [
      "Train: Loss=0.8896 Batch_id=97 Accuracy=67.15: 100%|██████████| 98/98 [00:53<00:00,  1.83it/s]\n",
      "100%|██████████| 20/20 [00:15<00:00,  1.32it/s]\n"
     ]
    },
    {
     "name": "stdout",
     "output_type": "stream",
     "text": [
      "Test set: Average loss: 0.0012, Accuracy: 7841/10000 (78.41%)\n",
      "\n",
      "Epoch 177\n"
     ]
    },
    {
     "name": "stderr",
     "output_type": "stream",
     "text": [
      "Train: Loss=0.8409 Batch_id=97 Accuracy=67.38: 100%|██████████| 98/98 [00:53<00:00,  1.82it/s]\n",
      "100%|██████████| 20/20 [00:15<00:00,  1.32it/s]\n"
     ]
    },
    {
     "name": "stdout",
     "output_type": "stream",
     "text": [
      "Test set: Average loss: 0.0012, Accuracy: 7923/10000 (79.23%)\n",
      "\n",
      "Epoch 178\n"
     ]
    },
    {
     "name": "stderr",
     "output_type": "stream",
     "text": [
      "Train: Loss=0.9148 Batch_id=97 Accuracy=67.32: 100%|██████████| 98/98 [00:53<00:00,  1.83it/s]\n",
      "100%|██████████| 20/20 [00:15<00:00,  1.30it/s]\n"
     ]
    },
    {
     "name": "stdout",
     "output_type": "stream",
     "text": [
      "Test set: Average loss: 0.0012, Accuracy: 7839/10000 (78.39%)\n",
      "\n",
      "Epoch 179\n"
     ]
    },
    {
     "name": "stderr",
     "output_type": "stream",
     "text": [
      "Train: Loss=0.8919 Batch_id=97 Accuracy=67.43: 100%|██████████| 98/98 [00:53<00:00,  1.83it/s]\n",
      "100%|██████████| 20/20 [00:15<00:00,  1.30it/s]\n"
     ]
    },
    {
     "name": "stdout",
     "output_type": "stream",
     "text": [
      "Test set: Average loss: 0.0012, Accuracy: 7851/10000 (78.51%)\n",
      "\n",
      "Epoch 180\n"
     ]
    },
    {
     "name": "stderr",
     "output_type": "stream",
     "text": [
      "Train: Loss=0.9162 Batch_id=97 Accuracy=67.16: 100%|██████████| 98/98 [00:53<00:00,  1.83it/s]\n",
      "100%|██████████| 20/20 [00:15<00:00,  1.32it/s]"
     ]
    },
    {
     "name": "stdout",
     "output_type": "stream",
     "text": [
      "Test set: Average loss: 0.0012, Accuracy: 7865/10000 (78.65%)\n",
      "\n"
     ]
    },
    {
     "name": "stderr",
     "output_type": "stream",
     "text": [
      "\n"
     ]
    }
   ],
   "source": [
    "\n",
    "criterion = F.nll_loss\n",
    "num_epochs = 180\n",
    "optimizer_sgd = optim.SGD(model.parameters(), lr=0.01,momentum=0.9)\n",
    "scheduler = optim.lr_scheduler.StepLR(optimizer_sgd,gamma=0.9,step_size=30,)\n",
    "\n",
    "\n",
    "for epoch in range(1, num_epochs+1):\n",
    "  print(f'Epoch {epoch}')\n",
    "  train(model, device, train_loader, optimizer_sgd,criterion)\n",
    "  test(model, device, test_loader, criterion)\n",
    "  scheduler.step()\n",
    "\n"
   ]
  },
  {
   "cell_type": "code",
   "execution_count": 7,
   "metadata": {},
   "outputs": [
    {
     "data": {
      "image/png": "[encoded data removed]",
      "text/plain": [
       "<Figure size 1500x1000 with 4 Axes>"
      ]
     },
     "metadata": {},
     "output_type": "display_data"
    }
   ],
   "source": [
    "plot_acc_loss()"
   ]
  },
  {
   "cell_type": "code",
   "execution_count": null,
   "metadata": {},
   "outputs": [],
   "source": []
  }
 ],
 "metadata": {
  "kernelspec": {
   "display_name": "pytorch",
   "language": "python",
   "name": "python3"
  },
  "language_info": {
   "codemirror_mode": {
    "name": "ipython",
    "version": 3
   },
   "file_extension": ".py",
   "mimetype": "text/x-python",
   "name": "python",
   "nbconvert_exporter": "python",
   "pygments_lexer": "ipython3",
   "version": "3.11.5"
  }
 },
 "nbformat": 4,
 "nbformat_minor": 2
}
