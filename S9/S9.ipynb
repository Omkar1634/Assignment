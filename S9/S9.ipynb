{
 "cells": [
  {
   "cell_type": "code",
   "execution_count": 1,
   "metadata": {},
   "outputs": [
    {
     "name": "stderr",
     "output_type": "stream",
     "text": [
      "c:\\Users\\Aai\\anaconda3\\envs\\pytorch\\Lib\\site-packages\\transformers\\utils\\generic.py:441: UserWarning: torch.utils._pytree._register_pytree_node is deprecated. Please use torch.utils._pytree.register_pytree_node instead.\n",
      "  _torch_pytree._register_pytree_node(\n"
     ]
    },
    {
     "name": "stdout",
     "output_type": "stream",
     "text": [
      "cuda\n"
     ]
    }
   ],
   "source": [
    "import torch\n",
    "import torch.nn as nn\n",
    "import torch.nn.functional as F\n",
    "import torch.optim as optim\n",
    "from torchvision import datasets, transforms\n",
    "import matplotlib.pyplot as plt\n",
    "import numpy as np\n",
    "from datasets import load_data_S9\n",
    "from  Utils import test,train,plot_acc_loss\n",
    "from models import model_summary\n",
    "\n",
    "device = torch.device( 'cuda' if torch.cuda.is_available() else 'cpu')\n",
    "print(device)"
   ]
  },
  {
   "cell_type": "code",
   "execution_count": 2,
   "metadata": {},
   "outputs": [
    {
     "name": "stdout",
     "output_type": "stream",
     "text": [
      "CUDA Available? True\n",
      "Files already downloaded and verified\n",
      "Files already downloaded and verified\n"
     ]
    }
   ],
   "source": [
    "train_loader , test_loader = load_data_S9()"
   ]
  },
  {
   "cell_type": "code",
   "execution_count": 3,
   "metadata": {},
   "outputs": [],
   "source": [
    "class S9_model(nn.Module):\n",
    "    def __init__(self):\n",
    "        super(S9_model,self).__init__()\n",
    "\n",
    "\n",
    "        self.convblock1 = nn.Sequential(\n",
    "            nn.Conv2d(in_channels=3,out_channels=64,kernel_size=3,padding=1),\n",
    "            nn.ReLU(),\n",
    "            nn.BatchNorm2d(64),\n",
    "            nn.Conv2d(in_channels=64,out_channels=64,kernel_size=3,padding=1),\n",
    "            nn.ReLU(),\n",
    "            nn.BatchNorm2d(64),\n",
    "            nn.Conv2d(in_channels=64,out_channels=64,kernel_size=3,padding=1,groups=64),\n",
    "            nn.Conv2d(in_channels=64,out_channels=64,kernel_size=1),\n",
    "            nn.BatchNorm2d(64),\n",
    "            nn.ReLU(),\n",
    "            nn.Conv2d(in_channels=64,out_channels=32,kernel_size=3,padding=2,dilation=2),\n",
    "            nn.Conv2d(in_channels=32,out_channels=16,kernel_size=3,stride=2,padding=1),\n",
    "            nn.BatchNorm2d(16),\n",
    "            nn.ReLU(),\n",
    "            nn.Dropout2d(0.1)\n",
    "        )\n",
    "        self.convblock2 = nn.Sequential(\n",
    "            nn.Conv2d(in_channels=16,out_channels=64,kernel_size=3,padding=1),\n",
    "            nn.ReLU(),\n",
    "            nn.BatchNorm2d(64),\n",
    "            nn.Conv2d(in_channels=64,out_channels=32,kernel_size=3,padding=1),\n",
    "            nn.ReLU(),\n",
    "            nn.BatchNorm2d(32),\n",
    "            nn.Conv2d(in_channels=32,out_channels=32,kernel_size=3,padding=1,groups=32),\n",
    "            nn.Conv2d(in_channels=32,out_channels=64,kernel_size=1),\n",
    "            nn.BatchNorm2d(64),\n",
    "            nn.ReLU(),\n",
    "            nn.Conv2d(in_channels=64,out_channels=64,kernel_size=3,padding=2,dilation=4),\n",
    "            nn.Conv2d(in_channels=64,out_channels=16,kernel_size=3,stride=2,padding=1),\n",
    "            nn.BatchNorm2d(16),\n",
    "            nn.ReLU(),\n",
    "            nn.Dropout2d(0.1)\n",
    "        )\n",
    "        self.convblock3 = nn.Sequential(\n",
    "            nn.Conv2d(in_channels=16,out_channels=32,kernel_size=3,padding=1),\n",
    "            nn.ReLU(),\n",
    "            nn.BatchNorm2d(32),\n",
    "            nn.Conv2d(in_channels=32,out_channels=32,kernel_size=3,padding=1),\n",
    "            nn.ReLU(),\n",
    "            nn.BatchNorm2d(32),\n",
    "            nn.Conv2d(in_channels=32,out_channels=32,kernel_size=3,padding=1,groups=32),\n",
    "            nn.Conv2d(in_channels=32,out_channels=64,kernel_size=1),\n",
    "            nn.BatchNorm2d(64),\n",
    "            nn.ReLU(),\n",
    "            nn.Conv2d(in_channels=64,out_channels=32,kernel_size=3,padding=2,dilation=2),\n",
    "            nn.Conv2d(in_channels=32,out_channels=32,kernel_size=3,stride=2,padding=1),\n",
    "            nn.BatchNorm2d(32),\n",
    "            nn.ReLU(),\n",
    "            nn.Dropout2d(0.1)\n",
    "        )\n",
    "        self.convblock4 = nn.Sequential(\n",
    "            nn.Conv2d(in_channels=32,out_channels=16,kernel_size=3,padding=1),\n",
    "            nn.ReLU(),\n",
    "            nn.BatchNorm2d(16),\n",
    "            nn.Conv2d(in_channels=16,out_channels=32,kernel_size=3,padding=1),\n",
    "            nn.ReLU(),\n",
    "            nn.BatchNorm2d(32),\n",
    "            nn.Conv2d(in_channels=32,out_channels=32,kernel_size=3,padding=1,groups=32),\n",
    "            nn.Conv2d(in_channels=32,out_channels=64,kernel_size=1),\n",
    "            nn.BatchNorm2d(64),\n",
    "            nn.ReLU(),\n",
    "            nn.Conv2d(in_channels=64,out_channels=64,kernel_size=3,padding=2,dilation=2),\n",
    "            nn.Conv2d(in_channels=64,out_channels=32,kernel_size=3,stride=1),\n",
    "            nn.BatchNorm2d(32),\n",
    "            nn.ReLU(),\n",
    "            nn.Dropout2d(0.1)\n",
    "        )\n",
    "        self.gap = nn.AdaptiveAvgPool2d((1,1))\n",
    "        self.fc = nn.Linear(in_features=32,out_features=10)\n",
    "\n",
    "\n",
    "    def forward(self,x):\n",
    "        x = self.convblock1(x)\n",
    "        x = self.convblock2(x)\n",
    "        x = self.convblock3(x)\n",
    "        x = self.convblock4(x)\n",
    "        x = self.gap(x)\n",
    "        x = x.view(x.size(0),-1)\n",
    "        x = self.fc(x)\n",
    "        x = F.log_softmax(x,dim=1)\n",
    "        return x"
   ]
  },
  {
   "cell_type": "code",
   "execution_count": 4,
   "metadata": {},
   "outputs": [
    {
     "name": "stdout",
     "output_type": "stream",
     "text": [
      "----------------------------------------------------------------\n",
      "        Layer (type)               Output Shape         Param #\n",
      "================================================================\n",
      "            Conv2d-1           [-1, 64, 32, 32]           1,792\n",
      "              ReLU-2           [-1, 64, 32, 32]               0\n",
      "       BatchNorm2d-3           [-1, 64, 32, 32]             128\n",
      "            Conv2d-4           [-1, 64, 32, 32]          36,928\n",
      "              ReLU-5           [-1, 64, 32, 32]               0\n",
      "       BatchNorm2d-6           [-1, 64, 32, 32]             128\n",
      "            Conv2d-7           [-1, 64, 32, 32]             640\n",
      "            Conv2d-8           [-1, 64, 32, 32]           4,160\n",
      "       BatchNorm2d-9           [-1, 64, 32, 32]             128\n",
      "             ReLU-10           [-1, 64, 32, 32]               0\n",
      "           Conv2d-11           [-1, 32, 32, 32]          18,464\n",
      "           Conv2d-12           [-1, 16, 16, 16]           4,624\n",
      "      BatchNorm2d-13           [-1, 16, 16, 16]              32\n",
      "             ReLU-14           [-1, 16, 16, 16]               0\n",
      "        Dropout2d-15           [-1, 16, 16, 16]               0\n",
      "           Conv2d-16           [-1, 64, 16, 16]           9,280\n",
      "             ReLU-17           [-1, 64, 16, 16]               0\n",
      "      BatchNorm2d-18           [-1, 64, 16, 16]             128\n",
      "           Conv2d-19           [-1, 32, 16, 16]          18,464\n",
      "             ReLU-20           [-1, 32, 16, 16]               0\n",
      "      BatchNorm2d-21           [-1, 32, 16, 16]              64\n",
      "           Conv2d-22           [-1, 32, 16, 16]             320\n",
      "           Conv2d-23           [-1, 64, 16, 16]           2,112\n",
      "      BatchNorm2d-24           [-1, 64, 16, 16]             128\n",
      "             ReLU-25           [-1, 64, 16, 16]               0\n",
      "           Conv2d-26           [-1, 64, 12, 12]          36,928\n",
      "           Conv2d-27             [-1, 16, 6, 6]           9,232\n",
      "      BatchNorm2d-28             [-1, 16, 6, 6]              32\n",
      "             ReLU-29             [-1, 16, 6, 6]               0\n",
      "        Dropout2d-30             [-1, 16, 6, 6]               0\n",
      "           Conv2d-31             [-1, 32, 6, 6]           4,640\n",
      "             ReLU-32             [-1, 32, 6, 6]               0\n",
      "      BatchNorm2d-33             [-1, 32, 6, 6]              64\n",
      "           Conv2d-34             [-1, 32, 6, 6]           9,248\n",
      "             ReLU-35             [-1, 32, 6, 6]               0\n",
      "      BatchNorm2d-36             [-1, 32, 6, 6]              64\n",
      "           Conv2d-37             [-1, 32, 6, 6]             320\n",
      "           Conv2d-38             [-1, 64, 6, 6]           2,112\n",
      "      BatchNorm2d-39             [-1, 64, 6, 6]             128\n",
      "             ReLU-40             [-1, 64, 6, 6]               0\n",
      "           Conv2d-41             [-1, 32, 6, 6]          18,464\n",
      "           Conv2d-42             [-1, 32, 3, 3]           9,248\n",
      "      BatchNorm2d-43             [-1, 32, 3, 3]              64\n",
      "             ReLU-44             [-1, 32, 3, 3]               0\n",
      "        Dropout2d-45             [-1, 32, 3, 3]               0\n",
      "           Conv2d-46             [-1, 16, 3, 3]           4,624\n",
      "             ReLU-47             [-1, 16, 3, 3]               0\n",
      "      BatchNorm2d-48             [-1, 16, 3, 3]              32\n",
      "           Conv2d-49             [-1, 32, 3, 3]           4,640\n",
      "             ReLU-50             [-1, 32, 3, 3]               0\n",
      "      BatchNorm2d-51             [-1, 32, 3, 3]              64\n",
      "           Conv2d-52             [-1, 32, 3, 3]             320\n",
      "           Conv2d-53             [-1, 64, 3, 3]           2,112\n",
      "      BatchNorm2d-54             [-1, 64, 3, 3]             128\n",
      "             ReLU-55             [-1, 64, 3, 3]               0\n",
      "           Conv2d-56             [-1, 64, 3, 3]          36,928\n",
      "           Conv2d-57             [-1, 32, 1, 1]          18,464\n",
      "      BatchNorm2d-58             [-1, 32, 1, 1]              64\n",
      "             ReLU-59             [-1, 32, 1, 1]               0\n",
      "        Dropout2d-60             [-1, 32, 1, 1]               0\n",
      "AdaptiveAvgPool2d-61             [-1, 32, 1, 1]               0\n",
      "           Linear-62                   [-1, 10]             330\n",
      "================================================================\n",
      "Total params: 255,770\n",
      "Trainable params: 255,770\n",
      "Non-trainable params: 0\n",
      "----------------------------------------------------------------\n",
      "Input size (MB): 0.01\n",
      "Forward/backward pass size (MB): 6.63\n",
      "Params size (MB): 0.98\n",
      "Estimated Total Size (MB): 7.61\n",
      "----------------------------------------------------------------\n"
     ]
    }
   ],
   "source": [
    "model = S9_model().to(device)\n",
    "model_summary(model,input_size=(3,32,32))"
   ]
  },
  {
   "cell_type": "code",
   "execution_count": 5,
   "metadata": {},
   "outputs": [
    {
     "name": "stdout",
     "output_type": "stream",
     "text": [
      "Epoch 1\n"
     ]
    },
    {
     "name": "stderr",
     "output_type": "stream",
     "text": [
      "Train: Loss=1.9505 Batch_id=97 Accuracy=20.94: 100%|██████████| 98/98 [00:32<00:00,  3.01it/s]\n",
      "100%|██████████| 20/20 [00:13<00:00,  1.49it/s]\n"
     ]
    },
    {
     "name": "stdout",
     "output_type": "stream",
     "text": [
      "Test set: Average loss: 0.0037, Accuracy: 3238/10000 (32.38%)\n",
      "\n",
      "Epoch 2\n"
     ]
    },
    {
     "name": "stderr",
     "output_type": "stream",
     "text": [
      "Train: Loss=1.7942 Batch_id=97 Accuracy=32.33: 100%|██████████| 98/98 [00:31<00:00,  3.13it/s]\n",
      "100%|██████████| 20/20 [00:12<00:00,  1.54it/s]\n"
     ]
    },
    {
     "name": "stdout",
     "output_type": "stream",
     "text": [
      "Test set: Average loss: 0.0032, Accuracy: 4122/10000 (41.22%)\n",
      "\n",
      "Epoch 3\n"
     ]
    },
    {
     "name": "stderr",
     "output_type": "stream",
     "text": [
      "Train: Loss=1.6184 Batch_id=97 Accuracy=37.20: 100%|██████████| 98/98 [00:32<00:00,  2.99it/s]\n",
      "100%|██████████| 20/20 [00:12<00:00,  1.56it/s]\n"
     ]
    },
    {
     "name": "stdout",
     "output_type": "stream",
     "text": [
      "Test set: Average loss: 0.0030, Accuracy: 4482/10000 (44.82%)\n",
      "\n",
      "Epoch 4\n"
     ]
    },
    {
     "name": "stderr",
     "output_type": "stream",
     "text": [
      "Train: Loss=1.5438 Batch_id=97 Accuracy=40.78: 100%|██████████| 98/98 [00:31<00:00,  3.13it/s]\n",
      "100%|██████████| 20/20 [00:12<00:00,  1.55it/s]\n"
     ]
    },
    {
     "name": "stdout",
     "output_type": "stream",
     "text": [
      "Test set: Average loss: 0.0027, Accuracy: 4913/10000 (49.13%)\n",
      "\n",
      "Epoch 5\n"
     ]
    },
    {
     "name": "stderr",
     "output_type": "stream",
     "text": [
      "Train: Loss=1.4774 Batch_id=97 Accuracy=43.48: 100%|██████████| 98/98 [00:31<00:00,  3.13it/s]\n",
      "100%|██████████| 20/20 [00:13<00:00,  1.52it/s]\n"
     ]
    },
    {
     "name": "stdout",
     "output_type": "stream",
     "text": [
      "Test set: Average loss: 0.0028, Accuracy: 4991/10000 (49.91%)\n",
      "\n",
      "Epoch 6\n"
     ]
    },
    {
     "name": "stderr",
     "output_type": "stream",
     "text": [
      "Train: Loss=1.4264 Batch_id=97 Accuracy=46.06: 100%|██████████| 98/98 [00:30<00:00,  3.16it/s]\n",
      "100%|██████████| 20/20 [00:12<00:00,  1.59it/s]\n"
     ]
    },
    {
     "name": "stdout",
     "output_type": "stream",
     "text": [
      "Test set: Average loss: 0.0025, Accuracy: 5327/10000 (53.27%)\n",
      "\n",
      "Epoch 7\n"
     ]
    },
    {
     "name": "stderr",
     "output_type": "stream",
     "text": [
      "Train: Loss=1.3714 Batch_id=97 Accuracy=47.62: 100%|██████████| 98/98 [00:31<00:00,  3.09it/s]\n",
      "100%|██████████| 20/20 [00:13<00:00,  1.54it/s]\n"
     ]
    },
    {
     "name": "stdout",
     "output_type": "stream",
     "text": [
      "Test set: Average loss: 0.0025, Accuracy: 5360/10000 (53.60%)\n",
      "\n",
      "Epoch 8\n"
     ]
    },
    {
     "name": "stderr",
     "output_type": "stream",
     "text": [
      "Train: Loss=1.4185 Batch_id=97 Accuracy=49.49: 100%|██████████| 98/98 [00:30<00:00,  3.16it/s]\n",
      "100%|██████████| 20/20 [00:12<00:00,  1.56it/s]\n"
     ]
    },
    {
     "name": "stdout",
     "output_type": "stream",
     "text": [
      "Test set: Average loss: 0.0023, Accuracy: 5770/10000 (57.70%)\n",
      "\n",
      "Epoch 9\n"
     ]
    },
    {
     "name": "stderr",
     "output_type": "stream",
     "text": [
      "Train: Loss=1.4032 Batch_id=97 Accuracy=51.00: 100%|██████████| 98/98 [00:31<00:00,  3.16it/s]\n",
      "100%|██████████| 20/20 [00:14<00:00,  1.37it/s]\n"
     ]
    },
    {
     "name": "stdout",
     "output_type": "stream",
     "text": [
      "Test set: Average loss: 0.0024, Accuracy: 5542/10000 (55.42%)\n",
      "\n",
      "Epoch 10\n"
     ]
    },
    {
     "name": "stderr",
     "output_type": "stream",
     "text": [
      "  0%|          | 0/98 [00:00<?, ?it/s]"
     ]
    }
   ],
   "source": [
    "\n",
    "criterion = F.nll_loss\n",
    "num_epochs = 20\n",
    "optimizer_sgd = optim.SGD(model.parameters(), lr=0.01,momentum=0.9)\n",
    "scheduler = optim.lr_scheduler.StepLR(optimizer_sgd,gamma=0.99,step_size=5)\n",
    "\n",
    "\n",
    "for epoch in range(1, num_epochs+1):\n",
    "  print(f'Epoch {epoch}')\n",
    "  train(model, device, train_loader, optimizer_sgd,criterion)\n",
    "  scheduler.step()\n",
    "  test(model, device, test_loader, criterion)\n"
   ]
  },
  {
   "cell_type": "code",
   "execution_count": null,
   "metadata": {},
   "outputs": [],
   "source": []
  }
 ],
 "metadata": {
  "kernelspec": {
   "display_name": "pytorch",
   "language": "python",
   "name": "python3"
  },
  "language_info": {
   "codemirror_mode": {
    "name": "ipython",
    "version": 3
   },
   "file_extension": ".py",
   "mimetype": "text/x-python",
   "name": "python",
   "nbconvert_exporter": "python",
   "pygments_lexer": "ipython3",
   "version": "3.11.5"
  }
 },
 "nbformat": 4,
 "nbformat_minor": 2
}
