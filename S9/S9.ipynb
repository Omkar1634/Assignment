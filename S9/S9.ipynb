{
 "cells": [
  {
   "cell_type": "code",
   "execution_count": 2,
   "metadata": {},
   "outputs": [
    {
     "name": "stdout",
     "output_type": "stream",
     "text": [
      "cuda\n"
     ]
    }
   ],
   "source": [
    "import torch\n",
    "import torch.nn as nn\n",
    "import torch.nn.functional as F\n",
    "import torch.optim as optim\n",
    "from torchvision import datasets, transforms\n",
    "import matplotlib.pyplot as plt\n",
    "import numpy as np\n",
    "from datasets import load_data_S9\n",
    "from  Utils import test,train,plot_acc_loss\n",
    "from models import model_summary\n",
    "\n",
    "device = torch.device( 'cuda' if torch.cuda.is_available() else 'cpu')\n",
    "print(device)"
   ]
  },
  {
   "cell_type": "code",
   "execution_count": 3,
   "metadata": {},
   "outputs": [
    {
     "name": "stdout",
     "output_type": "stream",
     "text": [
      "CUDA Available? True\n",
      "Files already downloaded and verified\n",
      "Files already downloaded and verified\n"
     ]
    }
   ],
   "source": [
    "train_loader , test_loader = load_data_S9()"
   ]
  },
  {
   "cell_type": "code",
   "execution_count": 4,
   "metadata": {},
   "outputs": [],
   "source": []
  },
  {
   "cell_type": "code",
   "execution_count": 5,
   "metadata": {},
   "outputs": [
    {
     "name": "stdout",
     "output_type": "stream",
     "text": [
      "----------------------------------------------------------------\n",
      "        Layer (type)               Output Shape         Param #\n",
      "================================================================\n",
      "            Conv2d-1          [-1, 128, 32, 32]           3,584\n",
      "              ReLU-2          [-1, 128, 32, 32]               0\n",
      "       BatchNorm2d-3          [-1, 128, 32, 32]             256\n",
      "         Dropout2d-4          [-1, 128, 32, 32]               0\n",
      "            Conv2d-5           [-1, 32, 32, 32]          36,896\n",
      "              ReLU-6           [-1, 32, 32, 32]               0\n",
      "         Dropout2d-7           [-1, 32, 32, 32]               0\n",
      "       BatchNorm2d-8           [-1, 32, 32, 32]              64\n",
      "            Conv2d-9           [-1, 32, 32, 32]             320\n",
      "           Conv2d-10           [-1, 32, 32, 32]           1,056\n",
      "      BatchNorm2d-11           [-1, 32, 32, 32]              64\n",
      "             ReLU-12           [-1, 32, 32, 32]               0\n",
      "        Dropout2d-13           [-1, 32, 32, 32]               0\n",
      "           Conv2d-14           [-1, 32, 32, 32]           9,248\n",
      "           Conv2d-15           [-1, 32, 16, 16]           9,248\n",
      "      BatchNorm2d-16           [-1, 32, 16, 16]              64\n",
      "             ReLU-17           [-1, 32, 16, 16]               0\n",
      "        Dropout2d-18           [-1, 32, 16, 16]               0\n",
      "           Conv2d-19           [-1, 32, 16, 16]           9,248\n",
      "             ReLU-20           [-1, 32, 16, 16]               0\n",
      "      BatchNorm2d-21           [-1, 32, 16, 16]              64\n",
      "        Dropout2d-22           [-1, 32, 16, 16]               0\n",
      "           Conv2d-23           [-1, 32, 16, 16]           9,248\n",
      "             ReLU-24           [-1, 32, 16, 16]               0\n",
      "      BatchNorm2d-25           [-1, 32, 16, 16]              64\n",
      "        Dropout2d-26           [-1, 32, 16, 16]               0\n",
      "           Conv2d-27           [-1, 32, 16, 16]             320\n",
      "           Conv2d-28           [-1, 32, 16, 16]           1,056\n",
      "      BatchNorm2d-29           [-1, 32, 16, 16]              64\n",
      "             ReLU-30           [-1, 32, 16, 16]               0\n",
      "        Dropout2d-31           [-1, 32, 16, 16]               0\n",
      "           Conv2d-32           [-1, 32, 12, 12]           9,248\n",
      "           Conv2d-33             [-1, 16, 6, 6]           4,624\n",
      "      BatchNorm2d-34             [-1, 16, 6, 6]              32\n",
      "             ReLU-35             [-1, 16, 6, 6]               0\n",
      "        Dropout2d-36             [-1, 16, 6, 6]               0\n",
      "           Conv2d-37             [-1, 32, 6, 6]           4,640\n",
      "             ReLU-38             [-1, 32, 6, 6]               0\n",
      "      BatchNorm2d-39             [-1, 32, 6, 6]              64\n",
      "        Dropout2d-40             [-1, 32, 6, 6]               0\n",
      "           Conv2d-41             [-1, 32, 6, 6]           9,248\n",
      "             ReLU-42             [-1, 32, 6, 6]               0\n",
      "      BatchNorm2d-43             [-1, 32, 6, 6]              64\n",
      "        Dropout2d-44             [-1, 32, 6, 6]               0\n",
      "           Conv2d-45             [-1, 32, 6, 6]             320\n",
      "           Conv2d-46             [-1, 64, 6, 6]           2,112\n",
      "      BatchNorm2d-47             [-1, 64, 6, 6]             128\n",
      "             ReLU-48             [-1, 64, 6, 6]               0\n",
      "        Dropout2d-49             [-1, 64, 6, 6]               0\n",
      "           Conv2d-50             [-1, 32, 6, 6]          18,464\n",
      "           Conv2d-51             [-1, 32, 3, 3]           9,248\n",
      "      BatchNorm2d-52             [-1, 32, 3, 3]              64\n",
      "             ReLU-53             [-1, 32, 3, 3]               0\n",
      "        Dropout2d-54             [-1, 32, 3, 3]               0\n",
      "           Conv2d-55             [-1, 16, 3, 3]           4,624\n",
      "             ReLU-56             [-1, 16, 3, 3]               0\n",
      "      BatchNorm2d-57             [-1, 16, 3, 3]              32\n",
      "        Dropout2d-58             [-1, 16, 3, 3]               0\n",
      "           Conv2d-59             [-1, 16, 3, 3]           2,320\n",
      "             ReLU-60             [-1, 16, 3, 3]               0\n",
      "      BatchNorm2d-61             [-1, 16, 3, 3]              32\n",
      "        Dropout2d-62             [-1, 16, 3, 3]               0\n",
      "           Conv2d-63             [-1, 16, 3, 3]             160\n",
      "           Conv2d-64             [-1, 16, 3, 3]             272\n",
      "      BatchNorm2d-65             [-1, 16, 3, 3]              32\n",
      "             ReLU-66             [-1, 16, 3, 3]               0\n",
      "        Dropout2d-67             [-1, 16, 3, 3]               0\n",
      "           Conv2d-68             [-1, 16, 3, 3]           2,320\n",
      "           Conv2d-69             [-1, 32, 1, 1]           4,640\n",
      "      BatchNorm2d-70             [-1, 32, 1, 1]              64\n",
      "             ReLU-71             [-1, 32, 1, 1]               0\n",
      "        Dropout2d-72             [-1, 32, 1, 1]               0\n",
      "AdaptiveAvgPool2d-73             [-1, 32, 1, 1]               0\n",
      "           Linear-74                   [-1, 10]             330\n",
      "================================================================\n",
      "Total params: 153,946\n",
      "Trainable params: 153,946\n",
      "Non-trainable params: 0\n",
      "----------------------------------------------------------------\n",
      "Input size (MB): 0.01\n",
      "Forward/backward pass size (MB): 7.80\n",
      "Params size (MB): 0.59\n",
      "Estimated Total Size (MB): 8.40\n",
      "----------------------------------------------------------------\n"
     ]
    }
   ],
   "source": [
    "model = S9_model().to(device)\n",
    "model_summary(model,input_size=(3,32,32))"
   ]
  },
  {
   "cell_type": "code",
   "execution_count": 6,
   "metadata": {},
   "outputs": [
    {
     "name": "stdout",
     "output_type": "stream",
     "text": [
      "Epoch 1\n"
     ]
    },
    {
     "name": "stderr",
     "output_type": "stream",
     "text": [
      "Train: Loss=2.1727 Batch_id=97 Accuracy=14.92: 100%|██████████| 98/98 [00:32<00:00,  2.97it/s]\n",
      "100%|██████████| 20/20 [00:10<00:00,  1.85it/s]\n"
     ]
    },
    {
     "name": "stdout",
     "output_type": "stream",
     "text": [
      "Test set: Average loss: 0.0041, Accuracy: 2284/10000 (22.84%)\n",
      "\n",
      "Epoch 2\n"
     ]
    },
    {
     "name": "stderr",
     "output_type": "stream",
     "text": [
      "Train: Loss=2.1121 Batch_id=97 Accuracy=21.99: 100%|██████████| 98/98 [00:31<00:00,  3.09it/s]\n",
      "100%|██████████| 20/20 [00:10<00:00,  1.93it/s]\n"
     ]
    },
    {
     "name": "stdout",
     "output_type": "stream",
     "text": [
      "Test set: Average loss: 0.0037, Accuracy: 2981/10000 (29.81%)\n",
      "\n",
      "Epoch 3\n"
     ]
    },
    {
     "name": "stderr",
     "output_type": "stream",
     "text": [
      "Train: Loss=1.8700 Batch_id=97 Accuracy=26.82: 100%|██████████| 98/98 [00:31<00:00,  3.10it/s]\n",
      "100%|██████████| 20/20 [00:09<00:00,  2.03it/s]\n"
     ]
    },
    {
     "name": "stdout",
     "output_type": "stream",
     "text": [
      "Test set: Average loss: 0.0035, Accuracy: 3489/10000 (34.89%)\n",
      "\n",
      "Epoch 4\n"
     ]
    },
    {
     "name": "stderr",
     "output_type": "stream",
     "text": [
      "Train: Loss=1.8591 Batch_id=97 Accuracy=29.58: 100%|██████████| 98/98 [00:30<00:00,  3.20it/s]\n",
      "100%|██████████| 20/20 [00:09<00:00,  2.02it/s]\n"
     ]
    },
    {
     "name": "stdout",
     "output_type": "stream",
     "text": [
      "Test set: Average loss: 0.0034, Accuracy: 3707/10000 (37.07%)\n",
      "\n",
      "Epoch 5\n"
     ]
    },
    {
     "name": "stderr",
     "output_type": "stream",
     "text": [
      "Train: Loss=1.7720 Batch_id=97 Accuracy=31.89: 100%|██████████| 98/98 [00:30<00:00,  3.25it/s]\n",
      "100%|██████████| 20/20 [00:09<00:00,  2.12it/s]\n"
     ]
    },
    {
     "name": "stdout",
     "output_type": "stream",
     "text": [
      "Test set: Average loss: 0.0032, Accuracy: 3944/10000 (39.44%)\n",
      "\n",
      "Epoch 6\n"
     ]
    },
    {
     "name": "stderr",
     "output_type": "stream",
     "text": [
      "Train: Loss=1.7795 Batch_id=97 Accuracy=33.55: 100%|██████████| 98/98 [00:30<00:00,  3.19it/s]\n",
      "100%|██████████| 20/20 [00:09<00:00,  2.03it/s]\n"
     ]
    },
    {
     "name": "stdout",
     "output_type": "stream",
     "text": [
      "Test set: Average loss: 0.0031, Accuracy: 4177/10000 (41.77%)\n",
      "\n",
      "Epoch 7\n"
     ]
    },
    {
     "name": "stderr",
     "output_type": "stream",
     "text": [
      "Train: Loss=1.7828 Batch_id=97 Accuracy=35.08: 100%|██████████| 98/98 [00:30<00:00,  3.22it/s]\n",
      "100%|██████████| 20/20 [00:09<00:00,  2.14it/s]\n"
     ]
    },
    {
     "name": "stdout",
     "output_type": "stream",
     "text": [
      "Test set: Average loss: 0.0030, Accuracy: 4317/10000 (43.17%)\n",
      "\n",
      "Epoch 8\n"
     ]
    },
    {
     "name": "stderr",
     "output_type": "stream",
     "text": [
      "Train: Loss=1.6724 Batch_id=97 Accuracy=36.40: 100%|██████████| 98/98 [00:30<00:00,  3.23it/s]\n",
      "100%|██████████| 20/20 [00:09<00:00,  2.12it/s]\n"
     ]
    },
    {
     "name": "stdout",
     "output_type": "stream",
     "text": [
      "Test set: Average loss: 0.0029, Accuracy: 4495/10000 (44.95%)\n",
      "\n",
      "Epoch 9\n"
     ]
    },
    {
     "name": "stderr",
     "output_type": "stream",
     "text": [
      "Train: Loss=1.7299 Batch_id=97 Accuracy=37.69: 100%|██████████| 98/98 [00:30<00:00,  3.20it/s]\n",
      "100%|██████████| 20/20 [00:09<00:00,  2.14it/s]\n"
     ]
    },
    {
     "name": "stdout",
     "output_type": "stream",
     "text": [
      "Test set: Average loss: 0.0029, Accuracy: 4593/10000 (45.93%)\n",
      "\n",
      "Epoch 10\n"
     ]
    },
    {
     "name": "stderr",
     "output_type": "stream",
     "text": [
      "Train: Loss=1.6300 Batch_id=97 Accuracy=38.37: 100%|██████████| 98/98 [00:30<00:00,  3.25it/s]\n",
      "100%|██████████| 20/20 [00:09<00:00,  2.13it/s]\n"
     ]
    },
    {
     "name": "stdout",
     "output_type": "stream",
     "text": [
      "Test set: Average loss: 0.0028, Accuracy: 4767/10000 (47.67%)\n",
      "\n",
      "Epoch 11\n"
     ]
    },
    {
     "name": "stderr",
     "output_type": "stream",
     "text": [
      "Train: Loss=1.5050 Batch_id=97 Accuracy=39.61: 100%|██████████| 98/98 [00:30<00:00,  3.22it/s]\n",
      "100%|██████████| 20/20 [00:09<00:00,  2.17it/s]\n"
     ]
    },
    {
     "name": "stdout",
     "output_type": "stream",
     "text": [
      "Test set: Average loss: 0.0028, Accuracy: 4830/10000 (48.30%)\n",
      "\n",
      "Epoch 12\n"
     ]
    },
    {
     "name": "stderr",
     "output_type": "stream",
     "text": [
      "Train: Loss=1.6393 Batch_id=97 Accuracy=40.71: 100%|██████████| 98/98 [00:30<00:00,  3.16it/s]\n",
      "100%|██████████| 20/20 [00:10<00:00,  1.87it/s]\n"
     ]
    },
    {
     "name": "stdout",
     "output_type": "stream",
     "text": [
      "Test set: Average loss: 0.0027, Accuracy: 4988/10000 (49.88%)\n",
      "\n",
      "Epoch 13\n"
     ]
    },
    {
     "name": "stderr",
     "output_type": "stream",
     "text": [
      "Train: Loss=1.5933 Batch_id=97 Accuracy=41.14: 100%|██████████| 98/98 [00:31<00:00,  3.10it/s]\n",
      "100%|██████████| 20/20 [00:09<00:00,  2.00it/s]\n"
     ]
    },
    {
     "name": "stdout",
     "output_type": "stream",
     "text": [
      "Test set: Average loss: 0.0027, Accuracy: 5089/10000 (50.89%)\n",
      "\n",
      "Epoch 14\n"
     ]
    },
    {
     "name": "stderr",
     "output_type": "stream",
     "text": [
      "Train: Loss=1.6491 Batch_id=97 Accuracy=41.64: 100%|██████████| 98/98 [00:32<00:00,  3.02it/s]\n",
      "100%|██████████| 20/20 [00:09<00:00,  2.00it/s]\n"
     ]
    },
    {
     "name": "stdout",
     "output_type": "stream",
     "text": [
      "Test set: Average loss: 0.0026, Accuracy: 5215/10000 (52.15%)\n",
      "\n",
      "Epoch 15\n"
     ]
    },
    {
     "name": "stderr",
     "output_type": "stream",
     "text": [
      "Train: Loss=1.5622 Batch_id=97 Accuracy=42.43: 100%|██████████| 98/98 [00:30<00:00,  3.20it/s]\n",
      "100%|██████████| 20/20 [00:09<00:00,  2.12it/s]\n"
     ]
    },
    {
     "name": "stdout",
     "output_type": "stream",
     "text": [
      "Test set: Average loss: 0.0026, Accuracy: 5218/10000 (52.18%)\n",
      "\n",
      "Epoch 16\n"
     ]
    },
    {
     "name": "stderr",
     "output_type": "stream",
     "text": [
      "Train: Loss=1.6427 Batch_id=97 Accuracy=42.86: 100%|██████████| 98/98 [00:30<00:00,  3.22it/s]\n",
      "100%|██████████| 20/20 [00:09<00:00,  2.11it/s]\n"
     ]
    },
    {
     "name": "stdout",
     "output_type": "stream",
     "text": [
      "Test set: Average loss: 0.0026, Accuracy: 5278/10000 (52.78%)\n",
      "\n",
      "Epoch 17\n"
     ]
    },
    {
     "name": "stderr",
     "output_type": "stream",
     "text": [
      "Train: Loss=1.5807 Batch_id=97 Accuracy=43.86: 100%|██████████| 98/98 [00:30<00:00,  3.24it/s]\n",
      "100%|██████████| 20/20 [00:09<00:00,  2.17it/s]\n"
     ]
    },
    {
     "name": "stdout",
     "output_type": "stream",
     "text": [
      "Test set: Average loss: 0.0025, Accuracy: 5348/10000 (53.48%)\n",
      "\n",
      "Epoch 18\n"
     ]
    },
    {
     "name": "stderr",
     "output_type": "stream",
     "text": [
      "Train: Loss=1.5916 Batch_id=97 Accuracy=44.20: 100%|██████████| 98/98 [00:31<00:00,  3.14it/s]\n",
      "100%|██████████| 20/20 [00:09<00:00,  2.09it/s]\n"
     ]
    },
    {
     "name": "stdout",
     "output_type": "stream",
     "text": [
      "Test set: Average loss: 0.0025, Accuracy: 5399/10000 (53.99%)\n",
      "\n",
      "Epoch 19\n"
     ]
    },
    {
     "name": "stderr",
     "output_type": "stream",
     "text": [
      "Train: Loss=1.5329 Batch_id=97 Accuracy=44.64: 100%|██████████| 98/98 [00:30<00:00,  3.24it/s]\n",
      "100%|██████████| 20/20 [00:09<00:00,  2.02it/s]\n"
     ]
    },
    {
     "name": "stdout",
     "output_type": "stream",
     "text": [
      "Test set: Average loss: 0.0024, Accuracy: 5545/10000 (55.45%)\n",
      "\n",
      "Epoch 20\n"
     ]
    },
    {
     "name": "stderr",
     "output_type": "stream",
     "text": [
      "Train: Loss=1.4708 Batch_id=97 Accuracy=45.36: 100%|██████████| 98/98 [00:30<00:00,  3.22it/s]\n",
      "100%|██████████| 20/20 [00:10<00:00,  1.93it/s]\n"
     ]
    },
    {
     "name": "stdout",
     "output_type": "stream",
     "text": [
      "Test set: Average loss: 0.0025, Accuracy: 5494/10000 (54.94%)\n",
      "\n",
      "Epoch 21\n"
     ]
    },
    {
     "name": "stderr",
     "output_type": "stream",
     "text": [
      "Train: Loss=1.5930 Batch_id=97 Accuracy=45.56: 100%|██████████| 98/98 [00:30<00:00,  3.17it/s]\n",
      "100%|██████████| 20/20 [00:09<00:00,  2.04it/s]\n"
     ]
    },
    {
     "name": "stdout",
     "output_type": "stream",
     "text": [
      "Test set: Average loss: 0.0024, Accuracy: 5663/10000 (56.63%)\n",
      "\n",
      "Epoch 22\n"
     ]
    },
    {
     "name": "stderr",
     "output_type": "stream",
     "text": [
      "Train: Loss=1.4739 Batch_id=97 Accuracy=46.61: 100%|██████████| 98/98 [00:31<00:00,  3.12it/s]\n",
      "100%|██████████| 20/20 [00:09<00:00,  2.18it/s]\n"
     ]
    },
    {
     "name": "stdout",
     "output_type": "stream",
     "text": [
      "Test set: Average loss: 0.0024, Accuracy: 5747/10000 (57.47%)\n",
      "\n",
      "Epoch 23\n"
     ]
    },
    {
     "name": "stderr",
     "output_type": "stream",
     "text": [
      "Train: Loss=1.4069 Batch_id=97 Accuracy=46.81: 100%|██████████| 98/98 [00:29<00:00,  3.28it/s]\n",
      "100%|██████████| 20/20 [00:09<00:00,  2.16it/s]\n"
     ]
    },
    {
     "name": "stdout",
     "output_type": "stream",
     "text": [
      "Test set: Average loss: 0.0023, Accuracy: 5759/10000 (57.59%)\n",
      "\n",
      "Epoch 24\n"
     ]
    },
    {
     "name": "stderr",
     "output_type": "stream",
     "text": [
      "Train: Loss=1.4450 Batch_id=97 Accuracy=47.15: 100%|██████████| 98/98 [00:30<00:00,  3.20it/s]\n",
      "100%|██████████| 20/20 [00:10<00:00,  1.96it/s]\n"
     ]
    },
    {
     "name": "stdout",
     "output_type": "stream",
     "text": [
      "Test set: Average loss: 0.0023, Accuracy: 5765/10000 (57.65%)\n",
      "\n",
      "Epoch 25\n"
     ]
    },
    {
     "name": "stderr",
     "output_type": "stream",
     "text": [
      "Train: Loss=1.5990 Batch_id=97 Accuracy=47.41: 100%|██████████| 98/98 [00:30<00:00,  3.20it/s]\n",
      "100%|██████████| 20/20 [00:09<00:00,  2.13it/s]\n"
     ]
    },
    {
     "name": "stdout",
     "output_type": "stream",
     "text": [
      "Test set: Average loss: 0.0023, Accuracy: 5885/10000 (58.85%)\n",
      "\n",
      "Epoch 26\n"
     ]
    },
    {
     "name": "stderr",
     "output_type": "stream",
     "text": [
      "Train: Loss=1.3785 Batch_id=97 Accuracy=48.21: 100%|██████████| 98/98 [00:31<00:00,  3.08it/s]\n",
      "100%|██████████| 20/20 [00:09<00:00,  2.01it/s]\n"
     ]
    },
    {
     "name": "stdout",
     "output_type": "stream",
     "text": [
      "Test set: Average loss: 0.0022, Accuracy: 6011/10000 (60.11%)\n",
      "\n",
      "Epoch 27\n"
     ]
    },
    {
     "name": "stderr",
     "output_type": "stream",
     "text": [
      "Train: Loss=1.3091 Batch_id=97 Accuracy=48.40: 100%|██████████| 98/98 [00:30<00:00,  3.25it/s]\n",
      "100%|██████████| 20/20 [00:09<00:00,  2.12it/s]\n"
     ]
    },
    {
     "name": "stdout",
     "output_type": "stream",
     "text": [
      "Test set: Average loss: 0.0023, Accuracy: 5963/10000 (59.63%)\n",
      "\n",
      "Epoch 28\n"
     ]
    },
    {
     "name": "stderr",
     "output_type": "stream",
     "text": [
      "Train: Loss=1.3430 Batch_id=97 Accuracy=49.11: 100%|██████████| 98/98 [00:30<00:00,  3.23it/s]\n",
      "100%|██████████| 20/20 [00:09<00:00,  2.13it/s]\n"
     ]
    },
    {
     "name": "stdout",
     "output_type": "stream",
     "text": [
      "Test set: Average loss: 0.0022, Accuracy: 6051/10000 (60.51%)\n",
      "\n",
      "Epoch 29\n"
     ]
    },
    {
     "name": "stderr",
     "output_type": "stream",
     "text": [
      "Train: Loss=1.3974 Batch_id=97 Accuracy=49.57: 100%|██████████| 98/98 [00:30<00:00,  3.23it/s]\n",
      "100%|██████████| 20/20 [00:09<00:00,  2.17it/s]\n"
     ]
    },
    {
     "name": "stdout",
     "output_type": "stream",
     "text": [
      "Test set: Average loss: 0.0022, Accuracy: 6007/10000 (60.07%)\n",
      "\n",
      "Epoch 30\n"
     ]
    },
    {
     "name": "stderr",
     "output_type": "stream",
     "text": [
      "Train: Loss=1.2910 Batch_id=97 Accuracy=49.90: 100%|██████████| 98/98 [00:30<00:00,  3.18it/s]\n",
      "100%|██████████| 20/20 [00:09<00:00,  2.03it/s]\n"
     ]
    },
    {
     "name": "stdout",
     "output_type": "stream",
     "text": [
      "Test set: Average loss: 0.0022, Accuracy: 6159/10000 (61.59%)\n",
      "\n",
      "Epoch 31\n"
     ]
    },
    {
     "name": "stderr",
     "output_type": "stream",
     "text": [
      "Train: Loss=1.4004 Batch_id=97 Accuracy=50.75: 100%|██████████| 98/98 [00:30<00:00,  3.21it/s]\n",
      "100%|██████████| 20/20 [00:09<00:00,  2.12it/s]\n"
     ]
    },
    {
     "name": "stdout",
     "output_type": "stream",
     "text": [
      "Test set: Average loss: 0.0021, Accuracy: 6155/10000 (61.55%)\n",
      "\n",
      "Epoch 32\n"
     ]
    },
    {
     "name": "stderr",
     "output_type": "stream",
     "text": [
      "Train: Loss=1.3839 Batch_id=97 Accuracy=50.83: 100%|██████████| 98/98 [00:30<00:00,  3.21it/s]\n",
      "100%|██████████| 20/20 [00:09<00:00,  2.04it/s]\n"
     ]
    },
    {
     "name": "stdout",
     "output_type": "stream",
     "text": [
      "Test set: Average loss: 0.0021, Accuracy: 6294/10000 (62.94%)\n",
      "\n",
      "Epoch 33\n"
     ]
    },
    {
     "name": "stderr",
     "output_type": "stream",
     "text": [
      "Train: Loss=1.3417 Batch_id=97 Accuracy=51.00: 100%|██████████| 98/98 [00:30<00:00,  3.22it/s]\n",
      "100%|██████████| 20/20 [00:09<00:00,  2.15it/s]\n"
     ]
    },
    {
     "name": "stdout",
     "output_type": "stream",
     "text": [
      "Test set: Average loss: 0.0021, Accuracy: 6152/10000 (61.52%)\n",
      "\n",
      "Epoch 34\n"
     ]
    },
    {
     "name": "stderr",
     "output_type": "stream",
     "text": [
      "Train: Loss=1.3465 Batch_id=97 Accuracy=51.38: 100%|██████████| 98/98 [00:30<00:00,  3.18it/s]\n",
      "100%|██████████| 20/20 [00:09<00:00,  2.07it/s]\n"
     ]
    },
    {
     "name": "stdout",
     "output_type": "stream",
     "text": [
      "Test set: Average loss: 0.0021, Accuracy: 6317/10000 (63.17%)\n",
      "\n",
      "Epoch 35\n"
     ]
    },
    {
     "name": "stderr",
     "output_type": "stream",
     "text": [
      "Train: Loss=1.3788 Batch_id=97 Accuracy=51.50: 100%|██████████| 98/98 [00:31<00:00,  3.08it/s]\n",
      "100%|██████████| 20/20 [00:09<00:00,  2.08it/s]\n"
     ]
    },
    {
     "name": "stdout",
     "output_type": "stream",
     "text": [
      "Test set: Average loss: 0.0021, Accuracy: 6257/10000 (62.57%)\n",
      "\n",
      "Epoch 36\n"
     ]
    },
    {
     "name": "stderr",
     "output_type": "stream",
     "text": [
      "Train: Loss=1.3114 Batch_id=97 Accuracy=51.78: 100%|██████████| 98/98 [00:30<00:00,  3.21it/s]\n",
      "100%|██████████| 20/20 [00:10<00:00,  1.90it/s]\n"
     ]
    },
    {
     "name": "stdout",
     "output_type": "stream",
     "text": [
      "Test set: Average loss: 0.0021, Accuracy: 6303/10000 (63.03%)\n",
      "\n",
      "Epoch 37\n"
     ]
    },
    {
     "name": "stderr",
     "output_type": "stream",
     "text": [
      "Train: Loss=1.2717 Batch_id=97 Accuracy=52.20: 100%|██████████| 98/98 [00:30<00:00,  3.22it/s]\n",
      "100%|██████████| 20/20 [00:09<00:00,  2.09it/s]\n"
     ]
    },
    {
     "name": "stdout",
     "output_type": "stream",
     "text": [
      "Test set: Average loss: 0.0020, Accuracy: 6405/10000 (64.05%)\n",
      "\n",
      "Epoch 38\n"
     ]
    },
    {
     "name": "stderr",
     "output_type": "stream",
     "text": [
      "Train: Loss=1.2920 Batch_id=97 Accuracy=52.70: 100%|██████████| 98/98 [00:30<00:00,  3.19it/s]\n",
      "100%|██████████| 20/20 [00:09<00:00,  2.01it/s]\n"
     ]
    },
    {
     "name": "stdout",
     "output_type": "stream",
     "text": [
      "Test set: Average loss: 0.0020, Accuracy: 6463/10000 (64.63%)\n",
      "\n",
      "Epoch 39\n"
     ]
    },
    {
     "name": "stderr",
     "output_type": "stream",
     "text": [
      "Train: Loss=1.3340 Batch_id=97 Accuracy=52.58: 100%|██████████| 98/98 [00:31<00:00,  3.15it/s]\n",
      "100%|██████████| 20/20 [00:09<00:00,  2.00it/s]\n"
     ]
    },
    {
     "name": "stdout",
     "output_type": "stream",
     "text": [
      "Test set: Average loss: 0.0020, Accuracy: 6512/10000 (65.12%)\n",
      "\n",
      "Epoch 40\n"
     ]
    },
    {
     "name": "stderr",
     "output_type": "stream",
     "text": [
      "Train: Loss=1.4250 Batch_id=97 Accuracy=52.79: 100%|██████████| 98/98 [00:31<00:00,  3.07it/s]\n",
      "100%|██████████| 20/20 [00:09<00:00,  2.03it/s]\n"
     ]
    },
    {
     "name": "stdout",
     "output_type": "stream",
     "text": [
      "Test set: Average loss: 0.0020, Accuracy: 6563/10000 (65.63%)\n",
      "\n",
      "Epoch 41\n"
     ]
    },
    {
     "name": "stderr",
     "output_type": "stream",
     "text": [
      "Train: Loss=1.2787 Batch_id=97 Accuracy=53.35: 100%|██████████| 98/98 [00:32<00:00,  3.06it/s]\n",
      "100%|██████████| 20/20 [00:10<00:00,  1.98it/s]\n"
     ]
    },
    {
     "name": "stdout",
     "output_type": "stream",
     "text": [
      "Test set: Average loss: 0.0019, Accuracy: 6573/10000 (65.73%)\n",
      "\n",
      "Epoch 42\n"
     ]
    },
    {
     "name": "stderr",
     "output_type": "stream",
     "text": [
      "Train: Loss=1.3535 Batch_id=97 Accuracy=53.32: 100%|██████████| 98/98 [00:31<00:00,  3.07it/s]\n",
      "100%|██████████| 20/20 [00:10<00:00,  1.88it/s]\n"
     ]
    },
    {
     "name": "stdout",
     "output_type": "stream",
     "text": [
      "Test set: Average loss: 0.0020, Accuracy: 6499/10000 (64.99%)\n",
      "\n",
      "Epoch 43\n"
     ]
    },
    {
     "name": "stderr",
     "output_type": "stream",
     "text": [
      "Train: Loss=1.3641 Batch_id=97 Accuracy=53.58: 100%|██████████| 98/98 [00:32<00:00,  2.99it/s]\n",
      "100%|██████████| 20/20 [00:09<00:00,  2.10it/s]\n"
     ]
    },
    {
     "name": "stdout",
     "output_type": "stream",
     "text": [
      "Test set: Average loss: 0.0019, Accuracy: 6624/10000 (66.24%)\n",
      "\n",
      "Epoch 44\n"
     ]
    },
    {
     "name": "stderr",
     "output_type": "stream",
     "text": [
      "Train: Loss=1.3817 Batch_id=97 Accuracy=53.74: 100%|██████████| 98/98 [00:32<00:00,  3.03it/s]\n",
      "100%|██████████| 20/20 [00:09<00:00,  2.02it/s]\n"
     ]
    },
    {
     "name": "stdout",
     "output_type": "stream",
     "text": [
      "Test set: Average loss: 0.0019, Accuracy: 6571/10000 (65.71%)\n",
      "\n",
      "Epoch 45\n"
     ]
    },
    {
     "name": "stderr",
     "output_type": "stream",
     "text": [
      "Train: Loss=1.2938 Batch_id=97 Accuracy=54.17: 100%|██████████| 98/98 [00:31<00:00,  3.07it/s]\n",
      "100%|██████████| 20/20 [00:10<00:00,  1.98it/s]\n"
     ]
    },
    {
     "name": "stdout",
     "output_type": "stream",
     "text": [
      "Test set: Average loss: 0.0019, Accuracy: 6583/10000 (65.83%)\n",
      "\n",
      "Epoch 46\n"
     ]
    },
    {
     "name": "stderr",
     "output_type": "stream",
     "text": [
      "Train: Loss=1.2443 Batch_id=97 Accuracy=54.38: 100%|██████████| 98/98 [00:31<00:00,  3.08it/s]\n",
      "100%|██████████| 20/20 [00:09<00:00,  2.01it/s]\n"
     ]
    },
    {
     "name": "stdout",
     "output_type": "stream",
     "text": [
      "Test set: Average loss: 0.0019, Accuracy: 6658/10000 (66.58%)\n",
      "\n",
      "Epoch 47\n"
     ]
    },
    {
     "name": "stderr",
     "output_type": "stream",
     "text": [
      "Train: Loss=1.2307 Batch_id=97 Accuracy=54.30: 100%|██████████| 98/98 [00:31<00:00,  3.15it/s]\n",
      "100%|██████████| 20/20 [00:09<00:00,  2.04it/s]\n"
     ]
    },
    {
     "name": "stdout",
     "output_type": "stream",
     "text": [
      "Test set: Average loss: 0.0019, Accuracy: 6646/10000 (66.46%)\n",
      "\n",
      "Epoch 48\n"
     ]
    },
    {
     "name": "stderr",
     "output_type": "stream",
     "text": [
      "Train: Loss=1.2761 Batch_id=97 Accuracy=54.75: 100%|██████████| 98/98 [00:31<00:00,  3.11it/s]\n",
      "100%|██████████| 20/20 [00:11<00:00,  1.80it/s]\n"
     ]
    },
    {
     "name": "stdout",
     "output_type": "stream",
     "text": [
      "Test set: Average loss: 0.0019, Accuracy: 6605/10000 (66.05%)\n",
      "\n",
      "Epoch 49\n"
     ]
    },
    {
     "name": "stderr",
     "output_type": "stream",
     "text": [
      "Train: Loss=1.2526 Batch_id=97 Accuracy=55.40: 100%|██████████| 98/98 [00:32<00:00,  3.00it/s]\n",
      "100%|██████████| 20/20 [00:09<00:00,  2.05it/s]\n"
     ]
    },
    {
     "name": "stdout",
     "output_type": "stream",
     "text": [
      "Test set: Average loss: 0.0019, Accuracy: 6665/10000 (66.65%)\n",
      "\n",
      "Epoch 50\n"
     ]
    },
    {
     "name": "stderr",
     "output_type": "stream",
     "text": [
      "Train: Loss=1.1768 Batch_id=97 Accuracy=55.38: 100%|██████████| 98/98 [00:31<00:00,  3.07it/s]\n",
      "100%|██████████| 20/20 [00:09<00:00,  2.02it/s]\n"
     ]
    },
    {
     "name": "stdout",
     "output_type": "stream",
     "text": [
      "Test set: Average loss: 0.0018, Accuracy: 6771/10000 (67.71%)\n",
      "\n",
      "Epoch 51\n"
     ]
    },
    {
     "name": "stderr",
     "output_type": "stream",
     "text": [
      "Train: Loss=1.2746 Batch_id=97 Accuracy=55.31: 100%|██████████| 98/98 [00:31<00:00,  3.10it/s]\n",
      "100%|██████████| 20/20 [00:09<00:00,  2.05it/s]\n"
     ]
    },
    {
     "name": "stdout",
     "output_type": "stream",
     "text": [
      "Test set: Average loss: 0.0019, Accuracy: 6742/10000 (67.42%)\n",
      "\n",
      "Epoch 52\n"
     ]
    },
    {
     "name": "stderr",
     "output_type": "stream",
     "text": [
      "Train: Loss=1.0984 Batch_id=97 Accuracy=55.91: 100%|██████████| 98/98 [00:31<00:00,  3.10it/s]\n",
      "100%|██████████| 20/20 [00:10<00:00,  2.00it/s]\n"
     ]
    },
    {
     "name": "stdout",
     "output_type": "stream",
     "text": [
      "Test set: Average loss: 0.0018, Accuracy: 6743/10000 (67.43%)\n",
      "\n",
      "Epoch 53\n"
     ]
    },
    {
     "name": "stderr",
     "output_type": "stream",
     "text": [
      "Train: Loss=1.2398 Batch_id=97 Accuracy=55.60: 100%|██████████| 98/98 [00:31<00:00,  3.07it/s]\n",
      "100%|██████████| 20/20 [00:09<00:00,  2.12it/s]\n"
     ]
    },
    {
     "name": "stdout",
     "output_type": "stream",
     "text": [
      "Test set: Average loss: 0.0018, Accuracy: 6783/10000 (67.83%)\n",
      "\n",
      "Epoch 54\n"
     ]
    },
    {
     "name": "stderr",
     "output_type": "stream",
     "text": [
      "Train: Loss=1.2122 Batch_id=97 Accuracy=56.12: 100%|██████████| 98/98 [00:30<00:00,  3.18it/s]\n",
      "100%|██████████| 20/20 [00:09<00:00,  2.14it/s]\n"
     ]
    },
    {
     "name": "stdout",
     "output_type": "stream",
     "text": [
      "Test set: Average loss: 0.0018, Accuracy: 6771/10000 (67.71%)\n",
      "\n",
      "Epoch 55\n"
     ]
    },
    {
     "name": "stderr",
     "output_type": "stream",
     "text": [
      "Train: Loss=1.2302 Batch_id=97 Accuracy=56.26: 100%|██████████| 98/98 [00:30<00:00,  3.26it/s]\n",
      "100%|██████████| 20/20 [00:09<00:00,  2.19it/s]\n"
     ]
    },
    {
     "name": "stdout",
     "output_type": "stream",
     "text": [
      "Test set: Average loss: 0.0018, Accuracy: 6837/10000 (68.37%)\n",
      "\n",
      "Epoch 56\n"
     ]
    },
    {
     "name": "stderr",
     "output_type": "stream",
     "text": [
      "Train: Loss=1.1141 Batch_id=97 Accuracy=56.59: 100%|██████████| 98/98 [00:29<00:00,  3.29it/s]\n",
      "100%|██████████| 20/20 [00:09<00:00,  2.09it/s]\n"
     ]
    },
    {
     "name": "stdout",
     "output_type": "stream",
     "text": [
      "Test set: Average loss: 0.0018, Accuracy: 6786/10000 (67.86%)\n",
      "\n",
      "Epoch 57\n"
     ]
    },
    {
     "name": "stderr",
     "output_type": "stream",
     "text": [
      "Train: Loss=1.2225 Batch_id=97 Accuracy=56.56: 100%|██████████| 98/98 [00:30<00:00,  3.26it/s]\n",
      "100%|██████████| 20/20 [00:09<00:00,  2.02it/s]\n"
     ]
    },
    {
     "name": "stdout",
     "output_type": "stream",
     "text": [
      "Test set: Average loss: 0.0018, Accuracy: 6828/10000 (68.28%)\n",
      "\n",
      "Epoch 58\n"
     ]
    },
    {
     "name": "stderr",
     "output_type": "stream",
     "text": [
      "Train: Loss=1.2860 Batch_id=97 Accuracy=56.57: 100%|██████████| 98/98 [00:30<00:00,  3.24it/s]\n",
      "100%|██████████| 20/20 [00:09<00:00,  2.16it/s]\n"
     ]
    },
    {
     "name": "stdout",
     "output_type": "stream",
     "text": [
      "Test set: Average loss: 0.0018, Accuracy: 6857/10000 (68.57%)\n",
      "\n",
      "Epoch 59\n"
     ]
    },
    {
     "name": "stderr",
     "output_type": "stream",
     "text": [
      "Train: Loss=1.0702 Batch_id=97 Accuracy=56.79: 100%|██████████| 98/98 [00:30<00:00,  3.25it/s]\n",
      "100%|██████████| 20/20 [00:09<00:00,  2.17it/s]\n"
     ]
    },
    {
     "name": "stdout",
     "output_type": "stream",
     "text": [
      "Test set: Average loss: 0.0018, Accuracy: 6932/10000 (69.32%)\n",
      "\n",
      "Epoch 60\n"
     ]
    },
    {
     "name": "stderr",
     "output_type": "stream",
     "text": [
      "Train: Loss=1.2481 Batch_id=97 Accuracy=57.29: 100%|██████████| 98/98 [00:30<00:00,  3.26it/s]\n",
      "100%|██████████| 20/20 [00:09<00:00,  2.11it/s]\n"
     ]
    },
    {
     "name": "stdout",
     "output_type": "stream",
     "text": [
      "Test set: Average loss: 0.0017, Accuracy: 6965/10000 (69.65%)\n",
      "\n",
      "Epoch 61\n"
     ]
    },
    {
     "name": "stderr",
     "output_type": "stream",
     "text": [
      "Train: Loss=1.2096 Batch_id=97 Accuracy=57.12: 100%|██████████| 98/98 [00:30<00:00,  3.26it/s]\n",
      "100%|██████████| 20/20 [00:09<00:00,  2.18it/s]\n"
     ]
    },
    {
     "name": "stdout",
     "output_type": "stream",
     "text": [
      "Test set: Average loss: 0.0017, Accuracy: 6969/10000 (69.69%)\n",
      "\n",
      "Epoch 62\n"
     ]
    },
    {
     "name": "stderr",
     "output_type": "stream",
     "text": [
      "Train: Loss=1.2209 Batch_id=97 Accuracy=57.62: 100%|██████████| 98/98 [00:29<00:00,  3.30it/s]\n",
      "100%|██████████| 20/20 [00:09<00:00,  2.09it/s]\n"
     ]
    },
    {
     "name": "stdout",
     "output_type": "stream",
     "text": [
      "Test set: Average loss: 0.0018, Accuracy: 6890/10000 (68.90%)\n",
      "\n",
      "Epoch 63\n"
     ]
    },
    {
     "name": "stderr",
     "output_type": "stream",
     "text": [
      "Train: Loss=1.1642 Batch_id=97 Accuracy=57.64: 100%|██████████| 98/98 [00:30<00:00,  3.20it/s]\n",
      "100%|██████████| 20/20 [00:09<00:00,  2.15it/s]\n"
     ]
    },
    {
     "name": "stdout",
     "output_type": "stream",
     "text": [
      "Test set: Average loss: 0.0018, Accuracy: 6961/10000 (69.61%)\n",
      "\n",
      "Epoch 64\n"
     ]
    },
    {
     "name": "stderr",
     "output_type": "stream",
     "text": [
      "Train: Loss=1.2169 Batch_id=97 Accuracy=57.72: 100%|██████████| 98/98 [00:30<00:00,  3.23it/s]\n",
      "100%|██████████| 20/20 [00:09<00:00,  2.18it/s]\n"
     ]
    },
    {
     "name": "stdout",
     "output_type": "stream",
     "text": [
      "Test set: Average loss: 0.0017, Accuracy: 7014/10000 (70.14%)\n",
      "\n",
      "Epoch 65\n"
     ]
    },
    {
     "name": "stderr",
     "output_type": "stream",
     "text": [
      "Train: Loss=1.1779 Batch_id=97 Accuracy=58.22: 100%|██████████| 98/98 [00:29<00:00,  3.29it/s]\n",
      "100%|██████████| 20/20 [00:09<00:00,  2.12it/s]\n"
     ]
    },
    {
     "name": "stdout",
     "output_type": "stream",
     "text": [
      "Test set: Average loss: 0.0017, Accuracy: 6948/10000 (69.48%)\n",
      "\n",
      "Epoch 66\n"
     ]
    },
    {
     "name": "stderr",
     "output_type": "stream",
     "text": [
      "Train: Loss=1.2113 Batch_id=97 Accuracy=58.05: 100%|██████████| 98/98 [00:30<00:00,  3.22it/s]\n",
      "100%|██████████| 20/20 [00:09<00:00,  2.08it/s]\n"
     ]
    },
    {
     "name": "stdout",
     "output_type": "stream",
     "text": [
      "Test set: Average loss: 0.0017, Accuracy: 7005/10000 (70.05%)\n",
      "\n",
      "Epoch 67\n"
     ]
    },
    {
     "name": "stderr",
     "output_type": "stream",
     "text": [
      "Train: Loss=1.1273 Batch_id=97 Accuracy=58.25: 100%|██████████| 98/98 [00:30<00:00,  3.23it/s]\n",
      "100%|██████████| 20/20 [00:09<00:00,  2.10it/s]\n"
     ]
    },
    {
     "name": "stdout",
     "output_type": "stream",
     "text": [
      "Test set: Average loss: 0.0018, Accuracy: 6888/10000 (68.88%)\n",
      "\n",
      "Epoch 68\n"
     ]
    },
    {
     "name": "stderr",
     "output_type": "stream",
     "text": [
      "Train: Loss=1.1410 Batch_id=97 Accuracy=58.22: 100%|██████████| 98/98 [00:31<00:00,  3.16it/s]\n",
      "100%|██████████| 20/20 [00:09<00:00,  2.05it/s]\n"
     ]
    },
    {
     "name": "stdout",
     "output_type": "stream",
     "text": [
      "Test set: Average loss: 0.0017, Accuracy: 7011/10000 (70.11%)\n",
      "\n",
      "Epoch 69\n"
     ]
    },
    {
     "name": "stderr",
     "output_type": "stream",
     "text": [
      "Train: Loss=1.0849 Batch_id=97 Accuracy=58.43: 100%|██████████| 98/98 [00:30<00:00,  3.24it/s]\n",
      "100%|██████████| 20/20 [00:09<00:00,  2.13it/s]\n"
     ]
    },
    {
     "name": "stdout",
     "output_type": "stream",
     "text": [
      "Test set: Average loss: 0.0017, Accuracy: 7109/10000 (71.09%)\n",
      "\n",
      "Epoch 70\n"
     ]
    },
    {
     "name": "stderr",
     "output_type": "stream",
     "text": [
      "Train: Loss=1.1837 Batch_id=97 Accuracy=58.12: 100%|██████████| 98/98 [00:30<00:00,  3.22it/s]\n",
      "100%|██████████| 20/20 [00:09<00:00,  2.09it/s]\n"
     ]
    },
    {
     "name": "stdout",
     "output_type": "stream",
     "text": [
      "Test set: Average loss: 0.0017, Accuracy: 7046/10000 (70.46%)\n",
      "\n",
      "Epoch 71\n"
     ]
    },
    {
     "name": "stderr",
     "output_type": "stream",
     "text": [
      "Train: Loss=1.2430 Batch_id=97 Accuracy=58.59: 100%|██████████| 98/98 [00:30<00:00,  3.25it/s]\n",
      "100%|██████████| 20/20 [00:09<00:00,  2.07it/s]\n"
     ]
    },
    {
     "name": "stdout",
     "output_type": "stream",
     "text": [
      "Test set: Average loss: 0.0017, Accuracy: 6984/10000 (69.84%)\n",
      "\n",
      "Epoch 72\n"
     ]
    },
    {
     "name": "stderr",
     "output_type": "stream",
     "text": [
      "Train: Loss=1.2151 Batch_id=97 Accuracy=58.51: 100%|██████████| 98/98 [00:30<00:00,  3.21it/s]\n",
      "100%|██████████| 20/20 [00:09<00:00,  2.09it/s]\n"
     ]
    },
    {
     "name": "stdout",
     "output_type": "stream",
     "text": [
      "Test set: Average loss: 0.0017, Accuracy: 7134/10000 (71.34%)\n",
      "\n",
      "Epoch 73\n"
     ]
    },
    {
     "name": "stderr",
     "output_type": "stream",
     "text": [
      "Train: Loss=1.1849 Batch_id=97 Accuracy=58.67: 100%|██████████| 98/98 [00:30<00:00,  3.16it/s]\n",
      "100%|██████████| 20/20 [00:10<00:00,  1.95it/s]\n"
     ]
    },
    {
     "name": "stdout",
     "output_type": "stream",
     "text": [
      "Test set: Average loss: 0.0017, Accuracy: 7004/10000 (70.04%)\n",
      "\n",
      "Epoch 74\n"
     ]
    },
    {
     "name": "stderr",
     "output_type": "stream",
     "text": [
      "Train: Loss=1.1807 Batch_id=97 Accuracy=58.97: 100%|██████████| 98/98 [00:30<00:00,  3.23it/s]\n",
      "100%|██████████| 20/20 [00:09<00:00,  2.14it/s]\n"
     ]
    },
    {
     "name": "stdout",
     "output_type": "stream",
     "text": [
      "Test set: Average loss: 0.0016, Accuracy: 7113/10000 (71.13%)\n",
      "\n",
      "Epoch 75\n"
     ]
    },
    {
     "name": "stderr",
     "output_type": "stream",
     "text": [
      "Train: Loss=1.2281 Batch_id=97 Accuracy=59.13: 100%|██████████| 98/98 [00:30<00:00,  3.20it/s]\n",
      "100%|██████████| 20/20 [00:09<00:00,  2.05it/s]\n"
     ]
    },
    {
     "name": "stdout",
     "output_type": "stream",
     "text": [
      "Test set: Average loss: 0.0016, Accuracy: 7149/10000 (71.49%)\n",
      "\n",
      "Epoch 76\n"
     ]
    },
    {
     "name": "stderr",
     "output_type": "stream",
     "text": [
      "Train: Loss=1.0630 Batch_id=97 Accuracy=59.32: 100%|██████████| 98/98 [00:30<00:00,  3.16it/s]\n",
      "100%|██████████| 20/20 [00:10<00:00,  2.00it/s]\n"
     ]
    },
    {
     "name": "stdout",
     "output_type": "stream",
     "text": [
      "Test set: Average loss: 0.0016, Accuracy: 7096/10000 (70.96%)\n",
      "\n",
      "Epoch 77\n"
     ]
    },
    {
     "name": "stderr",
     "output_type": "stream",
     "text": [
      "Train: Loss=1.1524 Batch_id=97 Accuracy=59.42: 100%|██████████| 98/98 [00:31<00:00,  3.14it/s]\n",
      "100%|██████████| 20/20 [00:11<00:00,  1.71it/s]\n"
     ]
    },
    {
     "name": "stdout",
     "output_type": "stream",
     "text": [
      "Test set: Average loss: 0.0016, Accuracy: 7143/10000 (71.43%)\n",
      "\n",
      "Epoch 78\n"
     ]
    },
    {
     "name": "stderr",
     "output_type": "stream",
     "text": [
      "Train: Loss=1.1145 Batch_id=97 Accuracy=59.14: 100%|██████████| 98/98 [00:31<00:00,  3.08it/s]\n",
      "100%|██████████| 20/20 [00:10<00:00,  1.87it/s]\n"
     ]
    },
    {
     "name": "stdout",
     "output_type": "stream",
     "text": [
      "Test set: Average loss: 0.0016, Accuracy: 7163/10000 (71.63%)\n",
      "\n",
      "Epoch 79\n"
     ]
    },
    {
     "name": "stderr",
     "output_type": "stream",
     "text": [
      "Train: Loss=1.1208 Batch_id=97 Accuracy=59.51: 100%|██████████| 98/98 [00:32<00:00,  3.06it/s]\n",
      "100%|██████████| 20/20 [00:09<00:00,  2.03it/s]\n"
     ]
    },
    {
     "name": "stdout",
     "output_type": "stream",
     "text": [
      "Test set: Average loss: 0.0016, Accuracy: 7126/10000 (71.26%)\n",
      "\n",
      "Epoch 80\n"
     ]
    },
    {
     "name": "stderr",
     "output_type": "stream",
     "text": [
      "Train: Loss=1.1438 Batch_id=97 Accuracy=59.69: 100%|██████████| 98/98 [00:31<00:00,  3.10it/s]\n",
      "100%|██████████| 20/20 [00:10<00:00,  1.90it/s]\n"
     ]
    },
    {
     "name": "stdout",
     "output_type": "stream",
     "text": [
      "Test set: Average loss: 0.0016, Accuracy: 7139/10000 (71.39%)\n",
      "\n",
      "Epoch 81\n"
     ]
    },
    {
     "name": "stderr",
     "output_type": "stream",
     "text": [
      "Train: Loss=1.0997 Batch_id=97 Accuracy=59.94: 100%|██████████| 98/98 [00:31<00:00,  3.10it/s]\n",
      "100%|██████████| 20/20 [00:10<00:00,  1.89it/s]\n"
     ]
    },
    {
     "name": "stdout",
     "output_type": "stream",
     "text": [
      "Test set: Average loss: 0.0016, Accuracy: 7191/10000 (71.91%)\n",
      "\n",
      "Epoch 82\n"
     ]
    },
    {
     "name": "stderr",
     "output_type": "stream",
     "text": [
      "Train: Loss=1.1528 Batch_id=97 Accuracy=60.06: 100%|██████████| 98/98 [00:32<00:00,  3.05it/s]\n",
      "100%|██████████| 20/20 [00:09<00:00,  2.00it/s]\n"
     ]
    },
    {
     "name": "stdout",
     "output_type": "stream",
     "text": [
      "Test set: Average loss: 0.0016, Accuracy: 7150/10000 (71.50%)\n",
      "\n",
      "Epoch 83\n"
     ]
    },
    {
     "name": "stderr",
     "output_type": "stream",
     "text": [
      "Train: Loss=1.0823 Batch_id=97 Accuracy=60.12: 100%|██████████| 98/98 [00:32<00:00,  3.04it/s]\n",
      "100%|██████████| 20/20 [00:10<00:00,  1.89it/s]\n"
     ]
    },
    {
     "name": "stdout",
     "output_type": "stream",
     "text": [
      "Test set: Average loss: 0.0016, Accuracy: 7261/10000 (72.61%)\n",
      "\n",
      "Epoch 84\n"
     ]
    },
    {
     "name": "stderr",
     "output_type": "stream",
     "text": [
      "Train: Loss=1.0769 Batch_id=97 Accuracy=59.93: 100%|██████████| 98/98 [00:31<00:00,  3.09it/s]\n",
      "100%|██████████| 20/20 [00:10<00:00,  1.86it/s]\n"
     ]
    },
    {
     "name": "stdout",
     "output_type": "stream",
     "text": [
      "Test set: Average loss: 0.0016, Accuracy: 7206/10000 (72.06%)\n",
      "\n",
      "Epoch 85\n"
     ]
    },
    {
     "name": "stderr",
     "output_type": "stream",
     "text": [
      "Train: Loss=1.2185 Batch_id=97 Accuracy=60.02: 100%|██████████| 98/98 [00:32<00:00,  3.04it/s]\n",
      "100%|██████████| 20/20 [00:12<00:00,  1.58it/s]\n"
     ]
    },
    {
     "name": "stdout",
     "output_type": "stream",
     "text": [
      "Test set: Average loss: 0.0016, Accuracy: 7178/10000 (71.78%)\n",
      "\n",
      "Epoch 86\n"
     ]
    },
    {
     "name": "stderr",
     "output_type": "stream",
     "text": [
      "Train: Loss=1.1023 Batch_id=97 Accuracy=60.10: 100%|██████████| 98/98 [00:34<00:00,  2.83it/s]\n",
      "100%|██████████| 20/20 [00:13<00:00,  1.44it/s]\n"
     ]
    },
    {
     "name": "stdout",
     "output_type": "stream",
     "text": [
      "Test set: Average loss: 0.0016, Accuracy: 7120/10000 (71.20%)\n",
      "\n",
      "Epoch 87\n"
     ]
    },
    {
     "name": "stderr",
     "output_type": "stream",
     "text": [
      "Train: Loss=1.1320 Batch_id=97 Accuracy=60.41: 100%|██████████| 98/98 [00:34<00:00,  2.82it/s]\n",
      "100%|██████████| 20/20 [00:11<00:00,  1.74it/s]\n"
     ]
    },
    {
     "name": "stdout",
     "output_type": "stream",
     "text": [
      "Test set: Average loss: 0.0016, Accuracy: 7190/10000 (71.90%)\n",
      "\n",
      "Epoch 88\n"
     ]
    },
    {
     "name": "stderr",
     "output_type": "stream",
     "text": [
      "Train: Loss=1.0987 Batch_id=97 Accuracy=60.52: 100%|██████████| 98/98 [00:32<00:00,  3.03it/s]\n",
      "100%|██████████| 20/20 [00:11<00:00,  1.71it/s]\n"
     ]
    },
    {
     "name": "stdout",
     "output_type": "stream",
     "text": [
      "Test set: Average loss: 0.0016, Accuracy: 7171/10000 (71.71%)\n",
      "\n",
      "Epoch 89\n"
     ]
    },
    {
     "name": "stderr",
     "output_type": "stream",
     "text": [
      "Train: Loss=1.1016 Batch_id=97 Accuracy=60.54: 100%|██████████| 98/98 [00:32<00:00,  2.98it/s]\n",
      "100%|██████████| 20/20 [00:09<00:00,  2.13it/s]\n"
     ]
    },
    {
     "name": "stdout",
     "output_type": "stream",
     "text": [
      "Test set: Average loss: 0.0016, Accuracy: 7225/10000 (72.25%)\n",
      "\n",
      "Epoch 90\n"
     ]
    },
    {
     "name": "stderr",
     "output_type": "stream",
     "text": [
      "Train: Loss=1.1983 Batch_id=97 Accuracy=60.62: 100%|██████████| 98/98 [00:30<00:00,  3.21it/s]\n",
      "100%|██████████| 20/20 [00:09<00:00,  2.16it/s]\n"
     ]
    },
    {
     "name": "stdout",
     "output_type": "stream",
     "text": [
      "Test set: Average loss: 0.0015, Accuracy: 7313/10000 (73.13%)\n",
      "\n",
      "Epoch 91\n"
     ]
    },
    {
     "name": "stderr",
     "output_type": "stream",
     "text": [
      "Train: Loss=1.0536 Batch_id=97 Accuracy=60.80: 100%|██████████| 98/98 [00:30<00:00,  3.21it/s]\n",
      "100%|██████████| 20/20 [00:09<00:00,  2.12it/s]\n"
     ]
    },
    {
     "name": "stdout",
     "output_type": "stream",
     "text": [
      "Test set: Average loss: 0.0016, Accuracy: 7310/10000 (73.10%)\n",
      "\n",
      "Epoch 92\n"
     ]
    },
    {
     "name": "stderr",
     "output_type": "stream",
     "text": [
      "Train: Loss=1.0961 Batch_id=97 Accuracy=60.48: 100%|██████████| 98/98 [00:30<00:00,  3.21it/s]\n",
      "100%|██████████| 20/20 [00:09<00:00,  2.12it/s]\n"
     ]
    },
    {
     "name": "stdout",
     "output_type": "stream",
     "text": [
      "Test set: Average loss: 0.0016, Accuracy: 7258/10000 (72.58%)\n",
      "\n",
      "Epoch 93\n"
     ]
    },
    {
     "name": "stderr",
     "output_type": "stream",
     "text": [
      "Train: Loss=1.1087 Batch_id=97 Accuracy=60.78: 100%|██████████| 98/98 [00:30<00:00,  3.21it/s]\n",
      "100%|██████████| 20/20 [00:09<00:00,  2.15it/s]\n"
     ]
    },
    {
     "name": "stdout",
     "output_type": "stream",
     "text": [
      "Test set: Average loss: 0.0015, Accuracy: 7323/10000 (73.23%)\n",
      "\n",
      "Epoch 94\n"
     ]
    },
    {
     "name": "stderr",
     "output_type": "stream",
     "text": [
      "Train: Loss=1.1695 Batch_id=97 Accuracy=60.85: 100%|██████████| 98/98 [00:30<00:00,  3.19it/s]\n",
      "100%|██████████| 20/20 [00:09<00:00,  2.16it/s]\n"
     ]
    },
    {
     "name": "stdout",
     "output_type": "stream",
     "text": [
      "Test set: Average loss: 0.0016, Accuracy: 7239/10000 (72.39%)\n",
      "\n",
      "Epoch 95\n"
     ]
    },
    {
     "name": "stderr",
     "output_type": "stream",
     "text": [
      "Train: Loss=1.2102 Batch_id=97 Accuracy=61.02: 100%|██████████| 98/98 [00:30<00:00,  3.20it/s]\n",
      "100%|██████████| 20/20 [00:09<00:00,  2.14it/s]\n"
     ]
    },
    {
     "name": "stdout",
     "output_type": "stream",
     "text": [
      "Test set: Average loss: 0.0016, Accuracy: 7310/10000 (73.10%)\n",
      "\n",
      "Epoch 96\n"
     ]
    },
    {
     "name": "stderr",
     "output_type": "stream",
     "text": [
      "Train: Loss=1.0827 Batch_id=97 Accuracy=60.93: 100%|██████████| 98/98 [00:30<00:00,  3.20it/s]\n",
      "100%|██████████| 20/20 [00:09<00:00,  2.18it/s]\n"
     ]
    },
    {
     "name": "stdout",
     "output_type": "stream",
     "text": [
      "Test set: Average loss: 0.0015, Accuracy: 7361/10000 (73.61%)\n",
      "\n",
      "Epoch 97\n"
     ]
    },
    {
     "name": "stderr",
     "output_type": "stream",
     "text": [
      "Train: Loss=1.1487 Batch_id=97 Accuracy=61.26: 100%|██████████| 98/98 [00:30<00:00,  3.21it/s]\n",
      "100%|██████████| 20/20 [00:09<00:00,  2.13it/s]\n"
     ]
    },
    {
     "name": "stdout",
     "output_type": "stream",
     "text": [
      "Test set: Average loss: 0.0015, Accuracy: 7294/10000 (72.94%)\n",
      "\n",
      "Epoch 98\n"
     ]
    },
    {
     "name": "stderr",
     "output_type": "stream",
     "text": [
      "Train: Loss=1.1729 Batch_id=97 Accuracy=61.27: 100%|██████████| 98/98 [00:30<00:00,  3.20it/s]\n",
      "100%|██████████| 20/20 [00:09<00:00,  2.13it/s]\n"
     ]
    },
    {
     "name": "stdout",
     "output_type": "stream",
     "text": [
      "Test set: Average loss: 0.0015, Accuracy: 7352/10000 (73.52%)\n",
      "\n",
      "Epoch 99\n"
     ]
    },
    {
     "name": "stderr",
     "output_type": "stream",
     "text": [
      "Train: Loss=1.1651 Batch_id=97 Accuracy=61.28: 100%|██████████| 98/98 [00:30<00:00,  3.20it/s]\n",
      "100%|██████████| 20/20 [00:09<00:00,  2.17it/s]\n"
     ]
    },
    {
     "name": "stdout",
     "output_type": "stream",
     "text": [
      "Test set: Average loss: 0.0015, Accuracy: 7329/10000 (73.29%)\n",
      "\n",
      "Epoch 100\n"
     ]
    },
    {
     "name": "stderr",
     "output_type": "stream",
     "text": [
      "Train: Loss=1.1020 Batch_id=97 Accuracy=61.52: 100%|██████████| 98/98 [00:30<00:00,  3.21it/s]\n",
      "100%|██████████| 20/20 [00:09<00:00,  2.13it/s]\n"
     ]
    },
    {
     "name": "stdout",
     "output_type": "stream",
     "text": [
      "Test set: Average loss: 0.0016, Accuracy: 7290/10000 (72.90%)\n",
      "\n",
      "Epoch 101\n"
     ]
    },
    {
     "name": "stderr",
     "output_type": "stream",
     "text": [
      "Train: Loss=1.1729 Batch_id=97 Accuracy=61.57: 100%|██████████| 98/98 [00:30<00:00,  3.20it/s]\n",
      "100%|██████████| 20/20 [00:09<00:00,  2.13it/s]\n"
     ]
    },
    {
     "name": "stdout",
     "output_type": "stream",
     "text": [
      "Test set: Average loss: 0.0016, Accuracy: 7270/10000 (72.70%)\n",
      "\n",
      "Epoch 102\n"
     ]
    },
    {
     "name": "stderr",
     "output_type": "stream",
     "text": [
      "Train: Loss=1.1231 Batch_id=97 Accuracy=61.72: 100%|██████████| 98/98 [00:30<00:00,  3.20it/s]\n",
      "100%|██████████| 20/20 [00:09<00:00,  2.17it/s]\n"
     ]
    },
    {
     "name": "stdout",
     "output_type": "stream",
     "text": [
      "Test set: Average loss: 0.0015, Accuracy: 7373/10000 (73.73%)\n",
      "\n",
      "Epoch 103\n"
     ]
    },
    {
     "name": "stderr",
     "output_type": "stream",
     "text": [
      "Train: Loss=1.1872 Batch_id=97 Accuracy=61.51: 100%|██████████| 98/98 [00:30<00:00,  3.20it/s]\n",
      "100%|██████████| 20/20 [00:09<00:00,  2.13it/s]\n"
     ]
    },
    {
     "name": "stdout",
     "output_type": "stream",
     "text": [
      "Test set: Average loss: 0.0015, Accuracy: 7362/10000 (73.62%)\n",
      "\n",
      "Epoch 104\n"
     ]
    },
    {
     "name": "stderr",
     "output_type": "stream",
     "text": [
      "Train: Loss=1.1942 Batch_id=97 Accuracy=61.30: 100%|██████████| 98/98 [00:30<00:00,  3.21it/s]\n",
      "100%|██████████| 20/20 [00:09<00:00,  2.13it/s]\n"
     ]
    },
    {
     "name": "stdout",
     "output_type": "stream",
     "text": [
      "Test set: Average loss: 0.0015, Accuracy: 7365/10000 (73.65%)\n",
      "\n",
      "Epoch 105\n"
     ]
    },
    {
     "name": "stderr",
     "output_type": "stream",
     "text": [
      "Train: Loss=1.1043 Batch_id=97 Accuracy=61.51: 100%|██████████| 98/98 [00:30<00:00,  3.21it/s]\n",
      "100%|██████████| 20/20 [00:09<00:00,  2.15it/s]\n"
     ]
    },
    {
     "name": "stdout",
     "output_type": "stream",
     "text": [
      "Test set: Average loss: 0.0015, Accuracy: 7335/10000 (73.35%)\n",
      "\n",
      "Epoch 106\n"
     ]
    },
    {
     "name": "stderr",
     "output_type": "stream",
     "text": [
      "Train: Loss=1.0937 Batch_id=97 Accuracy=61.60: 100%|██████████| 98/98 [00:30<00:00,  3.21it/s]\n",
      "100%|██████████| 20/20 [00:09<00:00,  2.12it/s]\n"
     ]
    },
    {
     "name": "stdout",
     "output_type": "stream",
     "text": [
      "Test set: Average loss: 0.0015, Accuracy: 7313/10000 (73.13%)\n",
      "\n",
      "Epoch 107\n"
     ]
    },
    {
     "name": "stderr",
     "output_type": "stream",
     "text": [
      "Train: Loss=1.1506 Batch_id=97 Accuracy=62.11: 100%|██████████| 98/98 [00:30<00:00,  3.21it/s]\n",
      "100%|██████████| 20/20 [00:09<00:00,  2.12it/s]\n"
     ]
    },
    {
     "name": "stdout",
     "output_type": "stream",
     "text": [
      "Test set: Average loss: 0.0015, Accuracy: 7301/10000 (73.01%)\n",
      "\n",
      "Epoch 108\n"
     ]
    },
    {
     "name": "stderr",
     "output_type": "stream",
     "text": [
      "Train: Loss=1.0828 Batch_id=97 Accuracy=61.84: 100%|██████████| 98/98 [00:30<00:00,  3.20it/s]\n",
      "100%|██████████| 20/20 [00:09<00:00,  2.14it/s]\n"
     ]
    },
    {
     "name": "stdout",
     "output_type": "stream",
     "text": [
      "Test set: Average loss: 0.0015, Accuracy: 7327/10000 (73.27%)\n",
      "\n",
      "Epoch 109\n"
     ]
    },
    {
     "name": "stderr",
     "output_type": "stream",
     "text": [
      "Train: Loss=1.0879 Batch_id=97 Accuracy=62.03: 100%|██████████| 98/98 [00:30<00:00,  3.20it/s]\n",
      "100%|██████████| 20/20 [00:09<00:00,  2.13it/s]\n"
     ]
    },
    {
     "name": "stdout",
     "output_type": "stream",
     "text": [
      "Test set: Average loss: 0.0015, Accuracy: 7316/10000 (73.16%)\n",
      "\n",
      "Epoch 110\n"
     ]
    },
    {
     "name": "stderr",
     "output_type": "stream",
     "text": [
      "Train: Loss=1.0423 Batch_id=97 Accuracy=62.21: 100%|██████████| 98/98 [00:30<00:00,  3.21it/s]\n",
      "100%|██████████| 20/20 [00:09<00:00,  2.11it/s]\n"
     ]
    },
    {
     "name": "stdout",
     "output_type": "stream",
     "text": [
      "Test set: Average loss: 0.0015, Accuracy: 7325/10000 (73.25%)\n",
      "\n",
      "Epoch 111\n"
     ]
    },
    {
     "name": "stderr",
     "output_type": "stream",
     "text": [
      "Train: Loss=1.0503 Batch_id=97 Accuracy=62.01: 100%|██████████| 98/98 [00:30<00:00,  3.21it/s]\n",
      "100%|██████████| 20/20 [00:09<00:00,  2.11it/s]\n"
     ]
    },
    {
     "name": "stdout",
     "output_type": "stream",
     "text": [
      "Test set: Average loss: 0.0015, Accuracy: 7391/10000 (73.91%)\n",
      "\n",
      "Epoch 112\n"
     ]
    },
    {
     "name": "stderr",
     "output_type": "stream",
     "text": [
      "Train: Loss=1.0687 Batch_id=97 Accuracy=61.98: 100%|██████████| 98/98 [00:30<00:00,  3.19it/s]\n",
      "100%|██████████| 20/20 [00:09<00:00,  2.13it/s]\n"
     ]
    },
    {
     "name": "stdout",
     "output_type": "stream",
     "text": [
      "Test set: Average loss: 0.0015, Accuracy: 7411/10000 (74.11%)\n",
      "\n",
      "Epoch 113\n"
     ]
    },
    {
     "name": "stderr",
     "output_type": "stream",
     "text": [
      "Train: Loss=1.0491 Batch_id=97 Accuracy=62.37: 100%|██████████| 98/98 [00:30<00:00,  3.21it/s]\n",
      "100%|██████████| 20/20 [00:09<00:00,  2.15it/s]\n"
     ]
    },
    {
     "name": "stdout",
     "output_type": "stream",
     "text": [
      "Test set: Average loss: 0.0015, Accuracy: 7434/10000 (74.34%)\n",
      "\n",
      "Epoch 114\n"
     ]
    },
    {
     "name": "stderr",
     "output_type": "stream",
     "text": [
      "Train: Loss=1.1184 Batch_id=97 Accuracy=62.36: 100%|██████████| 98/98 [00:30<00:00,  3.19it/s]\n",
      "100%|██████████| 20/20 [00:09<00:00,  2.13it/s]\n"
     ]
    },
    {
     "name": "stdout",
     "output_type": "stream",
     "text": [
      "Test set: Average loss: 0.0015, Accuracy: 7430/10000 (74.30%)\n",
      "\n",
      "Epoch 115\n"
     ]
    },
    {
     "name": "stderr",
     "output_type": "stream",
     "text": [
      "Train: Loss=1.0663 Batch_id=97 Accuracy=62.24: 100%|██████████| 98/98 [00:30<00:00,  3.22it/s]\n",
      "100%|██████████| 20/20 [00:09<00:00,  2.13it/s]\n"
     ]
    },
    {
     "name": "stdout",
     "output_type": "stream",
     "text": [
      "Test set: Average loss: 0.0015, Accuracy: 7407/10000 (74.07%)\n",
      "\n",
      "Epoch 116\n"
     ]
    },
    {
     "name": "stderr",
     "output_type": "stream",
     "text": [
      "Train: Loss=1.1410 Batch_id=97 Accuracy=62.46: 100%|██████████| 98/98 [00:30<00:00,  3.20it/s]\n",
      "100%|██████████| 20/20 [00:09<00:00,  2.13it/s]\n"
     ]
    },
    {
     "name": "stdout",
     "output_type": "stream",
     "text": [
      "Test set: Average loss: 0.0015, Accuracy: 7385/10000 (73.85%)\n",
      "\n",
      "Epoch 117\n"
     ]
    },
    {
     "name": "stderr",
     "output_type": "stream",
     "text": [
      "Train: Loss=1.1434 Batch_id=97 Accuracy=62.45: 100%|██████████| 98/98 [00:30<00:00,  3.21it/s]\n",
      "100%|██████████| 20/20 [00:09<00:00,  2.16it/s]\n"
     ]
    },
    {
     "name": "stdout",
     "output_type": "stream",
     "text": [
      "Test set: Average loss: 0.0015, Accuracy: 7473/10000 (74.73%)\n",
      "\n",
      "Epoch 118\n"
     ]
    },
    {
     "name": "stderr",
     "output_type": "stream",
     "text": [
      "Train: Loss=1.0826 Batch_id=97 Accuracy=62.46: 100%|██████████| 98/98 [00:30<00:00,  3.21it/s]\n",
      "100%|██████████| 20/20 [00:09<00:00,  2.16it/s]\n"
     ]
    },
    {
     "name": "stdout",
     "output_type": "stream",
     "text": [
      "Test set: Average loss: 0.0015, Accuracy: 7402/10000 (74.02%)\n",
      "\n",
      "Epoch 119\n"
     ]
    },
    {
     "name": "stderr",
     "output_type": "stream",
     "text": [
      "Train: Loss=1.1972 Batch_id=97 Accuracy=61.97: 100%|██████████| 98/98 [00:30<00:00,  3.21it/s]\n",
      "100%|██████████| 20/20 [00:09<00:00,  2.17it/s]\n"
     ]
    },
    {
     "name": "stdout",
     "output_type": "stream",
     "text": [
      "Test set: Average loss: 0.0015, Accuracy: 7454/10000 (74.54%)\n",
      "\n",
      "Epoch 120\n"
     ]
    },
    {
     "name": "stderr",
     "output_type": "stream",
     "text": [
      "Train: Loss=1.0584 Batch_id=97 Accuracy=62.85: 100%|██████████| 98/98 [00:30<00:00,  3.19it/s]\n",
      "100%|██████████| 20/20 [00:09<00:00,  2.16it/s]\n"
     ]
    },
    {
     "name": "stdout",
     "output_type": "stream",
     "text": [
      "Test set: Average loss: 0.0015, Accuracy: 7472/10000 (74.72%)\n",
      "\n",
      "Epoch 121\n"
     ]
    },
    {
     "name": "stderr",
     "output_type": "stream",
     "text": [
      "Train: Loss=1.0629 Batch_id=97 Accuracy=62.74: 100%|██████████| 98/98 [00:30<00:00,  3.19it/s]\n",
      "100%|██████████| 20/20 [00:09<00:00,  2.15it/s]\n"
     ]
    },
    {
     "name": "stdout",
     "output_type": "stream",
     "text": [
      "Test set: Average loss: 0.0015, Accuracy: 7423/10000 (74.23%)\n",
      "\n",
      "Epoch 122\n"
     ]
    },
    {
     "name": "stderr",
     "output_type": "stream",
     "text": [
      "Train: Loss=1.0123 Batch_id=97 Accuracy=62.38: 100%|██████████| 98/98 [00:30<00:00,  3.22it/s]\n",
      "100%|██████████| 20/20 [00:09<00:00,  2.12it/s]\n"
     ]
    },
    {
     "name": "stdout",
     "output_type": "stream",
     "text": [
      "Test set: Average loss: 0.0015, Accuracy: 7431/10000 (74.31%)\n",
      "\n",
      "Epoch 123\n"
     ]
    },
    {
     "name": "stderr",
     "output_type": "stream",
     "text": [
      "Train: Loss=1.0306 Batch_id=97 Accuracy=63.02: 100%|██████████| 98/98 [00:30<00:00,  3.21it/s]\n",
      "100%|██████████| 20/20 [00:09<00:00,  2.13it/s]\n"
     ]
    },
    {
     "name": "stdout",
     "output_type": "stream",
     "text": [
      "Test set: Average loss: 0.0015, Accuracy: 7467/10000 (74.67%)\n",
      "\n",
      "Epoch 124\n"
     ]
    },
    {
     "name": "stderr",
     "output_type": "stream",
     "text": [
      "Train: Loss=1.1957 Batch_id=97 Accuracy=62.80: 100%|██████████| 98/98 [00:30<00:00,  3.19it/s]\n",
      "100%|██████████| 20/20 [00:09<00:00,  2.15it/s]\n"
     ]
    },
    {
     "name": "stdout",
     "output_type": "stream",
     "text": [
      "Test set: Average loss: 0.0015, Accuracy: 7430/10000 (74.30%)\n",
      "\n",
      "Epoch 125\n"
     ]
    },
    {
     "name": "stderr",
     "output_type": "stream",
     "text": [
      "Train: Loss=1.0237 Batch_id=97 Accuracy=62.82: 100%|██████████| 98/98 [00:30<00:00,  3.20it/s]\n",
      "100%|██████████| 20/20 [00:09<00:00,  2.14it/s]\n"
     ]
    },
    {
     "name": "stdout",
     "output_type": "stream",
     "text": [
      "Test set: Average loss: 0.0015, Accuracy: 7468/10000 (74.68%)\n",
      "\n",
      "Epoch 126\n"
     ]
    },
    {
     "name": "stderr",
     "output_type": "stream",
     "text": [
      "Train: Loss=1.0985 Batch_id=97 Accuracy=62.96: 100%|██████████| 98/98 [00:30<00:00,  3.21it/s]\n",
      "100%|██████████| 20/20 [00:09<00:00,  2.12it/s]\n"
     ]
    },
    {
     "name": "stdout",
     "output_type": "stream",
     "text": [
      "Test set: Average loss: 0.0015, Accuracy: 7384/10000 (73.84%)\n",
      "\n",
      "Epoch 127\n"
     ]
    },
    {
     "name": "stderr",
     "output_type": "stream",
     "text": [
      "Train: Loss=0.9581 Batch_id=97 Accuracy=63.08: 100%|██████████| 98/98 [00:30<00:00,  3.20it/s]\n",
      "100%|██████████| 20/20 [00:09<00:00,  2.13it/s]\n"
     ]
    },
    {
     "name": "stdout",
     "output_type": "stream",
     "text": [
      "Test set: Average loss: 0.0014, Accuracy: 7485/10000 (74.85%)\n",
      "\n",
      "Epoch 128\n"
     ]
    },
    {
     "name": "stderr",
     "output_type": "stream",
     "text": [
      "Train: Loss=0.9697 Batch_id=97 Accuracy=62.60: 100%|██████████| 98/98 [00:30<00:00,  3.20it/s]\n",
      "100%|██████████| 20/20 [00:09<00:00,  2.14it/s]\n"
     ]
    },
    {
     "name": "stdout",
     "output_type": "stream",
     "text": [
      "Test set: Average loss: 0.0014, Accuracy: 7484/10000 (74.84%)\n",
      "\n",
      "Epoch 129\n"
     ]
    },
    {
     "name": "stderr",
     "output_type": "stream",
     "text": [
      "Train: Loss=1.0116 Batch_id=97 Accuracy=63.22: 100%|██████████| 98/98 [00:30<00:00,  3.20it/s]\n",
      "100%|██████████| 20/20 [00:09<00:00,  2.12it/s]\n"
     ]
    },
    {
     "name": "stdout",
     "output_type": "stream",
     "text": [
      "Test set: Average loss: 0.0015, Accuracy: 7447/10000 (74.47%)\n",
      "\n",
      "Epoch 130\n"
     ]
    },
    {
     "name": "stderr",
     "output_type": "stream",
     "text": [
      "Train: Loss=1.0102 Batch_id=97 Accuracy=62.97: 100%|██████████| 98/98 [00:30<00:00,  3.19it/s]\n",
      "100%|██████████| 20/20 [00:09<00:00,  2.16it/s]\n"
     ]
    },
    {
     "name": "stdout",
     "output_type": "stream",
     "text": [
      "Test set: Average loss: 0.0015, Accuracy: 7439/10000 (74.39%)\n",
      "\n",
      "Epoch 131\n"
     ]
    },
    {
     "name": "stderr",
     "output_type": "stream",
     "text": [
      "Train: Loss=1.0265 Batch_id=97 Accuracy=62.98: 100%|██████████| 98/98 [00:30<00:00,  3.20it/s]\n",
      "100%|██████████| 20/20 [00:09<00:00,  2.12it/s]\n"
     ]
    },
    {
     "name": "stdout",
     "output_type": "stream",
     "text": [
      "Test set: Average loss: 0.0015, Accuracy: 7486/10000 (74.86%)\n",
      "\n",
      "Epoch 132\n"
     ]
    },
    {
     "name": "stderr",
     "output_type": "stream",
     "text": [
      "Train: Loss=1.1155 Batch_id=97 Accuracy=62.81: 100%|██████████| 98/98 [00:30<00:00,  3.21it/s]\n",
      "100%|██████████| 20/20 [00:09<00:00,  2.12it/s]\n"
     ]
    },
    {
     "name": "stdout",
     "output_type": "stream",
     "text": [
      "Test set: Average loss: 0.0014, Accuracy: 7499/10000 (74.99%)\n",
      "\n",
      "Epoch 133\n"
     ]
    },
    {
     "name": "stderr",
     "output_type": "stream",
     "text": [
      "Train: Loss=1.0979 Batch_id=97 Accuracy=62.96: 100%|██████████| 98/98 [00:30<00:00,  3.21it/s]\n",
      "100%|██████████| 20/20 [00:09<00:00,  2.18it/s]\n"
     ]
    },
    {
     "name": "stdout",
     "output_type": "stream",
     "text": [
      "Test set: Average loss: 0.0014, Accuracy: 7492/10000 (74.92%)\n",
      "\n",
      "Epoch 134\n"
     ]
    },
    {
     "name": "stderr",
     "output_type": "stream",
     "text": [
      "Train: Loss=1.0982 Batch_id=97 Accuracy=63.43: 100%|██████████| 98/98 [00:30<00:00,  3.23it/s]\n",
      "100%|██████████| 20/20 [00:09<00:00,  2.15it/s]\n"
     ]
    },
    {
     "name": "stdout",
     "output_type": "stream",
     "text": [
      "Test set: Average loss: 0.0014, Accuracy: 7573/10000 (75.73%)\n",
      "\n",
      "Epoch 135\n"
     ]
    },
    {
     "name": "stderr",
     "output_type": "stream",
     "text": [
      "Train: Loss=1.0178 Batch_id=97 Accuracy=63.44: 100%|██████████| 98/98 [00:30<00:00,  3.21it/s]\n",
      "100%|██████████| 20/20 [00:09<00:00,  2.13it/s]\n"
     ]
    },
    {
     "name": "stdout",
     "output_type": "stream",
     "text": [
      "Test set: Average loss: 0.0014, Accuracy: 7550/10000 (75.50%)\n",
      "\n",
      "Epoch 136\n"
     ]
    },
    {
     "name": "stderr",
     "output_type": "stream",
     "text": [
      "Train: Loss=1.0184 Batch_id=97 Accuracy=63.04: 100%|██████████| 98/98 [00:30<00:00,  3.21it/s]\n",
      "100%|██████████| 20/20 [00:09<00:00,  2.12it/s]\n"
     ]
    },
    {
     "name": "stdout",
     "output_type": "stream",
     "text": [
      "Test set: Average loss: 0.0015, Accuracy: 7490/10000 (74.90%)\n",
      "\n",
      "Epoch 137\n"
     ]
    },
    {
     "name": "stderr",
     "output_type": "stream",
     "text": [
      "Train: Loss=1.0965 Batch_id=97 Accuracy=63.07: 100%|██████████| 98/98 [00:30<00:00,  3.22it/s]\n",
      "100%|██████████| 20/20 [00:09<00:00,  2.14it/s]\n"
     ]
    },
    {
     "name": "stdout",
     "output_type": "stream",
     "text": [
      "Test set: Average loss: 0.0014, Accuracy: 7494/10000 (74.94%)\n",
      "\n",
      "Epoch 138\n"
     ]
    },
    {
     "name": "stderr",
     "output_type": "stream",
     "text": [
      "Train: Loss=1.0817 Batch_id=97 Accuracy=63.50: 100%|██████████| 98/98 [00:30<00:00,  3.21it/s]\n",
      "100%|██████████| 20/20 [00:09<00:00,  2.13it/s]\n"
     ]
    },
    {
     "name": "stdout",
     "output_type": "stream",
     "text": [
      "Test set: Average loss: 0.0014, Accuracy: 7518/10000 (75.18%)\n",
      "\n",
      "Epoch 139\n"
     ]
    },
    {
     "name": "stderr",
     "output_type": "stream",
     "text": [
      "Train: Loss=1.1840 Batch_id=97 Accuracy=63.18: 100%|██████████| 98/98 [00:30<00:00,  3.22it/s]\n",
      "100%|██████████| 20/20 [00:09<00:00,  2.15it/s]\n"
     ]
    },
    {
     "name": "stdout",
     "output_type": "stream",
     "text": [
      "Test set: Average loss: 0.0014, Accuracy: 7502/10000 (75.02%)\n",
      "\n",
      "Epoch 140\n"
     ]
    },
    {
     "name": "stderr",
     "output_type": "stream",
     "text": [
      "Train: Loss=1.0732 Batch_id=97 Accuracy=63.19: 100%|██████████| 98/98 [00:30<00:00,  3.20it/s]\n",
      "100%|██████████| 20/20 [00:09<00:00,  2.12it/s]\n"
     ]
    },
    {
     "name": "stdout",
     "output_type": "stream",
     "text": [
      "Test set: Average loss: 0.0014, Accuracy: 7515/10000 (75.15%)\n",
      "\n",
      "Epoch 141\n"
     ]
    },
    {
     "name": "stderr",
     "output_type": "stream",
     "text": [
      "Train: Loss=0.9796 Batch_id=97 Accuracy=63.74: 100%|██████████| 98/98 [00:30<00:00,  3.21it/s]\n",
      "100%|██████████| 20/20 [00:09<00:00,  2.13it/s]\n"
     ]
    },
    {
     "name": "stdout",
     "output_type": "stream",
     "text": [
      "Test set: Average loss: 0.0014, Accuracy: 7519/10000 (75.19%)\n",
      "\n",
      "Epoch 142\n"
     ]
    },
    {
     "name": "stderr",
     "output_type": "stream",
     "text": [
      "Train: Loss=1.0693 Batch_id=97 Accuracy=63.44: 100%|██████████| 98/98 [00:30<00:00,  3.21it/s]\n",
      "100%|██████████| 20/20 [00:09<00:00,  2.14it/s]\n"
     ]
    },
    {
     "name": "stdout",
     "output_type": "stream",
     "text": [
      "Test set: Average loss: 0.0015, Accuracy: 7448/10000 (74.48%)\n",
      "\n",
      "Epoch 143\n"
     ]
    },
    {
     "name": "stderr",
     "output_type": "stream",
     "text": [
      "Train: Loss=1.0334 Batch_id=97 Accuracy=63.48: 100%|██████████| 98/98 [00:30<00:00,  3.21it/s]\n",
      "100%|██████████| 20/20 [00:09<00:00,  2.14it/s]\n"
     ]
    },
    {
     "name": "stdout",
     "output_type": "stream",
     "text": [
      "Test set: Average loss: 0.0015, Accuracy: 7467/10000 (74.67%)\n",
      "\n",
      "Epoch 144\n"
     ]
    },
    {
     "name": "stderr",
     "output_type": "stream",
     "text": [
      "Train: Loss=1.0057 Batch_id=97 Accuracy=63.62: 100%|██████████| 98/98 [00:30<00:00,  3.21it/s]\n",
      "100%|██████████| 20/20 [00:09<00:00,  2.11it/s]\n"
     ]
    },
    {
     "name": "stdout",
     "output_type": "stream",
     "text": [
      "Test set: Average loss: 0.0015, Accuracy: 7435/10000 (74.35%)\n",
      "\n",
      "Epoch 145\n"
     ]
    },
    {
     "name": "stderr",
     "output_type": "stream",
     "text": [
      "Train: Loss=1.0934 Batch_id=97 Accuracy=63.20: 100%|██████████| 98/98 [00:30<00:00,  3.20it/s]\n",
      "100%|██████████| 20/20 [00:09<00:00,  2.14it/s]\n"
     ]
    },
    {
     "name": "stdout",
     "output_type": "stream",
     "text": [
      "Test set: Average loss: 0.0014, Accuracy: 7516/10000 (75.16%)\n",
      "\n",
      "Epoch 146\n"
     ]
    },
    {
     "name": "stderr",
     "output_type": "stream",
     "text": [
      "Train: Loss=0.8986 Batch_id=97 Accuracy=63.67: 100%|██████████| 98/98 [00:30<00:00,  3.21it/s]\n",
      "100%|██████████| 20/20 [00:09<00:00,  2.11it/s]\n"
     ]
    },
    {
     "name": "stdout",
     "output_type": "stream",
     "text": [
      "Test set: Average loss: 0.0014, Accuracy: 7568/10000 (75.68%)\n",
      "\n",
      "Epoch 147\n"
     ]
    },
    {
     "name": "stderr",
     "output_type": "stream",
     "text": [
      "Train: Loss=1.1280 Batch_id=97 Accuracy=63.77: 100%|██████████| 98/98 [00:30<00:00,  3.19it/s]\n",
      "100%|██████████| 20/20 [00:09<00:00,  2.12it/s]\n"
     ]
    },
    {
     "name": "stdout",
     "output_type": "stream",
     "text": [
      "Test set: Average loss: 0.0014, Accuracy: 7593/10000 (75.93%)\n",
      "\n",
      "Epoch 148\n"
     ]
    },
    {
     "name": "stderr",
     "output_type": "stream",
     "text": [
      "Train: Loss=0.9676 Batch_id=97 Accuracy=63.80: 100%|██████████| 98/98 [00:30<00:00,  3.21it/s]\n",
      "100%|██████████| 20/20 [00:09<00:00,  2.13it/s]\n"
     ]
    },
    {
     "name": "stdout",
     "output_type": "stream",
     "text": [
      "Test set: Average loss: 0.0014, Accuracy: 7562/10000 (75.62%)\n",
      "\n",
      "Epoch 149\n"
     ]
    },
    {
     "name": "stderr",
     "output_type": "stream",
     "text": [
      "Train: Loss=0.9652 Batch_id=97 Accuracy=63.63: 100%|██████████| 98/98 [00:30<00:00,  3.20it/s]\n",
      "100%|██████████| 20/20 [00:09<00:00,  2.13it/s]\n"
     ]
    },
    {
     "name": "stdout",
     "output_type": "stream",
     "text": [
      "Test set: Average loss: 0.0014, Accuracy: 7598/10000 (75.98%)\n",
      "\n",
      "Epoch 150\n"
     ]
    },
    {
     "name": "stderr",
     "output_type": "stream",
     "text": [
      "Train: Loss=1.1478 Batch_id=97 Accuracy=64.11: 100%|██████████| 98/98 [00:30<00:00,  3.21it/s]\n",
      "100%|██████████| 20/20 [00:09<00:00,  2.13it/s]"
     ]
    },
    {
     "name": "stdout",
     "output_type": "stream",
     "text": [
      "Test set: Average loss: 0.0015, Accuracy: 7482/10000 (74.82%)\n",
      "\n"
     ]
    },
    {
     "name": "stderr",
     "output_type": "stream",
     "text": [
      "\n"
     ]
    }
   ],
   "source": [
    "\n",
    "criterion = F.nll_loss\n",
    "num_epochs = 150\n",
    "optimizer_sgd = optim.SGD(model.parameters(), lr=0.1,momentum=0.9)\n",
    "scheduler = optim.lr_scheduler.OneCycleLR(optimizer_sgd,max_lr=1.91e-01,epochs=num_epochs,steps_per_epoch=25)\n",
    "\n",
    "\n",
    "for epoch in range(1, num_epochs+1):\n",
    "  print(f'Epoch {epoch}')\n",
    "  train(model, device, train_loader, optimizer_sgd,criterion)\n",
    "  test(model, device, test_loader, criterion)\n",
    "  scheduler.step()\n",
    "\n"
   ]
  },
  {
   "cell_type": "code",
   "execution_count": 7,
   "metadata": {},
   "outputs": [
    {
     "data": {
      "image/png": "[encoded data removed]",
      "text/plain": [
       "<Figure size 1500x1000 with 4 Axes>"
      ]
     },
     "metadata": {},
     "output_type": "display_data"
    }
   ],
   "source": [
    "plot_acc_loss()"
   ]
  },
  {
   "cell_type": "code",
   "execution_count": null,
   "metadata": {},
   "outputs": [],
   "source": []
  },
  {
   "cell_type": "code",
   "execution_count": null,
   "metadata": {},
   "outputs": [],
   "source": [
    "layers = [\n",
    "    {'kernel_size': 3, 'stride': 1, 'dilation': 1},  # convblock1 starts\n",
    "    {'kernel_size': 3, 'stride': 1, 'dilation': 1},\n",
    "    {'kernel_size': 3, 'stride': 1, 'dilation': 1},\n",
    "    {'kernel_size': 3, 'stride': 1, 'dilation': 2},\n",
    "    {'kernel_size': 3, 'stride': 2, 'dilation': 1},  # convblock1 ends, convblock2 starts\n",
    "    {'kernel_size': 3, 'stride': 1, 'dilation': 1},\n",
    "    {'kernel_size': 3, 'stride': 1, 'dilation': 1},\n",
    "    {'kernel_size': 3, 'stride': 1, 'dilation': 4},\n",
    "    {'kernel_size': 3, 'stride': 2, 'dilation': 1},  # convblock2 ends, convblock3 starts\n",
    "    {'kernel_size': 3, 'stride': 1, 'dilation': 1},\n",
    "    {'kernel_size': 3, 'stride': 1, 'dilation': 1},\n",
    "    {'kernel_size': 3, 'stride': 1, 'dilation': 2},\n",
    "    {'kernel_size': 3, 'stride': 2, 'dilation': 1},  # convblock3 ends, convblock4 starts\n",
    "    {'kernel_size': 3, 'stride': 1, 'dilation': 1},\n",
    "    {'kernel_size': 3, 'stride': 1, 'dilation': 1},\n",
    "    {'kernel_size': 3, 'stride': 1, 'dilation': 2},\n",
    "    {'kernel_size': 3, 'stride': 1, 'dilation': 1}  # convblock4 ends\n",
    "]\n",
    "\n",
    "rf = 1  # Initial receptive field\n",
    "jump = 1\n",
    "\n",
    "for layer in layers:\n",
    "    rf = rf + ((layer['kernel_size'] - 1) * layer['dilation']) * jump\n",
    "    jump *= layer['stride']\n",
    "\n",
    "print(f\"Receptive Field: {rf}\")\n"
   ]
  },
  {
   "cell_type": "code",
   "execution_count": null,
   "metadata": {},
   "outputs": [],
   "source": []
  },
  {
   "cell_type": "code",
   "execution_count": null,
   "metadata": {},
   "outputs": [],
   "source": []
  },
  {
   "cell_type": "code",
   "execution_count": null,
   "metadata": {},
   "outputs": [],
   "source": []
  }
 ],
 "metadata": {
  "kernelspec": {
   "display_name": "pytorch",
   "language": "python",
   "name": "python3"
  },
  "language_info": {
   "codemirror_mode": {
    "name": "ipython",
    "version": 3
   },
   "file_extension": ".py",
   "mimetype": "text/x-python",
   "name": "python",
   "nbconvert_exporter": "python",
   "pygments_lexer": "ipython3",
   "version": "3.11.5"
  }
 },
 "nbformat": 4,
 "nbformat_minor": 2
}
